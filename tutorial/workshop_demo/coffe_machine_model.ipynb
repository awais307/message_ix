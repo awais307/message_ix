{
 "cells": [
  {
   "cell_type": "markdown",
   "metadata": {},
   "source": [
    "# Building a coffee machine energy systems model \n",
    "\n",
    "*This example is designed for the beginners to understand the basics of MESSAGEix framework.*\n",
    "\n",
    "# A stylized reference energy system model \n",
    "\n",
    "<img src=\"coffee_system.png\">"
   ]
  },
  {
   "cell_type": "markdown",
   "metadata": {},
   "source": [
    "# Let's start! "
   ]
  },
  {
   "cell_type": "markdown",
   "metadata": {},
   "source": [
    "## 1) Importing required packages "
   ]
  },
  {
   "cell_type": "code",
   "execution_count": 1,
   "metadata": {},
   "outputs": [],
   "source": [
    "import message_ix\n",
    "import ixmp \n",
    "import pandas as pd "
   ]
  },
  {
   "cell_type": "code",
   "execution_count": 2,
   "metadata": {},
   "outputs": [],
   "source": [
    "mp = ixmp.Platform(name = 'local')"
   ]
  },
  {
   "cell_type": "markdown",
   "metadata": {},
   "source": [
    "## 2) Building a new empty MESSAGEix scenario "
   ]
  },
  {
   "cell_type": "code",
   "execution_count": 3,
   "metadata": {},
   "outputs": [],
   "source": [
    "model = 'coffee_energy_model'\n",
    "scenario = 'test'\n",
    "scen = message_ix.Scenario(mp, model, scenario, version = 'new', annotation = '…')"
   ]
  },
  {
   "cell_type": "code",
   "execution_count": 4,
   "metadata": {},
   "outputs": [
    {
     "data": {
      "text/plain": [
       "0"
      ]
     },
     "execution_count": 4,
     "metadata": {},
     "output_type": "execute_result"
    }
   ],
   "source": [
    "scen.version"
   ]
  },
  {
   "cell_type": "markdown",
   "metadata": {},
   "source": [
    "## 3) Adding spatial & temporal detail "
   ]
  },
  {
   "cell_type": "code",
   "execution_count": 5,
   "metadata": {},
   "outputs": [],
   "source": [
    "scen.add_set('node','my_home')\n",
    "scen.add_set('year',[2020,2021])"
   ]
  },
  {
   "cell_type": "code",
   "execution_count": 28,
   "metadata": {},
   "outputs": [],
   "source": [
    "#scen.set_list()"
   ]
  },
  {
   "cell_type": "code",
   "execution_count": 7,
   "metadata": {},
   "outputs": [],
   "source": [
    "scen.add_set('technology', 'coffee_maker')\n",
    "scen.add_set('commodity', ['water', 'electr', 'coffee_beans', 'coffee_cup']) \n",
    "scen.add_set('level', ['pipe', 'storage', 'grid', 'useful'])\n",
    "scen.add_set('mode', 'normal') # modes of operation of a technology "
   ]
  },
  {
   "cell_type": "code",
   "execution_count": 8,
   "metadata": {},
   "outputs": [
    {
     "data": {
      "text/plain": [
       "0           water\n",
       "1          electr\n",
       "2    coffee_beans\n",
       "3      coffee_cup\n",
       "dtype: object"
      ]
     },
     "execution_count": 8,
     "metadata": {},
     "output_type": "execute_result"
    }
   ],
   "source": [
    "scen.set('commodity')"
   ]
  },
  {
   "cell_type": "markdown",
   "metadata": {},
   "source": [
    "## 4) Adding data to parameters "
   ]
  },
  {
   "cell_type": "code",
   "execution_count": 9,
   "metadata": {},
   "outputs": [
    {
     "data": {
      "text/plain": [
       "['commodity_stock',\n",
       " 'demand',\n",
       " 'resource_cost',\n",
       " 'resource_remaining',\n",
       " 'bound_extraction_up',\n",
       " 'resource_volume',\n",
       " 'technical_lifetime',\n",
       " 'capacity_factor',\n",
       " 'operation_factor',\n",
       " 'min_utilization_factor',\n",
       " 'inv_cost',\n",
       " 'fix_cost',\n",
       " 'var_cost',\n",
       " 'output',\n",
       " 'input',\n",
       " 'abs_cost_new_capacity_soft_up',\n",
       " 'abs_cost_new_capacity_soft_lo',\n",
       " 'level_cost_new_capacity_soft_up',\n",
       " 'level_cost_new_capacity_soft_lo',\n",
       " 'abs_cost_activity_soft_up',\n",
       " 'abs_cost_activity_soft_lo',\n",
       " 'level_cost_activity_soft_up',\n",
       " 'level_cost_activity_soft_lo',\n",
       " 'bound_new_capacity_up',\n",
       " 'bound_new_capacity_lo',\n",
       " 'bound_total_capacity_up',\n",
       " 'bound_total_capacity_lo',\n",
       " 'bound_activity_up',\n",
       " 'bound_activity_lo',\n",
       " 'initial_new_capacity_up',\n",
       " 'growth_new_capacity_up',\n",
       " 'soft_new_capacity_up',\n",
       " 'initial_new_capacity_lo',\n",
       " 'growth_new_capacity_lo',\n",
       " 'soft_new_capacity_lo',\n",
       " 'initial_activity_up',\n",
       " 'growth_activity_up',\n",
       " 'soft_activity_up',\n",
       " 'initial_activity_lo',\n",
       " 'growth_activity_lo',\n",
       " 'soft_activity_lo',\n",
       " 'emission_factor',\n",
       " 'construction_time',\n",
       " 'renewable_potential',\n",
       " 'renewable_capacity_factor',\n",
       " 'reliability_factor',\n",
       " 'peak_load_factor',\n",
       " 'flexibility_factor',\n",
       " 'rating_bin',\n",
       " 'tax',\n",
       " 'subsidy',\n",
       " 'historical_emission',\n",
       " 'emission_scaling',\n",
       " 'bound_emission',\n",
       " 'tax_emission',\n",
       " 'land_cost',\n",
       " 'land_input',\n",
       " 'land_output',\n",
       " 'land_use',\n",
       " 'land_emission',\n",
       " 'initial_land_scen_up',\n",
       " 'growth_land_scen_up',\n",
       " 'initial_land_scen_lo',\n",
       " 'growth_land_scen_lo',\n",
       " 'initial_land_up',\n",
       " 'dynamic_land_up',\n",
       " 'growth_land_up',\n",
       " 'initial_land_lo',\n",
       " 'dynamic_land_lo',\n",
       " 'growth_land_lo',\n",
       " 'relation_upper',\n",
       " 'relation_lower',\n",
       " 'relation_cost',\n",
       " 'relation_new_capacity',\n",
       " 'relation_total_capacity',\n",
       " 'relation_activity',\n",
       " 'duration_period',\n",
       " 'duration_time',\n",
       " 'interestrate',\n",
       " 'historical_extraction',\n",
       " 'historical_new_capacity',\n",
       " 'historical_activity',\n",
       " 'historical_land',\n",
       " 'ref_extraction',\n",
       " 'ref_new_capacity',\n",
       " 'ref_activity',\n",
       " 'ref_relation',\n",
       " 'fixed_extraction',\n",
       " 'fixed_stock',\n",
       " 'fixed_new_capacity',\n",
       " 'fixed_capacity',\n",
       " 'fixed_activity',\n",
       " 'fixed_land',\n",
       " 'historical_gdp',\n",
       " 'share_commodity_up',\n",
       " 'share_commodity_lo',\n",
       " 'share_mode_up',\n",
       " 'share_mode_lo',\n",
       " 'addon_conversion',\n",
       " 'addon_up',\n",
       " 'addon_lo',\n",
       " 'time_order',\n",
       " 'storage_initial',\n",
       " 'storage_self_discharge']"
      ]
     },
     "execution_count": 9,
     "metadata": {},
     "output_type": "execute_result"
    }
   ],
   "source": [
    "scen.par_list()"
   ]
  },
  {
   "cell_type": "code",
   "execution_count": 10,
   "metadata": {},
   "outputs": [
    {
     "data": {
      "text/plain": [
       "['land_cost',\n",
       " 'land_input',\n",
       " 'land_output',\n",
       " 'land_use',\n",
       " 'land_emission',\n",
       " 'initial_land_scen_up',\n",
       " 'growth_land_scen_up',\n",
       " 'initial_land_scen_lo',\n",
       " 'growth_land_scen_lo',\n",
       " 'initial_land_up',\n",
       " 'dynamic_land_up',\n",
       " 'growth_land_up',\n",
       " 'initial_land_lo',\n",
       " 'dynamic_land_lo',\n",
       " 'growth_land_lo',\n",
       " 'historical_land',\n",
       " 'fixed_land']"
      ]
     },
     "execution_count": 10,
     "metadata": {},
     "output_type": "execute_result"
    }
   ],
   "source": [
    "[x for x in scen.par_list() if 'land' in x]"
   ]
  },
  {
   "cell_type": "code",
   "execution_count": 11,
   "metadata": {},
   "outputs": [
    {
     "data": {
      "text/plain": [
       "['node', 'commodity', 'level', 'year', 'time']"
      ]
     },
     "execution_count": 11,
     "metadata": {},
     "output_type": "execute_result"
    }
   ],
   "source": [
    "scen.idx_names('demand')"
   ]
  },
  {
   "cell_type": "code",
   "execution_count": 17,
   "metadata": {},
   "outputs": [],
   "source": [
    "df = pd.DataFrame ({'node' : 'my_home',\n",
    "                    'commodity' : 'coffee_cup',\n",
    "                    'level' : 'useful', \n",
    "                    'year' : [2020,2021],\n",
    "                    'value' : [400, 500], \n",
    "                    'unit' : '-',\n",
    "                    'time': 'year'\n",
    "                   })"
   ]
  },
  {
   "cell_type": "code",
   "execution_count": 15,
   "metadata": {},
   "outputs": [
    {
     "data": {
      "text/html": [
       "<div>\n",
       "<style scoped>\n",
       "    .dataframe tbody tr th:only-of-type {\n",
       "        vertical-align: middle;\n",
       "    }\n",
       "\n",
       "    .dataframe tbody tr th {\n",
       "        vertical-align: top;\n",
       "    }\n",
       "\n",
       "    .dataframe thead th {\n",
       "        text-align: right;\n",
       "    }\n",
       "</style>\n",
       "<table border=\"1\" class=\"dataframe\">\n",
       "  <thead>\n",
       "    <tr style=\"text-align: right;\">\n",
       "      <th></th>\n",
       "      <th>node</th>\n",
       "      <th>commodity</th>\n",
       "      <th>level</th>\n",
       "      <th>year</th>\n",
       "      <th>value</th>\n",
       "      <th>unit</th>\n",
       "      <th>time</th>\n",
       "    </tr>\n",
       "  </thead>\n",
       "  <tbody>\n",
       "    <tr>\n",
       "      <th>0</th>\n",
       "      <td>my_home</td>\n",
       "      <td>coffee_cup</td>\n",
       "      <td>final</td>\n",
       "      <td>2020</td>\n",
       "      <td>400</td>\n",
       "      <td>-</td>\n",
       "      <td>year</td>\n",
       "    </tr>\n",
       "    <tr>\n",
       "      <th>1</th>\n",
       "      <td>my_home</td>\n",
       "      <td>coffee_cup</td>\n",
       "      <td>final</td>\n",
       "      <td>2021</td>\n",
       "      <td>500</td>\n",
       "      <td>-</td>\n",
       "      <td>year</td>\n",
       "    </tr>\n",
       "  </tbody>\n",
       "</table>\n",
       "</div>"
      ],
      "text/plain": [
       "      node   commodity  level  year  value unit  time\n",
       "0  my_home  coffee_cup  final  2020    400    -  year\n",
       "1  my_home  coffee_cup  final  2021    500    -  year"
      ]
     },
     "execution_count": 15,
     "metadata": {},
     "output_type": "execute_result"
    }
   ],
   "source": [
    "df"
   ]
  },
  {
   "cell_type": "code",
   "execution_count": 18,
   "metadata": {},
   "outputs": [],
   "source": [
    "scen.add_par('demand', df)"
   ]
  },
  {
   "cell_type": "code",
   "execution_count": 19,
   "metadata": {},
   "outputs": [
    {
     "data": {
      "text/html": [
       "<div>\n",
       "<style scoped>\n",
       "    .dataframe tbody tr th:only-of-type {\n",
       "        vertical-align: middle;\n",
       "    }\n",
       "\n",
       "    .dataframe tbody tr th {\n",
       "        vertical-align: top;\n",
       "    }\n",
       "\n",
       "    .dataframe thead th {\n",
       "        text-align: right;\n",
       "    }\n",
       "</style>\n",
       "<table border=\"1\" class=\"dataframe\">\n",
       "  <thead>\n",
       "    <tr style=\"text-align: right;\">\n",
       "      <th></th>\n",
       "      <th>node</th>\n",
       "      <th>commodity</th>\n",
       "      <th>level</th>\n",
       "      <th>year</th>\n",
       "      <th>time</th>\n",
       "      <th>value</th>\n",
       "      <th>unit</th>\n",
       "    </tr>\n",
       "  </thead>\n",
       "  <tbody>\n",
       "    <tr>\n",
       "      <th>0</th>\n",
       "      <td>my_home</td>\n",
       "      <td>coffee_cup</td>\n",
       "      <td>useful</td>\n",
       "      <td>2020</td>\n",
       "      <td>year</td>\n",
       "      <td>400.0</td>\n",
       "      <td>-</td>\n",
       "    </tr>\n",
       "    <tr>\n",
       "      <th>1</th>\n",
       "      <td>my_home</td>\n",
       "      <td>coffee_cup</td>\n",
       "      <td>useful</td>\n",
       "      <td>2021</td>\n",
       "      <td>year</td>\n",
       "      <td>500.0</td>\n",
       "      <td>-</td>\n",
       "    </tr>\n",
       "  </tbody>\n",
       "</table>\n",
       "</div>"
      ],
      "text/plain": [
       "      node   commodity   level  year  time  value unit\n",
       "0  my_home  coffee_cup  useful  2020  year  400.0    -\n",
       "1  my_home  coffee_cup  useful  2021  year  500.0    -"
      ]
     },
     "execution_count": 19,
     "metadata": {},
     "output_type": "execute_result"
    }
   ],
   "source": [
    "scen.par('demand')"
   ]
  },
  {
   "cell_type": "code",
   "execution_count": 22,
   "metadata": {},
   "outputs": [
    {
     "data": {
      "text/plain": [
       "['node_loc',\n",
       " 'technology',\n",
       " 'year_vtg',\n",
       " 'year_act',\n",
       " 'mode',\n",
       " 'node_dest',\n",
       " 'commodity',\n",
       " 'level',\n",
       " 'time',\n",
       " 'time_dest']"
      ]
     },
     "execution_count": 22,
     "metadata": {},
     "output_type": "execute_result"
    }
   ],
   "source": [
    "scen.idx_names('output')"
   ]
  },
  {
   "cell_type": "code",
   "execution_count": 25,
   "metadata": {},
   "outputs": [
    {
     "data": {
      "text/html": [
       "<div>\n",
       "<style scoped>\n",
       "    .dataframe tbody tr th:only-of-type {\n",
       "        vertical-align: middle;\n",
       "    }\n",
       "\n",
       "    .dataframe tbody tr th {\n",
       "        vertical-align: top;\n",
       "    }\n",
       "\n",
       "    .dataframe thead th {\n",
       "        text-align: right;\n",
       "    }\n",
       "</style>\n",
       "<table border=\"1\" class=\"dataframe\">\n",
       "  <thead>\n",
       "    <tr style=\"text-align: right;\">\n",
       "      <th></th>\n",
       "      <th>node_loc</th>\n",
       "      <th>node_dest</th>\n",
       "      <th>technology</th>\n",
       "      <th>commodity</th>\n",
       "      <th>level</th>\n",
       "      <th>year_vtg</th>\n",
       "      <th>year_act</th>\n",
       "      <th>mode</th>\n",
       "      <th>value</th>\n",
       "      <th>unit</th>\n",
       "      <th>time</th>\n",
       "      <th>time_dest</th>\n",
       "    </tr>\n",
       "  </thead>\n",
       "  <tbody>\n",
       "    <tr>\n",
       "      <th>0</th>\n",
       "      <td>my_home</td>\n",
       "      <td>my_home</td>\n",
       "      <td>coffee_maker</td>\n",
       "      <td>coffee_cup</td>\n",
       "      <td>useful</td>\n",
       "      <td>2020</td>\n",
       "      <td>2020</td>\n",
       "      <td>normal</td>\n",
       "      <td>1.0</td>\n",
       "      <td>-</td>\n",
       "      <td>year</td>\n",
       "      <td>year</td>\n",
       "    </tr>\n",
       "    <tr>\n",
       "      <th>1</th>\n",
       "      <td>my_home</td>\n",
       "      <td>my_home</td>\n",
       "      <td>coffee_maker</td>\n",
       "      <td>coffee_cup</td>\n",
       "      <td>useful</td>\n",
       "      <td>2021</td>\n",
       "      <td>2021</td>\n",
       "      <td>normal</td>\n",
       "      <td>1.0</td>\n",
       "      <td>-</td>\n",
       "      <td>year</td>\n",
       "      <td>year</td>\n",
       "    </tr>\n",
       "  </tbody>\n",
       "</table>\n",
       "</div>"
      ],
      "text/plain": [
       "  node_loc node_dest    technology   commodity   level  year_vtg  year_act  \\\n",
       "0  my_home   my_home  coffee_maker  coffee_cup  useful      2020      2020   \n",
       "1  my_home   my_home  coffee_maker  coffee_cup  useful      2021      2021   \n",
       "\n",
       "     mode  value unit  time time_dest  \n",
       "0  normal    1.0    -  year      year  \n",
       "1  normal    1.0    -  year      year  "
      ]
     },
     "execution_count": 25,
     "metadata": {},
     "output_type": "execute_result"
    }
   ],
   "source": [
    "df = pd.DataFrame({'node_loc': 'my_home',\n",
    "                   'node_dest': 'my_home',\n",
    "                   'technology': 'coffee_maker',\n",
    "                   'commodity': 'coffee_cup',\n",
    "                   'level': 'useful',\n",
    "                   'year_vtg': [2020, 2021],   # once installed can be active only one period\n",
    "                   'year_act': [2020, 2021],\n",
    "                   'mode': 'normal',\n",
    "                   'value': 1.0,\n",
    "                   'unit': '-',\n",
    "                   'time': 'year',\n",
    "                   'time_dest': 'year',\n",
    "                  })\n",
    "df"
   ]
  },
  {
   "cell_type": "code",
   "execution_count": 26,
   "metadata": {},
   "outputs": [],
   "source": [
    "scen.add_par('output', df)"
   ]
  },
  {
   "cell_type": "code",
   "execution_count": 27,
   "metadata": {},
   "outputs": [
    {
     "data": {
      "text/html": [
       "<div>\n",
       "<style scoped>\n",
       "    .dataframe tbody tr th:only-of-type {\n",
       "        vertical-align: middle;\n",
       "    }\n",
       "\n",
       "    .dataframe tbody tr th {\n",
       "        vertical-align: top;\n",
       "    }\n",
       "\n",
       "    .dataframe thead th {\n",
       "        text-align: right;\n",
       "    }\n",
       "</style>\n",
       "<table border=\"1\" class=\"dataframe\">\n",
       "  <thead>\n",
       "    <tr style=\"text-align: right;\">\n",
       "      <th></th>\n",
       "      <th>node_loc</th>\n",
       "      <th>technology</th>\n",
       "      <th>year_vtg</th>\n",
       "      <th>year_act</th>\n",
       "      <th>mode</th>\n",
       "      <th>node_dest</th>\n",
       "      <th>commodity</th>\n",
       "      <th>level</th>\n",
       "      <th>time</th>\n",
       "      <th>time_dest</th>\n",
       "      <th>value</th>\n",
       "      <th>unit</th>\n",
       "    </tr>\n",
       "  </thead>\n",
       "  <tbody>\n",
       "    <tr>\n",
       "      <th>0</th>\n",
       "      <td>my_home</td>\n",
       "      <td>coffee_maker</td>\n",
       "      <td>2020</td>\n",
       "      <td>2020</td>\n",
       "      <td>normal</td>\n",
       "      <td>my_home</td>\n",
       "      <td>coffee_cup</td>\n",
       "      <td>useful</td>\n",
       "      <td>year</td>\n",
       "      <td>year</td>\n",
       "      <td>1.0</td>\n",
       "      <td>-</td>\n",
       "    </tr>\n",
       "    <tr>\n",
       "      <th>1</th>\n",
       "      <td>my_home</td>\n",
       "      <td>coffee_maker</td>\n",
       "      <td>2021</td>\n",
       "      <td>2021</td>\n",
       "      <td>normal</td>\n",
       "      <td>my_home</td>\n",
       "      <td>coffee_cup</td>\n",
       "      <td>useful</td>\n",
       "      <td>year</td>\n",
       "      <td>year</td>\n",
       "      <td>1.0</td>\n",
       "      <td>-</td>\n",
       "    </tr>\n",
       "  </tbody>\n",
       "</table>\n",
       "</div>"
      ],
      "text/plain": [
       "  node_loc    technology  year_vtg  year_act    mode node_dest   commodity  \\\n",
       "0  my_home  coffee_maker      2020      2020  normal   my_home  coffee_cup   \n",
       "1  my_home  coffee_maker      2021      2021  normal   my_home  coffee_cup   \n",
       "\n",
       "    level  time time_dest  value unit  \n",
       "0  useful  year      year    1.0    -  \n",
       "1  useful  year      year    1.0    -  "
      ]
     },
     "execution_count": 27,
     "metadata": {},
     "output_type": "execute_result"
    }
   ],
   "source": [
    "scen.par('output')"
   ]
  },
  {
   "cell_type": "markdown",
   "metadata": {},
   "source": [
    "## 5) Committing a scenario  "
   ]
  },
  {
   "cell_type": "code",
   "execution_count": 29,
   "metadata": {},
   "outputs": [],
   "source": [
    "scen.commit('my first commit')"
   ]
  },
  {
   "cell_type": "code",
   "execution_count": 30,
   "metadata": {},
   "outputs": [],
   "source": [
    "#This command is for adding more stuff to the particular scenario instance after you have committed \n",
    "#scen.check_out"
   ]
  },
  {
   "cell_type": "markdown",
   "metadata": {},
   "source": [
    "## 6) Solving a scenario"
   ]
  },
  {
   "cell_type": "code",
   "execution_count": 31,
   "metadata": {},
   "outputs": [],
   "source": [
    "scen.solve()"
   ]
  },
  {
   "cell_type": "code",
   "execution_count": 32,
   "metadata": {},
   "outputs": [
    {
     "data": {
      "text/plain": [
       "{'lvl': 0.0, 'mrg': 0.0}"
      ]
     },
     "execution_count": 32,
     "metadata": {},
     "output_type": "execute_result"
    }
   ],
   "source": [
    "scen.var('OBJ')"
   ]
  },
  {
   "cell_type": "code",
   "execution_count": 33,
   "metadata": {},
   "outputs": [
    {
     "data": {
      "text/html": [
       "<div>\n",
       "<style scoped>\n",
       "    .dataframe tbody tr th:only-of-type {\n",
       "        vertical-align: middle;\n",
       "    }\n",
       "\n",
       "    .dataframe tbody tr th {\n",
       "        vertical-align: top;\n",
       "    }\n",
       "\n",
       "    .dataframe thead th {\n",
       "        text-align: right;\n",
       "    }\n",
       "</style>\n",
       "<table border=\"1\" class=\"dataframe\">\n",
       "  <thead>\n",
       "    <tr style=\"text-align: right;\">\n",
       "      <th></th>\n",
       "      <th>node_loc</th>\n",
       "      <th>technology</th>\n",
       "      <th>year_vtg</th>\n",
       "      <th>year_act</th>\n",
       "      <th>mode</th>\n",
       "      <th>time</th>\n",
       "      <th>lvl</th>\n",
       "      <th>mrg</th>\n",
       "    </tr>\n",
       "  </thead>\n",
       "  <tbody>\n",
       "    <tr>\n",
       "      <th>0</th>\n",
       "      <td>my_home</td>\n",
       "      <td>coffee_maker</td>\n",
       "      <td>2020</td>\n",
       "      <td>2020</td>\n",
       "      <td>normal</td>\n",
       "      <td>year</td>\n",
       "      <td>400.0</td>\n",
       "      <td>0.0</td>\n",
       "    </tr>\n",
       "    <tr>\n",
       "      <th>1</th>\n",
       "      <td>my_home</td>\n",
       "      <td>coffee_maker</td>\n",
       "      <td>2021</td>\n",
       "      <td>2021</td>\n",
       "      <td>normal</td>\n",
       "      <td>year</td>\n",
       "      <td>500.0</td>\n",
       "      <td>0.0</td>\n",
       "    </tr>\n",
       "  </tbody>\n",
       "</table>\n",
       "</div>"
      ],
      "text/plain": [
       "  node_loc    technology  year_vtg  year_act    mode  time    lvl  mrg\n",
       "0  my_home  coffee_maker      2020      2020  normal  year  400.0  0.0\n",
       "1  my_home  coffee_maker      2021      2021  normal  year  500.0  0.0"
      ]
     },
     "execution_count": 33,
     "metadata": {},
     "output_type": "execute_result"
    }
   ],
   "source": [
    "scen.var('ACT')"
   ]
  },
  {
   "cell_type": "code",
   "execution_count": 34,
   "metadata": {},
   "outputs": [],
   "source": [
    "mp.close_db()  # This command closes the database "
   ]
  },
  {
   "cell_type": "code",
   "execution_count": 35,
   "metadata": {},
   "outputs": [],
   "source": [
    "# mp.open_db() #This command can be used to open data database again "
   ]
  },
  {
   "cell_type": "markdown",
   "metadata": {},
   "source": [
    "## 7) Homework"
   ]
  },
  {
   "cell_type": "markdown",
   "metadata": {},
   "source": [
    "Please add another year in the model such as 2022. Make sure you make the model consistent throughout the script we did during th workshop session. You may use the same script while noticing where to make changes for addition of a year in your model. "
   ]
  }
 ],
 "metadata": {
  "kernelspec": {
   "display_name": "Python [conda env:root] *",
   "language": "python",
   "name": "conda-root-py"
  },
  "language_info": {
   "codemirror_mode": {
    "name": "ipython",
    "version": 3
   },
   "file_extension": ".py",
   "mimetype": "text/x-python",
   "name": "python",
   "nbconvert_exporter": "python",
   "pygments_lexer": "ipython3",
   "version": "3.7.6"
  }
 },
 "nbformat": 4,
 "nbformat_minor": 4
}
