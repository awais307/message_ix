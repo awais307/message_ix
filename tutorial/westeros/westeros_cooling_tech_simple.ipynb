{
 "cells": [
  {
   "cell_type": "markdown",
   "metadata": {},
   "source": [
    "# Westeros Tutorial - Implementation of cooling technologies\n",
    "\n"
   ]
  },
  {
   "cell_type": "code",
   "execution_count": 1,
   "metadata": {},
   "outputs": [
    {
     "data": {
      "application/javascript": [
       "IPython.OutputArea.prototype._should_scroll = function(lines) { return false; }"
      ],
      "text/plain": [
       "<IPython.core.display.Javascript object>"
      ]
     },
     "metadata": {},
     "output_type": "display_data"
    }
   ],
   "source": [
    "import pandas as pd\n",
    "import ixmp\n",
    "import message_ix\n",
    "\n",
    "from message_ix.utils import make_df\n",
    "from message_ix.reporting import Reporter\n",
    "from ixmp.reporting import configure\n",
    "\n",
    "# configure unit \n",
    "configure(units={'replace': {'-': ''}})"
   ]
  },
  {
   "cell_type": "code",
   "execution_count": 2,
   "metadata": {},
   "outputs": [],
   "source": [
    "mp = ixmp.Platform(name = 'local')"
   ]
  },
  {
   "cell_type": "code",
   "execution_count": 3,
   "metadata": {},
   "outputs": [],
   "source": [
    "model = 'Westeros Electrified'\n",
    "\n",
    "base = message_ix.Scenario(mp, model=model, scenario='baseline')\n",
    "scen = base.clone(model, 'cooling_tech_basin', 'illustrating cooling tech using addon',\n",
    "                  keep_solution=False)\n",
    "scen.check_out()"
   ]
  },
  {
   "cell_type": "code",
   "execution_count": 4,
   "metadata": {},
   "outputs": [],
   "source": [
    "year_df = scen.vintage_and_active_years()\n",
    "vintage_years, act_years = year_df['year_vtg'], year_df['year_act']\n",
    "model_horizon = scen.set('year')\n",
    "country = 'Westeros'"
   ]
  },
  {
   "cell_type": "markdown",
   "metadata": {},
   "source": [
    "## Retrieve parameters to perform subsequent addition of parameters"
   ]
  },
  {
   "cell_type": "code",
   "execution_count": 5,
   "metadata": {},
   "outputs": [],
   "source": [
    "#year_df = scen.vintage_and_active_years()\n",
    "vintage_years, act_years = year_df['year_vtg'], year_df['year_act']\n",
    "model_horizon = scen.set('year')\n",
    "country = 'Westeros'\n",
    "gdp_profile = pd.Series([1., 1.5, 1.9], index=pd.Index([700, 710, 720], name='Time'))"
   ]
  },
  {
   "cell_type": "code",
   "execution_count": 6,
   "metadata": {},
   "outputs": [
    {
     "ename": "NameError",
     "evalue": "name 'scenario' is not defined",
     "output_type": "error",
     "traceback": [
      "\u001b[0;31m--------------------------------------------------------\u001b[0m",
      "\u001b[0;31mNameError\u001b[0m              Traceback (most recent call last)",
      "\u001b[0;32m<ipython-input-6-716ee95fe295>\u001b[0m in \u001b[0;36m<module>\u001b[0;34m\u001b[0m\n\u001b[1;32m      1\u001b[0m \u001b[0mbasin\u001b[0m \u001b[0;34m=\u001b[0m \u001b[0;34m(\u001b[0m\u001b[0;34m'basin_1'\u001b[0m\u001b[0;34m,\u001b[0m \u001b[0;34m'basin_2'\u001b[0m\u001b[0;34m)\u001b[0m\u001b[0;34m\u001b[0m\u001b[0;34m\u001b[0m\u001b[0m\n\u001b[1;32m      2\u001b[0m \u001b[0;34m\u001b[0m\u001b[0m\n\u001b[0;32m----> 3\u001b[0;31m scenario.add_spatial_sets({'region': region,\n\u001b[0m\u001b[1;32m      4\u001b[0m                            \u001b[0;34m'country'\u001b[0m\u001b[0;34m:\u001b[0m\u001b[0mbasin\u001b[0m\u001b[0;34m\u001b[0m\u001b[0;34m\u001b[0m\u001b[0m\n\u001b[1;32m      5\u001b[0m                           })\n",
      "\u001b[0;31mNameError\u001b[0m: name 'scenario' is not defined"
     ]
    }
   ],
   "source": [
    "basin = ('basin_1', 'basin_2')\n",
    "\n",
    "scen.add_spatial_sets({'region': region,\n",
    "                           'country':basin\n",
    "                          })"
   ]
  },
  {
   "cell_type": "code",
   "execution_count": 14,
   "metadata": {},
   "outputs": [],
   "source": [
    "basin = ('basin_1', 'basin_2')\n",
    "\n",
    "scen.add_spatial_sets({ 'basin':basin\n",
    "                          })\n",
    "basin = pd.DataFrame({ \"node_parent\": ('Westeros','Westeros','basin_1', 'basin_2'),\n",
    "                       \"node\": ('basin_1', 'basin_2','basin_1', 'basin_2')})\n",
    "scen.add_set(\"map_node\",basin)"
   ]
  },
  {
   "cell_type": "markdown",
   "metadata": {},
   "source": [
    "### Define helper functions"
   ]
  },
  {
   "cell_type": "code",
   "execution_count": 85,
   "metadata": {},
   "outputs": [],
   "source": [
    "base_input1 = {\n",
    "    'node_loc': country,\n",
    "    'year_vtg': vintage_years,\n",
    "    'year_act': act_years,\n",
    "    'mode': 'standard',\n",
    "    'node_origin': country,\n",
    "    'commodity': 'electricity',\n",
    "    'time': 'year',\n",
    "    'time_origin': 'year',\n",
    "}\n",
    "\n",
    "base_input2 = {\n",
    "    'node_loc': country,\n",
    "    'year_vtg': vintage_years,\n",
    "    'year_act': act_years,\n",
    "    'mode': 'standard',\n",
    "    'node_origin': country,\n",
    "    #'commodity': 'electricity',\n",
    "    'time': 'year',\n",
    "    'time_origin': 'year',\n",
    "}\n",
    "\n",
    "\n",
    "base_output = {\n",
    "    'node_loc': country,\n",
    "    'year_vtg': vintage_years,\n",
    "    'year_act': act_years,\n",
    "    'mode': 'standard',\n",
    "    'node_dest': country,\n",
    "    'time': 'year',\n",
    "    'time_dest': 'year', \n",
    "    'unit': '%',\n",
    "}\n",
    "\n",
    "\n",
    "base_capacity_factor = {\n",
    "    'node_loc': country,\n",
    "    'year_vtg': vintage_years,\n",
    "    'year_act': act_years,\n",
    "    'time': 'year',\n",
    "    'unit': '%',\n",
    "}\n",
    "\n",
    "base_technical_lifetime = {\n",
    "    'node_loc': country,\n",
    "    'year_vtg': model_horizon,\n",
    "    'unit': 'y',\n",
    "}\n",
    "\n",
    "base_inv_cost = {\n",
    "    'node_loc': country,\n",
    "    'year_vtg': model_horizon,\n",
    "    'unit': 'USD/kW',\n",
    "}\n",
    "\n",
    "base_fix_cost = {\n",
    "    'node_loc': country,\n",
    "    'year_vtg': vintage_years,\n",
    "    'year_act': act_years,\n",
    "    'unit': 'USD/kW',\n",
    "}\n",
    "\n",
    "base_var_cost = {\n",
    "    'node_loc': country,\n",
    "    'year_vtg': vintage_years,\n",
    "    'year_act': act_years,\n",
    "    'mode': 'standard',\n",
    "    'time': 'year',\n",
    "    'unit': 'USD/kWa',\n",
    "}\n",
    "\n",
    "base_growth = {\n",
    "    'node_loc': country,\n",
    "    'year_act': model_horizon,\n",
    "    'time': 'year',\n",
    "    'unit': '-',\n",
    "}\n",
    "\n",
    "base_capacity = {\n",
    "    'node_loc': country,\n",
    "    'year_vtg': model_horizon,\n",
    "    'unit': 'GW',\n",
    "}\n",
    "\n",
    "base_activity = {\n",
    "    'node_loc': country,\n",
    "    'year_act': act_years,\n",
    "    'mode': 'standard',\n",
    "    'time': 'year',\n",
    "    'unit': 'GWa',\n",
    "}"
   ]
  },
  {
   "cell_type": "markdown",
   "metadata": {},
   "source": [
    "## Defining new levels and commodities\n",
    "Two new `levels` are added to the model:\n",
    "1. `water_supply` will be used to model the water flows.\n",
    "2. `cooling` will be used to model the cooling requirements."
   ]
  },
  {
   "cell_type": "code",
   "execution_count": 48,
   "metadata": {},
   "outputs": [],
   "source": [
    "scen.add_set(\"commodity\", [\"water_source\",\"water_demand\",\"t_d\"])\n",
    "scen.add_set(\"level\", [\"water_supply\"])\n",
    "scen.add_set(\"technology\", ['freshwater', 'groundwater','saline'])\n",
    "scen.add_set(\"mode\", \"standard\")"
   ]
  },
  {
   "cell_type": "code",
   "execution_count": 69,
   "metadata": {},
   "outputs": [],
   "source": [
    "scen.add_set(\"level\", [\"water_supply_basin\",\"water_supply_region\"])\n",
    "scen.add_set(\"commodity\", [\"freshwater_basin\",\"freshwater_region\",\"salinewater_basin\",\"salinewater_region\"])\n",
    "\n",
    "scen.add_set(\"level\", [\"cooling\"])\n",
    "scen.add_set(\"commodity\", [\"cooling_req\"])"
   ]
  },
  {
   "cell_type": "markdown",
   "metadata": {},
   "source": [
    "### addon technology - interlinking technologies\n",
    "In order to demonstrate the use of this feature, we will be adding a new demand for water to this scenario. This demand will be met by the coal_ppl via three cooling technologies, the addon technology.\n",
    "\n",
    "We will therefore go through the following steps:\n",
    "\n",
    "#### Cooling technology types\n",
    "Add new technologies:\n",
    "1. Once-through cooling by freshwater - `coal_ppl_ot_fresh`\n",
    "2. Closed loop cooling by freshwater - `coal_ppl_cl_fresh`\n",
    "3. Once through cooling seawater `coal_ppl_ot_saline`\n",
    "4. Air cooling `coal_ppl_air`\n",
    "\n",
    "Link these cooling tehcnologies to the `coal_ppl` using the addon feature.\n",
    "\n",
    "## Adding freshwater supply & instream extraction as techs\n",
    "\n",
    "The water supply technologies have only input & output dataframe in model. \n",
    "\n",
    "*At some point, we may want to link it to global water supply model in future\n"
   ]
  },
  {
   "cell_type": "code",
   "execution_count": 70,
   "metadata": {},
   "outputs": [
    {
     "data": {
      "text/plain": [
       "0              secondary\n",
       "1                  final\n",
       "2                 useful\n",
       "3           water_supply\n",
       "4                cooling\n",
       "5     water_supply_basin\n",
       "6    water_supply_region\n",
       "dtype: object"
      ]
     },
     "execution_count": 70,
     "metadata": {},
     "output_type": "execute_result"
    }
   ],
   "source": [
    "scen.set('level')"
   ]
  },
  {
   "cell_type": "code",
   "execution_count": 71,
   "metadata": {},
   "outputs": [],
   "source": [
    "year_df = scen.vintage_and_active_years()\n",
    "vintage_years, act_years = year_df['year_vtg'], year_df['year_act']\n",
    "\n",
    "base = {\n",
    "    'year_vtg': vintage_years,\n",
    "    'year_act': act_years,\n",
    "    'mode': 'standard',\n",
    "    'time': 'year',\n",
    "    'unit': '-',\n",
    "}\n",
    "\n",
    "\n",
    "base_input = make_df(base, time_origin='year')\n",
    "base_output = make_df(base, time_dest='year')"
   ]
  },
  {
   "cell_type": "code",
   "execution_count": 72,
   "metadata": {},
   "outputs": [],
   "source": [
    "df_in = make_df(base_input, technology='freshwater', commodity='freshwater_basin',  \n",
    "                  level='water_supply_basin')\n",
    "\n",
    "basin_value = {'basin_1':75, 'basin_2':45}\n",
    "for node, val in basin_value.items():\n",
    "    df_in1 = make_df(df_in,node_loc = node, node_origin=node, value=1)\n",
    "    scen.add_par('input', df_in1)\n",
    "    \n",
    "df_out = make_df(base_output, technology='freshwater', commodity='freshwater_region', \n",
    "                   level='water_supply_region')\n",
    "\n",
    "\n",
    "for node, val in basin_value.items():\n",
    "    df_out1 = make_df(df_out,node_loc = node , node_dest=country, value=val)\n",
    "    scen.add_par('output', df_out1)"
   ]
  },
  {
   "cell_type": "code",
   "execution_count": 73,
   "metadata": {},
   "outputs": [],
   "source": [
    "df_in = make_df(base_input, technology='saline', commodity='salinewater_basin',  \n",
    "                  level='water_supply_basin')\n",
    "\n",
    "basin_value = {'basin_1':75, 'basin_2':45}\n",
    "for node, val in basin_value.items():\n",
    "    df_in1 = make_df(df_in,node_loc = node, node_origin=node, value=1)\n",
    "    scen.add_par('input', df_in1)\n",
    "    \n",
    "df_out = make_df(base_output, technology='saline', commodity='salinewater_region', \n",
    "                   level='water_supply_region')\n",
    "\n",
    "\n",
    "for node, val in basin_value.items():\n",
    "    df_out1 = make_df(df_out,node_loc = node , node_dest=country, value=val)\n",
    "    scen.add_par('output', df_out1)"
   ]
  },
  {
   "cell_type": "code",
   "execution_count": 74,
   "metadata": {},
   "outputs": [],
   "source": [
    "tecs = {'freshwater': ['water_supply_region', 1.0, 0.0001],\n",
    "        'saline': ['water_supply_region', 1.0, 0.0001]\n",
    "       }\n",
    "      \n",
    "for tec in tecs:\n",
    "#     #scen.add_set('technology', tec)\n",
    "#     df_out = make_df(base_output, technology=tec, commodity=tecs[tec][0], \n",
    "#                      level='water_supply', value=tecs[tec][1])\n",
    "\n",
    "#     scen.add_par('output', df_out)\n",
    "\n",
    "    df_var = make_df(base_var_cost, technology=tec, value=tecs[tec][2])\n",
    "    scen.add_par('var_cost', df_var)"
   ]
  },
  {
   "cell_type": "code",
   "execution_count": 63,
   "metadata": {},
   "outputs": [],
   "source": [
    "# # New Technology used for depicting water sources\n",
    "# # {tech name: [output commodity, output factor, varaible cost]}\n",
    "# tecs = {'freshwater': ['water_supply', 1.0, 0.0001],\n",
    "#         'groundwater': ['water_supply', 1.0, 0.0001]\n",
    "#        }\n",
    "      \n",
    "# for tec in tecs:\n",
    "#     scen.add_set('technology', tec)\n",
    "#     df_out = make_df(base_output, technology=tec, commodity=tecs[tec][0], \n",
    "#                      level='water_supply', value=tecs[tec][1])\n",
    "\n",
    "#     scen.add_par('output', df_out)\n",
    "\n",
    "#     df_var = make_df(base_var_cost, technology=tec, value=tecs[tec][2])\n",
    "#     scen.add_par('var_cost', df_var)"
   ]
  },
  {
   "cell_type": "markdown",
   "metadata": {},
   "source": [
    "### Now we add parameters for cooling technologies\n",
    "\n",
    "We will be using `water required per heat output` for cooling technologies as input value of cooling technology types. \n"
   ]
  },
  {
   "cell_type": "code",
   "execution_count": 84,
   "metadata": {},
   "outputs": [
    {
     "data": {
      "text/html": [
       "<div>\n",
       "<style scoped>\n",
       "    .dataframe tbody tr th:only-of-type {\n",
       "        vertical-align: middle;\n",
       "    }\n",
       "\n",
       "    .dataframe tbody tr th {\n",
       "        vertical-align: top;\n",
       "    }\n",
       "\n",
       "    .dataframe thead th {\n",
       "        text-align: right;\n",
       "    }\n",
       "</style>\n",
       "<table border=\"1\" class=\"dataframe\">\n",
       "  <thead>\n",
       "    <tr style=\"text-align: right;\">\n",
       "      <th></th>\n",
       "      <th>year_vtg</th>\n",
       "      <th>year_act</th>\n",
       "      <th>mode</th>\n",
       "      <th>time</th>\n",
       "      <th>unit</th>\n",
       "      <th>time_origin</th>\n",
       "    </tr>\n",
       "  </thead>\n",
       "  <tbody>\n",
       "    <tr>\n",
       "      <th>0</th>\n",
       "      <td>690</td>\n",
       "      <td>700</td>\n",
       "      <td>standard</td>\n",
       "      <td>year</td>\n",
       "      <td>-</td>\n",
       "      <td>year</td>\n",
       "    </tr>\n",
       "    <tr>\n",
       "      <th>1</th>\n",
       "      <td>690</td>\n",
       "      <td>710</td>\n",
       "      <td>standard</td>\n",
       "      <td>year</td>\n",
       "      <td>-</td>\n",
       "      <td>year</td>\n",
       "    </tr>\n",
       "    <tr>\n",
       "      <th>2</th>\n",
       "      <td>690</td>\n",
       "      <td>720</td>\n",
       "      <td>standard</td>\n",
       "      <td>year</td>\n",
       "      <td>-</td>\n",
       "      <td>year</td>\n",
       "    </tr>\n",
       "    <tr>\n",
       "      <th>3</th>\n",
       "      <td>700</td>\n",
       "      <td>700</td>\n",
       "      <td>standard</td>\n",
       "      <td>year</td>\n",
       "      <td>-</td>\n",
       "      <td>year</td>\n",
       "    </tr>\n",
       "    <tr>\n",
       "      <th>4</th>\n",
       "      <td>700</td>\n",
       "      <td>710</td>\n",
       "      <td>standard</td>\n",
       "      <td>year</td>\n",
       "      <td>-</td>\n",
       "      <td>year</td>\n",
       "    </tr>\n",
       "    <tr>\n",
       "      <th>5</th>\n",
       "      <td>700</td>\n",
       "      <td>720</td>\n",
       "      <td>standard</td>\n",
       "      <td>year</td>\n",
       "      <td>-</td>\n",
       "      <td>year</td>\n",
       "    </tr>\n",
       "    <tr>\n",
       "      <th>6</th>\n",
       "      <td>710</td>\n",
       "      <td>710</td>\n",
       "      <td>standard</td>\n",
       "      <td>year</td>\n",
       "      <td>-</td>\n",
       "      <td>year</td>\n",
       "    </tr>\n",
       "    <tr>\n",
       "      <th>7</th>\n",
       "      <td>710</td>\n",
       "      <td>720</td>\n",
       "      <td>standard</td>\n",
       "      <td>year</td>\n",
       "      <td>-</td>\n",
       "      <td>year</td>\n",
       "    </tr>\n",
       "    <tr>\n",
       "      <th>8</th>\n",
       "      <td>720</td>\n",
       "      <td>720</td>\n",
       "      <td>standard</td>\n",
       "      <td>year</td>\n",
       "      <td>-</td>\n",
       "      <td>year</td>\n",
       "    </tr>\n",
       "  </tbody>\n",
       "</table>\n",
       "</div>"
      ],
      "text/plain": [
       "   year_vtg  year_act      mode  time unit time_origin\n",
       "0       690       700  standard  year    -        year\n",
       "1       690       710  standard  year    -        year\n",
       "2       690       720  standard  year    -        year\n",
       "3       700       700  standard  year    -        year\n",
       "4       700       710  standard  year    -        year\n",
       "5       700       720  standard  year    -        year\n",
       "6       710       710  standard  year    -        year\n",
       "7       710       720  standard  year    -        year\n",
       "8       720       720  standard  year    -        year"
      ]
     },
     "execution_count": 84,
     "metadata": {},
     "output_type": "execute_result"
    }
   ],
   "source": []
  },
  {
   "cell_type": "code",
   "execution_count": 86,
   "metadata": {},
   "outputs": [],
   "source": [
    "# {techname: [input commodity, input factor, inv_cost, fix_cost, lifetime]}\n",
    "tecs = {'coal_ppl_ot_fresh': ['freshwater_region', 0.938, 600., 0., 30.],\n",
    "        'coal_ppl_cl_fresh': ['freshwater_region', 0.017, 160., 0., 30., \n",
    "                              ['secondary', 'electricity', 0.017]],\n",
    "        'coal_ppl_ot_saline': ['salinewater_region', 0.938, 150., 0., 30],\n",
    "        'coal_ppl_air': [None, 0.0, 430., 0., 30,\n",
    "                         ['secondary', 'electricity', 0.102]],\n",
    "        }\n",
    "\n",
    "for tec in tecs:\n",
    "    scen.add_set('technology', tec)\n",
    "\n",
    "    if tecs[tec][0]:\n",
    "        df_inp = make_df(base_input2, technology=tec, commodity=tecs[tec][0],  \n",
    "                         level='water_supply_region', value=tecs[tec][1], unit='-')\n",
    "        scen.add_par('input', df_inp)\n",
    "\n",
    "    if tec not in ['coal_ppl_ot_fresh', 'coal_ppl_ot_saline']:\n",
    "        df_inv = make_df(base_inv_cost, technology=tec, value=tecs[tec][2])\n",
    "        scen.add_par('inv_cost', df_inv)\n",
    "\n",
    "    df_fix = make_df(base_fix_cost, technology=tec, value=tecs[tec][3])\n",
    "    scen.add_par('fix_cost', df_fix)\n",
    "\n",
    "    df_tl = make_df(base_technical_lifetime, technology=tec, value=tecs[tec][4])\n",
    "    scen.add_par('technical_lifetime', df_tl)\n",
    "    \n",
    "    if len(tecs[tec]) > 5:\n",
    "        df_inp = make_df(base_input2, technology=tec, commodity=tecs[tec][5][1],  \n",
    "                         level=tecs[tec][5][0], value=tecs[tec][5][2], unit='-')\n",
    "        scen.add_par('input', df_inp)"
   ]
  },
  {
   "cell_type": "code",
   "execution_count": 88,
   "metadata": {},
   "outputs": [],
   "source": [
    "# scen.par('input')"
   ]
  },
  {
   "cell_type": "markdown",
   "metadata": {},
   "source": [
    "## Addon mapping \n",
    "We try to define a single `type_addon` for each power plant. Here we use `coal_ppl` as an example. \n",
    "\n",
    "`type_addon` refers to cooling technologies for `coal_ppl` ,whereas `addon` refers to cooling technology types. "
   ]
  },
  {
   "cell_type": "code",
   "execution_count": 89,
   "metadata": {},
   "outputs": [],
   "source": [
    "# If we need to add more power plants, we will be using more type_addon here and use the heat rate or cooling requirement per unit of output here\n",
    "type_addon = 'coal_ppl_cooling'\n",
    "\n",
    "# Adding cooling technology types \n",
    "addon = list(tecs.keys())\n",
    "\n",
    "scen.add_set('addon', pd.DataFrame({'technology': addon})) \n",
    "\n",
    "# Parent technology to map \n",
    "parent_tec = 'coal_ppl'\n",
    "\n",
    "# Mapping addon with type_addon and parent tech\n",
    "scen.add_cat('addon', type_addon, addon)\n",
    "scen.add_set('map_tec_addon', pd.DataFrame({'technology': parent_tec,\n",
    "                                            'type_addon': [type_addon]}))"
   ]
  },
  {
   "cell_type": "markdown",
   "metadata": {},
   "source": [
    "In this case, we use addon conversion factor for each `type_addon`.Addon conversion factor refers to the heat produced by the parent technology (in this case `coal_ppl`) that is needed to be cooled. \n",
    "For now for simplicity, we are referring to heat rate which is 1/efficiency. In the current scenario would be 5. "
   ]
  },
  {
   "cell_type": "code",
   "execution_count": 90,
   "metadata": {},
   "outputs": [],
   "source": [
    "df = pd.DataFrame({'node': country,\n",
    "                   'technology': parent_tec,\n",
    "                   'year_vtg': vintage_years,\n",
    "                   'year_act': act_years,\n",
    "                   'mode': 'standard',\n",
    "                   'time': 'year',\n",
    "                   'type_addon': type_addon,\n",
    "                   'value': 2,\n",
    "                   'unit': '%'})\n",
    "\n",
    "scen.add_par('addon_conversion', df)"
   ]
  },
  {
   "cell_type": "markdown",
   "metadata": {},
   "source": [
    "Now we bound the activity of `cool_coal_ppl` to 100% share of `coal_ppl` to make sure that all of the heat produced is being cooled."
   ]
  },
  {
   "cell_type": "code",
   "execution_count": 91,
   "metadata": {},
   "outputs": [],
   "source": [
    "df = pd.DataFrame({'node': country,\n",
    "                   'technology': parent_tec,\n",
    "                   'year_act': act_years,\n",
    "                   'mode': 'standard',\n",
    "                   'time': 'year',\n",
    "                   'type_addon': type_addon,\n",
    "                   'value': 1,\n",
    "                   'unit': '%'})\n",
    "scen.add_par('addon_lo', df)"
   ]
  },
  {
   "cell_type": "markdown",
   "metadata": {},
   "source": [
    "## Commit & Solve "
   ]
  },
  {
   "cell_type": "code",
   "execution_count": 92,
   "metadata": {},
   "outputs": [],
   "source": [
    "scen.commit(comment='implement cooling tech')\n",
    "scen.set_as_default()"
   ]
  },
  {
   "cell_type": "code",
   "execution_count": 93,
   "metadata": {},
   "outputs": [],
   "source": [
    "scen.solve()"
   ]
  },
  {
   "cell_type": "markdown",
   "metadata": {},
   "source": [
    "## Using reporting features to see the output of cooling technology. \n",
    "\n",
    "The output dataframe here shows the water required per heat rate of `coal_ppl` (as per our understanding)"
   ]
  },
  {
   "cell_type": "code",
   "execution_count": 94,
   "metadata": {},
   "outputs": [],
   "source": [
    "# Create a reporter from the existing Scenario\n",
    "rep = Reporter.from_scenario(scen)\n",
    "\n",
    "def collapse_callback(df):\n",
    "    \"\"\"Callback function to populate the IAMC 'variable' column.\"\"\"\n",
    "    df['variable'] = df['t']\n",
    "    return df.drop(['t'], axis=1)"
   ]
  },
  {
   "cell_type": "code",
   "execution_count": 95,
   "metadata": {},
   "outputs": [
    {
     "name": "stderr",
     "output_type": "stream",
     "text": [
      "/Users/MuhammadAwais/anaconda3/lib/python3.7/site-packages/ipykernel_launcher.py:7: DeprecationWarning: This method is deprecated and will be removed in future versions. Please use `plot.bar()`.\n",
      "  import sys\n"
     ]
    },
    {
     "data": {
      "text/plain": [
       "<matplotlib.axes._subplots.AxesSubplot at 0x1a4414eb10>"
      ]
     },
     "execution_count": 95,
     "metadata": {},
     "output_type": "execute_result"
    },
    {
     "data": {
      "image/png": "[encoded data removed]",
      "text/plain": [
       "<Figure size 432x288 with 1 Axes>"
      ]
     },
     "metadata": {
      "needs_background": "light"
     },
     "output_type": "display_data"
    }
   ],
   "source": [
    "df = rep.full_key('in')\n",
    "new_key = rep.convert_pyam(\n",
    "    quantities=df.drop('yv', 'm', 'h', 'ho', 'no', 'c', 'l'),\n",
    "    year_time_dim='ya',\n",
    "    collapse=collapse_callback)\n",
    "water_use = rep.get(new_key[0])\n",
    "water_use.filter(variable=addon).bar_plot(stacked=True)"
   ]
  },
  {
   "cell_type": "code",
   "execution_count": 17,
   "metadata": {},
   "outputs": [],
   "source": [
    "#mp.close_db()"
   ]
  }
 ],
 "metadata": {
  "kernelspec": {
   "display_name": "Python 3",
   "language": "python",
   "name": "python3"
  },
  "language_info": {
   "codemirror_mode": {
    "name": "ipython",
    "version": 3
   },
   "file_extension": ".py",
   "mimetype": "text/x-python",
   "name": "python",
   "nbconvert_exporter": "python",
   "pygments_lexer": "ipython3",
   "version": "3.7.9"
  }
 },
 "nbformat": 4,
 "nbformat_minor": 2
}
