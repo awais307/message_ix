{
 "cells": [
  {
   "cell_type": "markdown",
   "metadata": {},
   "source": [
    "# Building a coffee machine energy system model \n",
    "\n",
    "\n",
    "*This example is designed for the beginners to understand the basics of MESSAGEix framework through an easy and simple example. For detailed and full representation of a model in MESSAGEix framework, please refer to tutorials available online*\n",
    "\n",
    "**Pre-requisites**\n",
    "- Have succesfully installed *MESSAGEix*.\n",
    "\n",
    "\n",
    "For information on how to install *MESSAGEix*, please refer to [Installation page](https://docs.messageix.org/en/stable/getting_started.html) and for getting *MESSAGEix* tutorials, please follow the steps mentioned in [Tutorials](https://docs.messageix.org/en/stable/tutorials.html).\n",
    "\n",
    "Please refer to the [user guidelines](https://github.com/iiasa/message_ix/blob/master/NOTICE.rst)\n",
    "for additional information on using *MESSAGEix*, including the recommended citation and how to name new models.\n",
    "\n",
    "\n",
    "## *A stylized reference energy system model for Coffee machine*\n",
    "\n",
    "<img src=\"coffee_system.png\">\n"
   ]
  },
  {
   "cell_type": "markdown",
   "metadata": {},
   "source": [
    "# Let's start! "
   ]
  },
  {
   "cell_type": "markdown",
   "metadata": {},
   "source": [
    "\n",
    "## 1) Importing required packages\n",
    "For this model `message_ix`, `ixmp` and `pandas` (for data processing) Python packages are required. For other models,maybe some more packages are required which can be scripted under this part. "
   ]
  },
  {
   "cell_type": "code",
   "execution_count": 1,
   "metadata": {},
   "outputs": [],
   "source": [
    "import ixmp                    \n",
    "import message_ix \n",
    "import pandas as pd"
   ]
  },
  {
   "cell_type": "markdown",
   "metadata": {},
   "source": [
    "The *MESSAGEix* model is built using the *ixmp* `Platform`. The `Platform` is your connection to a database for storing model input data and scenario results. For more information,refer to ix modelling platform documentation [here](https://docs.messageix.org/projects/ixmp/en/stable/index.html)"
   ]
  },
  {
   "cell_type": "code",
   "execution_count": 2,
   "metadata": {},
   "outputs": [],
   "source": [
    " mp = ixmp.Platform(name = 'local')"
   ]
  },
  {
   "cell_type": "markdown",
   "metadata": {},
   "source": [
    "#### Building a new, empty MESSAGEix scenario"
   ]
  },
  {
   "cell_type": "markdown",
   "metadata": {},
   "source": [
    "We assign our `model` snd `Scenario` a name and then store the  `Scenario` instance to a variable. A `Scenario` instance will contain all the model input data and results."
   ]
  },
  {
   "cell_type": "code",
   "execution_count": 3,
   "metadata": {},
   "outputs": [],
   "source": [
    "model = 'cofee_energy_model' # model name\n",
    "scenario = 'test' # scenario name \n",
    "scen = message_ix.Scenario(mp, model, scenario,  version= 'new', annotation=\"…\")"
   ]
  },
  {
   "cell_type": "markdown",
   "metadata": {},
   "source": [
    "We can check the version of scenario instance using following command, if multiple scenario instances are stored in database"
   ]
  },
  {
   "cell_type": "code",
   "execution_count": 4,
   "metadata": {},
   "outputs": [
    {
     "data": {
      "text/plain": [
       "0"
      ]
     },
     "execution_count": 4,
     "metadata": {},
     "output_type": "execute_result"
    }
   ],
   "source": [
    "scen.version"
   ]
  },
  {
   "cell_type": "markdown",
   "metadata": {},
   "source": [
    "We can also see what sets, "
   ]
  },
  {
   "cell_type": "markdown",
   "metadata": {},
   "source": [
    "## 2) Spatial & temporal detail\n"
   ]
  },
  {
   "cell_type": "markdown",
   "metadata": {},
   "source": [
    "We start with assigining a node, in this case, we assume my_home and let's say we want to include 2020 & 2021 in our study."
   ]
  },
  {
   "cell_type": "code",
   "execution_count": 5,
   "metadata": {},
   "outputs": [],
   "source": [
    "scen.add_set('node', 'my_home')\n",
    "scen.add_set('year', [2020, 2021])"
   ]
  },
  {
   "cell_type": "markdown",
   "metadata": {},
   "source": [
    "## 3) Declaring members of the sets"
   ]
  },
  {
   "cell_type": "markdown",
   "metadata": {},
   "source": [
    "Let's see a list of sets included in MESSAGEix framework. We will not use all sets in this example though. "
   ]
  },
  {
   "cell_type": "code",
   "execution_count": 6,
   "metadata": {},
   "outputs": [
    {
     "data": {
      "text/plain": [
       "['year',\n",
       " 'node',\n",
       " 'technology',\n",
       " 'relation',\n",
       " 'emission',\n",
       " 'land_scenario',\n",
       " 'land_type',\n",
       " 'lvl_spatial',\n",
       " 'time',\n",
       " 'lvl_temporal',\n",
       " 'type_node',\n",
       " 'type_tec',\n",
       " 'type_year',\n",
       " 'type_emission',\n",
       " 'type_relation',\n",
       " 'mode',\n",
       " 'grade',\n",
       " 'level',\n",
       " 'commodity',\n",
       " 'rating',\n",
       " 'shares',\n",
       " 'type_addon',\n",
       " 'level_storage',\n",
       " 'storage_tec',\n",
       " 'map_spatial_hierarchy',\n",
       " 'map_node',\n",
       " 'map_temporal_hierarchy',\n",
       " 'map_time',\n",
       " 'cat_node',\n",
       " 'cat_tec',\n",
       " 'cat_year',\n",
       " 'cat_emission',\n",
       " 'type_tec_land',\n",
       " 'cat_relation',\n",
       " 'level_resource',\n",
       " 'level_renewable',\n",
       " 'level_stocks',\n",
       " 'map_shares_commodity_total',\n",
       " 'map_shares_commodity_share',\n",
       " 'addon',\n",
       " 'cat_addon',\n",
       " 'map_tec_addon',\n",
       " 'balance_equality',\n",
       " 'map_tec_storage']"
      ]
     },
     "execution_count": 6,
     "metadata": {},
     "output_type": "execute_result"
    }
   ],
   "source": [
    "scen.set_list()"
   ]
  },
  {
   "cell_type": "markdown",
   "metadata": {},
   "source": [
    "We start filling in the model's `commodities`, `levels`, `technologies`, and `modes` (i.e., modes of operation of technologies. In this case, we have only one technology,`coffee_maker`, and then information how coffee maker operates as shown in figure above.. This information defines how certain technologies operate. "
   ]
  },
  {
   "cell_type": "code",
   "execution_count": 7,
   "metadata": {},
   "outputs": [],
   "source": [
    "scen.add_set('technology', 'coffee_maker')\n",
    "scen.add_set('commodity', ['water', 'electr', 'coffee_beans', 'coffee_cup']) # all members can be added at once\n",
    "scen.add_set('level', ['pipe', 'storage', 'grid', 'useful'])\n",
    "scen.add_set('mode', 'normal')    # modes of operation of a technology"
   ]
  },
  {
   "cell_type": "markdown",
   "metadata": {},
   "source": [
    "Let's check if the sets are correctly added to `commodity`"
   ]
  },
  {
   "cell_type": "code",
   "execution_count": 8,
   "metadata": {},
   "outputs": [
    {
     "data": {
      "text/plain": [
       "0           water\n",
       "1          electr\n",
       "2    coffee_beans\n",
       "3      coffee_cup\n",
       "dtype: object"
      ]
     },
     "execution_count": 8,
     "metadata": {},
     "output_type": "execute_result"
    }
   ],
   "source": [
    "scen.set('commodity')"
   ]
  },
  {
   "cell_type": "markdown",
   "metadata": {},
   "source": [
    "## 2. Adding data to parameters\n",
    "Let's see a list of parameters in MESSAGEix framework"
   ]
  },
  {
   "cell_type": "code",
   "execution_count": 9,
   "metadata": {},
   "outputs": [
    {
     "data": {
      "text/plain": [
       "['commodity_stock',\n",
       " 'demand',\n",
       " 'resource_cost',\n",
       " 'resource_remaining',\n",
       " 'bound_extraction_up',\n",
       " 'resource_volume',\n",
       " 'technical_lifetime',\n",
       " 'capacity_factor',\n",
       " 'operation_factor',\n",
       " 'min_utilization_factor',\n",
       " 'inv_cost',\n",
       " 'fix_cost',\n",
       " 'var_cost',\n",
       " 'output',\n",
       " 'input',\n",
       " 'abs_cost_new_capacity_soft_up',\n",
       " 'abs_cost_new_capacity_soft_lo',\n",
       " 'level_cost_new_capacity_soft_up',\n",
       " 'level_cost_new_capacity_soft_lo',\n",
       " 'abs_cost_activity_soft_up',\n",
       " 'abs_cost_activity_soft_lo',\n",
       " 'level_cost_activity_soft_up',\n",
       " 'level_cost_activity_soft_lo',\n",
       " 'bound_new_capacity_up',\n",
       " 'bound_new_capacity_lo',\n",
       " 'bound_total_capacity_up',\n",
       " 'bound_total_capacity_lo',\n",
       " 'bound_activity_up',\n",
       " 'bound_activity_lo',\n",
       " 'initial_new_capacity_up',\n",
       " 'growth_new_capacity_up',\n",
       " 'soft_new_capacity_up',\n",
       " 'initial_new_capacity_lo',\n",
       " 'growth_new_capacity_lo',\n",
       " 'soft_new_capacity_lo',\n",
       " 'initial_activity_up',\n",
       " 'growth_activity_up',\n",
       " 'soft_activity_up',\n",
       " 'initial_activity_lo',\n",
       " 'growth_activity_lo',\n",
       " 'soft_activity_lo',\n",
       " 'emission_factor',\n",
       " 'construction_time',\n",
       " 'renewable_potential',\n",
       " 'renewable_capacity_factor',\n",
       " 'reliability_factor',\n",
       " 'peak_load_factor',\n",
       " 'flexibility_factor',\n",
       " 'rating_bin',\n",
       " 'tax',\n",
       " 'subsidy',\n",
       " 'historical_emission',\n",
       " 'emission_scaling',\n",
       " 'bound_emission',\n",
       " 'tax_emission',\n",
       " 'land_cost',\n",
       " 'land_input',\n",
       " 'land_output',\n",
       " 'land_use',\n",
       " 'land_emission',\n",
       " 'initial_land_scen_up',\n",
       " 'growth_land_scen_up',\n",
       " 'initial_land_scen_lo',\n",
       " 'growth_land_scen_lo',\n",
       " 'initial_land_up',\n",
       " 'dynamic_land_up',\n",
       " 'growth_land_up',\n",
       " 'initial_land_lo',\n",
       " 'dynamic_land_lo',\n",
       " 'growth_land_lo',\n",
       " 'relation_upper',\n",
       " 'relation_lower',\n",
       " 'relation_cost',\n",
       " 'relation_new_capacity',\n",
       " 'relation_total_capacity',\n",
       " 'relation_activity',\n",
       " 'duration_period',\n",
       " 'duration_time',\n",
       " 'interestrate',\n",
       " 'historical_extraction',\n",
       " 'historical_new_capacity',\n",
       " 'historical_activity',\n",
       " 'historical_land',\n",
       " 'ref_extraction',\n",
       " 'ref_new_capacity',\n",
       " 'ref_activity',\n",
       " 'ref_relation',\n",
       " 'fixed_extraction',\n",
       " 'fixed_stock',\n",
       " 'fixed_new_capacity',\n",
       " 'fixed_capacity',\n",
       " 'fixed_activity',\n",
       " 'fixed_land',\n",
       " 'historical_gdp',\n",
       " 'share_commodity_up',\n",
       " 'share_commodity_lo',\n",
       " 'share_mode_up',\n",
       " 'share_mode_lo',\n",
       " 'addon_conversion',\n",
       " 'addon_up',\n",
       " 'addon_lo',\n",
       " 'time_order',\n",
       " 'storage_initial',\n",
       " 'storage_self_discharge']"
      ]
     },
     "execution_count": 9,
     "metadata": {},
     "output_type": "execute_result"
    }
   ],
   "source": [
    "scen.par_list()"
   ]
  },
  {
   "cell_type": "markdown",
   "metadata": {},
   "source": [
    "We can also filter out parameters using basic Python fucntionality such as emission related parameters can be filtered out as;"
   ]
  },
  {
   "cell_type": "code",
   "execution_count": 10,
   "metadata": {},
   "outputs": [
    {
     "data": {
      "text/plain": [
       "['emission_factor',\n",
       " 'historical_emission',\n",
       " 'emission_scaling',\n",
       " 'bound_emission',\n",
       " 'tax_emission',\n",
       " 'land_emission']"
      ]
     },
     "execution_count": 10,
     "metadata": {},
     "output_type": "execute_result"
    }
   ],
   "source": [
    "[x for x in scen.par_list() if 'emission' in x]"
   ]
  },
  {
   "cell_type": "markdown",
   "metadata": {},
   "source": [
    "### 2.1) Adding data to parameter `demand`\n",
    "We can always see the indexes of a parameter and make a table with those indexes (plus \"value\" and \"unit\"). The method is `idx_names()`\n"
   ]
  },
  {
   "cell_type": "code",
   "execution_count": 11,
   "metadata": {},
   "outputs": [
    {
     "data": {
      "text/plain": [
       "['node', 'commodity', 'level', 'year', 'time']"
      ]
     },
     "execution_count": 11,
     "metadata": {},
     "output_type": "execute_result"
    }
   ],
   "source": [
    "scen.idx_names(\"demand\")"
   ]
  },
  {
   "cell_type": "markdown",
   "metadata": {},
   "source": [
    "Let's add a Python dataframe based on these indexes"
   ]
  },
  {
   "cell_type": "code",
   "execution_count": 12,
   "metadata": {},
   "outputs": [
    {
     "data": {
      "text/html": [
       "<div>\n",
       "<style scoped>\n",
       "    .dataframe tbody tr th:only-of-type {\n",
       "        vertical-align: middle;\n",
       "    }\n",
       "\n",
       "    .dataframe tbody tr th {\n",
       "        vertical-align: top;\n",
       "    }\n",
       "\n",
       "    .dataframe thead th {\n",
       "        text-align: right;\n",
       "    }\n",
       "</style>\n",
       "<table border=\"1\" class=\"dataframe\">\n",
       "  <thead>\n",
       "    <tr style=\"text-align: right;\">\n",
       "      <th></th>\n",
       "      <th>node</th>\n",
       "      <th>commodity</th>\n",
       "      <th>level</th>\n",
       "      <th>year</th>\n",
       "      <th>value</th>\n",
       "      <th>unit</th>\n",
       "      <th>time</th>\n",
       "    </tr>\n",
       "  </thead>\n",
       "  <tbody>\n",
       "    <tr>\n",
       "      <th>0</th>\n",
       "      <td>my_home</td>\n",
       "      <td>coffee_cup</td>\n",
       "      <td>useful</td>\n",
       "      <td>2020</td>\n",
       "      <td>450</td>\n",
       "      <td>-</td>\n",
       "      <td>year</td>\n",
       "    </tr>\n",
       "    <tr>\n",
       "      <th>1</th>\n",
       "      <td>my_home</td>\n",
       "      <td>coffee_cup</td>\n",
       "      <td>useful</td>\n",
       "      <td>2021</td>\n",
       "      <td>500</td>\n",
       "      <td>-</td>\n",
       "      <td>year</td>\n",
       "    </tr>\n",
       "  </tbody>\n",
       "</table>\n",
       "</div>"
      ],
      "text/plain": [
       "      node   commodity   level  year  value unit  time\n",
       "0  my_home  coffee_cup  useful  2020    450    -  year\n",
       "1  my_home  coffee_cup  useful  2021    500    -  year"
      ]
     },
     "execution_count": 12,
     "metadata": {},
     "output_type": "execute_result"
    }
   ],
   "source": [
    "df = pd.DataFrame({'node': 'my_home',\n",
    "                   'commodity': 'coffee_cup',\n",
    "                   'level': 'useful',\n",
    "                   'year': [2020, 2021],\n",
    "                   'value': [450, 500],    # cup of coffee per year\n",
    "                   'unit': '-',\n",
    "                   'time': 'year'\n",
    "                   })\n",
    "df"
   ]
  },
  {
   "cell_type": "markdown",
   "metadata": {},
   "source": [
    "Now, we add this dataframe to the scenario instance"
   ]
  },
  {
   "cell_type": "code",
   "execution_count": 13,
   "metadata": {},
   "outputs": [
    {
     "data": {
      "text/html": [
       "<div>\n",
       "<style scoped>\n",
       "    .dataframe tbody tr th:only-of-type {\n",
       "        vertical-align: middle;\n",
       "    }\n",
       "\n",
       "    .dataframe tbody tr th {\n",
       "        vertical-align: top;\n",
       "    }\n",
       "\n",
       "    .dataframe thead th {\n",
       "        text-align: right;\n",
       "    }\n",
       "</style>\n",
       "<table border=\"1\" class=\"dataframe\">\n",
       "  <thead>\n",
       "    <tr style=\"text-align: right;\">\n",
       "      <th></th>\n",
       "      <th>node</th>\n",
       "      <th>commodity</th>\n",
       "      <th>level</th>\n",
       "      <th>year</th>\n",
       "      <th>time</th>\n",
       "      <th>value</th>\n",
       "      <th>unit</th>\n",
       "    </tr>\n",
       "  </thead>\n",
       "  <tbody>\n",
       "    <tr>\n",
       "      <th>0</th>\n",
       "      <td>my_home</td>\n",
       "      <td>coffee_cup</td>\n",
       "      <td>useful</td>\n",
       "      <td>2020</td>\n",
       "      <td>year</td>\n",
       "      <td>450.0</td>\n",
       "      <td>-</td>\n",
       "    </tr>\n",
       "    <tr>\n",
       "      <th>1</th>\n",
       "      <td>my_home</td>\n",
       "      <td>coffee_cup</td>\n",
       "      <td>useful</td>\n",
       "      <td>2021</td>\n",
       "      <td>year</td>\n",
       "      <td>500.0</td>\n",
       "      <td>-</td>\n",
       "    </tr>\n",
       "  </tbody>\n",
       "</table>\n",
       "</div>"
      ],
      "text/plain": [
       "      node   commodity   level  year  time  value unit\n",
       "0  my_home  coffee_cup  useful  2020  year  450.0    -\n",
       "1  my_home  coffee_cup  useful  2021  year  500.0    -"
      ]
     },
     "execution_count": 13,
     "metadata": {},
     "output_type": "execute_result"
    }
   ],
   "source": [
    "scen.add_par('demand', df)\n",
    "scen.par('demand') # to check, if correctly added"
   ]
  },
  {
   "cell_type": "markdown",
   "metadata": {},
   "source": [
    "Similar method for including an `output` dataframe"
   ]
  },
  {
   "cell_type": "code",
   "execution_count": 14,
   "metadata": {},
   "outputs": [
    {
     "data": {
      "text/plain": [
       "['node_loc',\n",
       " 'technology',\n",
       " 'year_vtg',\n",
       " 'year_act',\n",
       " 'mode',\n",
       " 'node_dest',\n",
       " 'commodity',\n",
       " 'level',\n",
       " 'time',\n",
       " 'time_dest']"
      ]
     },
     "execution_count": 14,
     "metadata": {},
     "output_type": "execute_result"
    }
   ],
   "source": [
    "scen.idx_names(\"output\")"
   ]
  },
  {
   "cell_type": "code",
   "execution_count": 24,
   "metadata": {},
   "outputs": [
    {
     "ename": "RuntimeError",
     "evalue": "unhandled Java exception: There was a problem loading elements of parameter 'output' from the database!",
     "output_type": "error",
     "traceback": [
      "\u001b[0;31m---------------------------------------------------------------------------\u001b[0m",
      "\u001b[0;31mRuntimeError\u001b[0m                              Traceback (most recent call last)",
      "\u001b[0;32m<ipython-input-24-0d4f6caae9e8>\u001b[0m in \u001b[0;36m<module>\u001b[0;34m\u001b[0m\n\u001b[1;32m     13\u001b[0m                    \u001b[0;34m'time_dest'\u001b[0m\u001b[0;34m:\u001b[0m \u001b[0;34m'year'\u001b[0m\u001b[0;34m,\u001b[0m\u001b[0;34m\u001b[0m\u001b[0;34m\u001b[0m\u001b[0m\n\u001b[1;32m     14\u001b[0m                     })\n\u001b[0;32m---> 15\u001b[0;31m \u001b[0mscen\u001b[0m\u001b[0;34m.\u001b[0m\u001b[0madd_par\u001b[0m\u001b[0;34m(\u001b[0m\u001b[0;34m'output'\u001b[0m\u001b[0;34m,\u001b[0m \u001b[0mdf\u001b[0m\u001b[0;34m)\u001b[0m\u001b[0;34m\u001b[0m\u001b[0;34m\u001b[0m\u001b[0m\n\u001b[0m",
      "\u001b[0;32m~/Reps/ixmp/ixmp/core.py\u001b[0m in \u001b[0;36madd_par\u001b[0;34m(self, name, key_or_data, value, unit, comment)\u001b[0m\n\u001b[1;32m   1269\u001b[0m \u001b[0;34m\u001b[0m\u001b[0m\n\u001b[1;32m   1270\u001b[0m         \u001b[0;31m# Store\u001b[0m\u001b[0;34m\u001b[0m\u001b[0;34m\u001b[0m\u001b[0;34m\u001b[0m\u001b[0m\n\u001b[0;32m-> 1271\u001b[0;31m         \u001b[0mself\u001b[0m\u001b[0;34m.\u001b[0m\u001b[0m_backend\u001b[0m\u001b[0;34m(\u001b[0m\u001b[0;34m'item_set_elements'\u001b[0m\u001b[0;34m,\u001b[0m \u001b[0;34m'par'\u001b[0m\u001b[0;34m,\u001b[0m \u001b[0mname\u001b[0m\u001b[0;34m,\u001b[0m \u001b[0melements\u001b[0m\u001b[0;34m)\u001b[0m\u001b[0;34m\u001b[0m\u001b[0;34m\u001b[0m\u001b[0m\n\u001b[0m\u001b[1;32m   1272\u001b[0m \u001b[0;34m\u001b[0m\u001b[0m\n\u001b[1;32m   1273\u001b[0m     \u001b[0;32mdef\u001b[0m \u001b[0minit_scalar\u001b[0m\u001b[0;34m(\u001b[0m\u001b[0mself\u001b[0m\u001b[0;34m,\u001b[0m \u001b[0mname\u001b[0m\u001b[0;34m,\u001b[0m \u001b[0mval\u001b[0m\u001b[0;34m,\u001b[0m \u001b[0munit\u001b[0m\u001b[0;34m,\u001b[0m \u001b[0mcomment\u001b[0m\u001b[0;34m=\u001b[0m\u001b[0;32mNone\u001b[0m\u001b[0;34m)\u001b[0m\u001b[0;34m:\u001b[0m\u001b[0;34m\u001b[0m\u001b[0;34m\u001b[0m\u001b[0m\n",
      "\u001b[0;32m~/Reps/ixmp/ixmp/core.py\u001b[0m in \u001b[0;36m_backend\u001b[0;34m(self, method, *args, **kwargs)\u001b[0m\n\u001b[1;32m    478\u001b[0m         \u001b[0mstill\u001b[0m \u001b[0malive\u001b[0m\u001b[0;34m.\u001b[0m\u001b[0;34m\u001b[0m\u001b[0;34m\u001b[0m\u001b[0m\n\u001b[1;32m    479\u001b[0m         \"\"\"\n\u001b[0;32m--> 480\u001b[0;31m         \u001b[0;32mreturn\u001b[0m \u001b[0mself\u001b[0m\u001b[0;34m.\u001b[0m\u001b[0mplatform\u001b[0m\u001b[0;34m.\u001b[0m\u001b[0m_backend\u001b[0m\u001b[0;34m(\u001b[0m\u001b[0mself\u001b[0m\u001b[0;34m,\u001b[0m \u001b[0mmethod\u001b[0m\u001b[0;34m,\u001b[0m \u001b[0;34m*\u001b[0m\u001b[0margs\u001b[0m\u001b[0;34m,\u001b[0m \u001b[0;34m**\u001b[0m\u001b[0mkwargs\u001b[0m\u001b[0;34m)\u001b[0m\u001b[0;34m\u001b[0m\u001b[0;34m\u001b[0m\u001b[0m\n\u001b[0m\u001b[1;32m    481\u001b[0m \u001b[0;34m\u001b[0m\u001b[0m\n\u001b[1;32m    482\u001b[0m     \u001b[0;32mdef\u001b[0m \u001b[0m__del__\u001b[0m\u001b[0;34m(\u001b[0m\u001b[0mself\u001b[0m\u001b[0;34m)\u001b[0m\u001b[0;34m:\u001b[0m\u001b[0;34m\u001b[0m\u001b[0;34m\u001b[0m\u001b[0m\n",
      "\u001b[0;32m~/Reps/ixmp/ixmp/backend/base.py\u001b[0m in \u001b[0;36m__call__\u001b[0;34m(self, obj, method, *args, **kwargs)\u001b[0m\n\u001b[1;32m     20\u001b[0m         \u001b[0;32mfor\u001b[0m \u001b[0mthe\u001b[0m \u001b[0mmethod\u001b[0m \u001b[0mname\u001b[0m\u001b[0;34m,\u001b[0m \u001b[0me\u001b[0m\u001b[0;34m.\u001b[0m\u001b[0mg\u001b[0m\u001b[0;34m.\u001b[0m \u001b[0;34m'ts_{method}'\u001b[0m\u001b[0;34m.\u001b[0m\u001b[0;34m\u001b[0m\u001b[0;34m\u001b[0m\u001b[0m\n\u001b[1;32m     21\u001b[0m         \"\"\"\n\u001b[0;32m---> 22\u001b[0;31m         \u001b[0;32mreturn\u001b[0m \u001b[0mgetattr\u001b[0m\u001b[0;34m(\u001b[0m\u001b[0mself\u001b[0m\u001b[0;34m,\u001b[0m \u001b[0mmethod\u001b[0m\u001b[0;34m)\u001b[0m\u001b[0;34m(\u001b[0m\u001b[0mobj\u001b[0m\u001b[0;34m,\u001b[0m \u001b[0;34m*\u001b[0m\u001b[0margs\u001b[0m\u001b[0;34m,\u001b[0m \u001b[0;34m**\u001b[0m\u001b[0mkwargs\u001b[0m\u001b[0;34m)\u001b[0m\u001b[0;34m\u001b[0m\u001b[0;34m\u001b[0m\u001b[0m\n\u001b[0m\u001b[1;32m     23\u001b[0m \u001b[0;34m\u001b[0m\u001b[0m\n\u001b[1;32m     24\u001b[0m     \u001b[0;32mdef\u001b[0m \u001b[0mclose_db\u001b[0m\u001b[0;34m(\u001b[0m\u001b[0mself\u001b[0m\u001b[0;34m)\u001b[0m\u001b[0;34m:\u001b[0m\u001b[0;34m\u001b[0m\u001b[0;34m\u001b[0m\u001b[0m\n",
      "\u001b[0;32m~/Reps/ixmp/ixmp/backend/jdbc.py\u001b[0m in \u001b[0;36mitem_set_elements\u001b[0;34m(self, s, type, name, elements)\u001b[0m\n\u001b[1;32m    845\u001b[0m \u001b[0;34m\u001b[0m\u001b[0m\n\u001b[1;32m    846\u001b[0m     \u001b[0;32mdef\u001b[0m \u001b[0mitem_set_elements\u001b[0m\u001b[0;34m(\u001b[0m\u001b[0mself\u001b[0m\u001b[0;34m,\u001b[0m \u001b[0ms\u001b[0m\u001b[0;34m,\u001b[0m \u001b[0mtype\u001b[0m\u001b[0;34m,\u001b[0m \u001b[0mname\u001b[0m\u001b[0;34m,\u001b[0m \u001b[0melements\u001b[0m\u001b[0;34m)\u001b[0m\u001b[0;34m:\u001b[0m\u001b[0;34m\u001b[0m\u001b[0;34m\u001b[0m\u001b[0m\n\u001b[0;32m--> 847\u001b[0;31m         \u001b[0mjobj\u001b[0m \u001b[0;34m=\u001b[0m \u001b[0mself\u001b[0m\u001b[0;34m.\u001b[0m\u001b[0m_get_item\u001b[0m\u001b[0;34m(\u001b[0m\u001b[0ms\u001b[0m\u001b[0;34m,\u001b[0m \u001b[0mtype\u001b[0m\u001b[0;34m,\u001b[0m \u001b[0mname\u001b[0m\u001b[0;34m)\u001b[0m\u001b[0;34m\u001b[0m\u001b[0;34m\u001b[0m\u001b[0m\n\u001b[0m\u001b[1;32m    848\u001b[0m \u001b[0;34m\u001b[0m\u001b[0m\n\u001b[1;32m    849\u001b[0m         \u001b[0;32mtry\u001b[0m\u001b[0;34m:\u001b[0m\u001b[0;34m\u001b[0m\u001b[0;34m\u001b[0m\u001b[0m\n",
      "\u001b[0;32m~/Reps/ixmp/ixmp/backend/jdbc.py\u001b[0m in \u001b[0;36m_get_item\u001b[0;34m(self, s, ix_type, name, load)\u001b[0m\n\u001b[1;32m    966\u001b[0m                 \u001b[0;32mraise\u001b[0m \u001b[0mKeyError\u001b[0m\u001b[0;34m(\u001b[0m\u001b[0mname\u001b[0m\u001b[0;34m)\u001b[0m \u001b[0;32mfrom\u001b[0m \u001b[0;32mNone\u001b[0m\u001b[0;34m\u001b[0m\u001b[0;34m\u001b[0m\u001b[0m\n\u001b[1;32m    967\u001b[0m             \u001b[0;32melse\u001b[0m\u001b[0;34m:\u001b[0m  \u001b[0;31m# pragma: no cover\u001b[0m\u001b[0;34m\u001b[0m\u001b[0;34m\u001b[0m\u001b[0m\n\u001b[0;32m--> 968\u001b[0;31m                 \u001b[0m_raise_jexception\u001b[0m\u001b[0;34m(\u001b[0m\u001b[0me\u001b[0m\u001b[0;34m)\u001b[0m\u001b[0;34m\u001b[0m\u001b[0;34m\u001b[0m\u001b[0m\n\u001b[0m\u001b[1;32m    969\u001b[0m \u001b[0;34m\u001b[0m\u001b[0m\n\u001b[1;32m    970\u001b[0m     \u001b[0;32mdef\u001b[0m \u001b[0m__del__\u001b[0m\u001b[0;34m(\u001b[0m\u001b[0mself\u001b[0m\u001b[0;34m)\u001b[0m\u001b[0;34m:\u001b[0m\u001b[0;34m\u001b[0m\u001b[0;34m\u001b[0m\u001b[0m\n",
      "\u001b[0;32m~/Reps/ixmp/ixmp/backend/jdbc.py\u001b[0m in \u001b[0;36m_raise_jexception\u001b[0;34m(exc, msg)\u001b[0m\n\u001b[1;32m    130\u001b[0m     \u001b[0;32melse\u001b[0m\u001b[0;34m:\u001b[0m\u001b[0;34m\u001b[0m\u001b[0;34m\u001b[0m\u001b[0m\n\u001b[1;32m    131\u001b[0m         \u001b[0mmsg\u001b[0m \u001b[0;34m+=\u001b[0m \u001b[0mexc\u001b[0m\u001b[0;34m.\u001b[0m\u001b[0mmessage\u001b[0m\u001b[0;34m(\u001b[0m\u001b[0;34m)\u001b[0m\u001b[0;34m\u001b[0m\u001b[0;34m\u001b[0m\u001b[0m\n\u001b[0;32m--> 132\u001b[0;31m     \u001b[0;32mraise\u001b[0m \u001b[0mRuntimeError\u001b[0m\u001b[0;34m(\u001b[0m\u001b[0mmsg\u001b[0m\u001b[0;34m)\u001b[0m \u001b[0;32mfrom\u001b[0m \u001b[0;32mNone\u001b[0m\u001b[0;34m\u001b[0m\u001b[0;34m\u001b[0m\u001b[0m\n\u001b[0m\u001b[1;32m    133\u001b[0m \u001b[0;34m\u001b[0m\u001b[0m\n\u001b[1;32m    134\u001b[0m \u001b[0;34m\u001b[0m\u001b[0m\n",
      "\u001b[0;31mRuntimeError\u001b[0m: unhandled Java exception: There was a problem loading elements of parameter 'output' from the database!"
     ]
    }
   ],
   "source": [
    "# Adding data to the parameter \"output\" for the technology\n",
    "df = pd.DataFrame({'node_loc': 'my_home',\n",
    "                   'node_dest': 'my_home',\n",
    "                   'technology': 'coffee_maker',\n",
    "                   'commodity': 'coffee_cup',\n",
    "                   'level': 'useful',\n",
    "                   'year_vtg': [2020, 2021],   # once installed can be active only one period\n",
    "                   'year_act': [2020, 2021],\n",
    "                   'mode': 'normal',\n",
    "                   'value': 0.9,\n",
    "                   'unit': '-',\n",
    "                   'time': 'year',\n",
    "                   'time_dest': 'year',\n",
    "                    })\n",
    "scen.add_par('output', df)"
   ]
  },
  {
   "cell_type": "code",
   "execution_count": 16,
   "metadata": {},
   "outputs": [
    {
     "data": {
      "text/html": [
       "<div>\n",
       "<style scoped>\n",
       "    .dataframe tbody tr th:only-of-type {\n",
       "        vertical-align: middle;\n",
       "    }\n",
       "\n",
       "    .dataframe tbody tr th {\n",
       "        vertical-align: top;\n",
       "    }\n",
       "\n",
       "    .dataframe thead th {\n",
       "        text-align: right;\n",
       "    }\n",
       "</style>\n",
       "<table border=\"1\" class=\"dataframe\">\n",
       "  <thead>\n",
       "    <tr style=\"text-align: right;\">\n",
       "      <th></th>\n",
       "      <th>node_loc</th>\n",
       "      <th>technology</th>\n",
       "      <th>year_vtg</th>\n",
       "      <th>year_act</th>\n",
       "      <th>mode</th>\n",
       "      <th>node_dest</th>\n",
       "      <th>commodity</th>\n",
       "      <th>level</th>\n",
       "      <th>time</th>\n",
       "      <th>time_dest</th>\n",
       "      <th>value</th>\n",
       "      <th>unit</th>\n",
       "    </tr>\n",
       "  </thead>\n",
       "  <tbody>\n",
       "    <tr>\n",
       "      <th>0</th>\n",
       "      <td>my_home</td>\n",
       "      <td>coffee_maker</td>\n",
       "      <td>2020</td>\n",
       "      <td>2020</td>\n",
       "      <td>normal</td>\n",
       "      <td>my_home</td>\n",
       "      <td>coffee_cup</td>\n",
       "      <td>useful</td>\n",
       "      <td>year</td>\n",
       "      <td>year</td>\n",
       "      <td>0.9</td>\n",
       "      <td>-</td>\n",
       "    </tr>\n",
       "    <tr>\n",
       "      <th>1</th>\n",
       "      <td>my_home</td>\n",
       "      <td>coffee_maker</td>\n",
       "      <td>2021</td>\n",
       "      <td>2021</td>\n",
       "      <td>normal</td>\n",
       "      <td>my_home</td>\n",
       "      <td>coffee_cup</td>\n",
       "      <td>useful</td>\n",
       "      <td>year</td>\n",
       "      <td>year</td>\n",
       "      <td>0.9</td>\n",
       "      <td>-</td>\n",
       "    </tr>\n",
       "  </tbody>\n",
       "</table>\n",
       "</div>"
      ],
      "text/plain": [
       "  node_loc    technology  year_vtg  year_act    mode node_dest   commodity  \\\n",
       "0  my_home  coffee_maker      2020      2020  normal   my_home  coffee_cup   \n",
       "1  my_home  coffee_maker      2021      2021  normal   my_home  coffee_cup   \n",
       "\n",
       "    level  time time_dest  value unit  \n",
       "0  useful  year      year    0.9    -  \n",
       "1  useful  year      year    0.9    -  "
      ]
     },
     "execution_count": 16,
     "metadata": {},
     "output_type": "execute_result"
    }
   ],
   "source": [
    "# Seeing the content of a parameter\n",
    "scen.par('output')"
   ]
  },
  {
   "cell_type": "markdown",
   "metadata": {},
   "source": [
    "Committing data of this scenario"
   ]
  },
  {
   "cell_type": "code",
   "execution_count": 17,
   "metadata": {},
   "outputs": [],
   "source": [
    "scen.commit('my first commit')   # This message is optional"
   ]
  },
  {
   "cell_type": "markdown",
   "metadata": {},
   "source": [
    "If we want to add more stuff to this particular scenario instance, we can use the following command"
   ]
  },
  {
   "cell_type": "code",
   "execution_count": 18,
   "metadata": {},
   "outputs": [],
   "source": [
    "# scen.check_out()"
   ]
  },
  {
   "cell_type": "markdown",
   "metadata": {},
   "source": [
    "Time to solve our model!"
   ]
  },
  {
   "cell_type": "code",
   "execution_count": 19,
   "metadata": {},
   "outputs": [],
   "source": [
    "scen.solve()"
   ]
  },
  {
   "cell_type": "markdown",
   "metadata": {},
   "source": [
    "Getting objective value of the model"
   ]
  },
  {
   "cell_type": "code",
   "execution_count": 20,
   "metadata": {},
   "outputs": [
    {
     "data": {
      "text/plain": [
       "{'lvl': 0.0, 'mrg': 0.0}"
      ]
     },
     "execution_count": 20,
     "metadata": {},
     "output_type": "execute_result"
    }
   ],
   "source": [
    "scen.var('OBJ')"
   ]
  },
  {
   "cell_type": "markdown",
   "metadata": {},
   "source": [
    "Getting activity of coffee maker"
   ]
  },
  {
   "cell_type": "code",
   "execution_count": 21,
   "metadata": {},
   "outputs": [
    {
     "data": {
      "text/html": [
       "<div>\n",
       "<style scoped>\n",
       "    .dataframe tbody tr th:only-of-type {\n",
       "        vertical-align: middle;\n",
       "    }\n",
       "\n",
       "    .dataframe tbody tr th {\n",
       "        vertical-align: top;\n",
       "    }\n",
       "\n",
       "    .dataframe thead th {\n",
       "        text-align: right;\n",
       "    }\n",
       "</style>\n",
       "<table border=\"1\" class=\"dataframe\">\n",
       "  <thead>\n",
       "    <tr style=\"text-align: right;\">\n",
       "      <th></th>\n",
       "      <th>node_loc</th>\n",
       "      <th>technology</th>\n",
       "      <th>year_vtg</th>\n",
       "      <th>year_act</th>\n",
       "      <th>mode</th>\n",
       "      <th>time</th>\n",
       "      <th>lvl</th>\n",
       "      <th>mrg</th>\n",
       "    </tr>\n",
       "  </thead>\n",
       "  <tbody>\n",
       "    <tr>\n",
       "      <th>0</th>\n",
       "      <td>my_home</td>\n",
       "      <td>coffee_maker</td>\n",
       "      <td>2020</td>\n",
       "      <td>2020</td>\n",
       "      <td>normal</td>\n",
       "      <td>year</td>\n",
       "      <td>500.000000</td>\n",
       "      <td>0.0</td>\n",
       "    </tr>\n",
       "    <tr>\n",
       "      <th>1</th>\n",
       "      <td>my_home</td>\n",
       "      <td>coffee_maker</td>\n",
       "      <td>2021</td>\n",
       "      <td>2021</td>\n",
       "      <td>normal</td>\n",
       "      <td>year</td>\n",
       "      <td>555.555556</td>\n",
       "      <td>0.0</td>\n",
       "    </tr>\n",
       "  </tbody>\n",
       "</table>\n",
       "</div>"
      ],
      "text/plain": [
       "  node_loc    technology  year_vtg  year_act    mode  time         lvl  mrg\n",
       "0  my_home  coffee_maker      2020      2020  normal  year  500.000000  0.0\n",
       "1  my_home  coffee_maker      2021      2021  normal  year  555.555556  0.0"
      ]
     },
     "execution_count": 21,
     "metadata": {},
     "output_type": "execute_result"
    }
   ],
   "source": [
    "scen.var('ACT')"
   ]
  },
  {
   "cell_type": "markdown",
   "metadata": {},
   "source": [
    "Note: remember to close the platform before openning in another session\n",
    "\n",
    "## Close the connection to the database\n",
    "\n",
    "When working with local HSQLDB database instances, you cannot connect to one database from multipe Jupyter notebooks (or processes) at the same time.\n",
    "\n",
    "If you want to easily switch between notebooks with connections to the same `ixmp` database, you need to close the connection in one notebook before initializing the platform using `ixmp.Platform()` in another notebook.\n",
    "\n",
    "After having closed the database connection, you can reopen it using\n",
    "```\n",
    "mp.open_db()\n",
    "```"
   ]
  },
  {
   "cell_type": "code",
   "execution_count": 22,
   "metadata": {},
   "outputs": [],
   "source": [
    "mp.close_db()"
   ]
  },
  {
   "cell_type": "markdown",
   "metadata": {},
   "source": [
    "## Congratulations! \n",
    "\n",
    "You have built and run your very first *MESSAGEix* model. Welcome to the community!\n",
    "\n",
    "The next tutorials will introduce you to other features of the framework, including energy system constraints, emissions taxes, and other policy options."
   ]
  },
  {
   "cell_type": "markdown",
   "metadata": {},
   "source": [
    "# Homework \n",
    " \n",
    "1. Make sure, the script we did in class runs correctly on your machine. Please let us know, in case of any issues. \n",
    "\n",
    "2. We have added only one `commodity` in the output.Try to add more atleast two more commodities in this model. \n",
    "\n",
    "*Hint: Start by adding `demand` of that `commodity` and then following same steps as we did for `coffee_cup`*.\n"
   ]
  },
  {
   "cell_type": "code",
   "execution_count": 23,
   "metadata": {},
   "outputs": [
    {
     "ename": "at.ac.iiasa.ixmp.exceptions.IxException",
     "evalue": "at.ac.iiasa.ixmp.exceptions.IxException: There was a problem retrieving the status for run id '2'!",
     "output_type": "error",
     "traceback": [
      "\u001b[0;31m---------------------------------------------------------------------------\u001b[0m",
      "\u001b[0;31mException\u001b[0m                                 Traceback (most recent call last)",
      "\u001b[0;32m~/anaconda3/lib/python3.7/site-packages/_jpype.cpython-37m-darwin.so\u001b[0m in \u001b[0;36mat.ac.iiasa.ixmp.objects.Scenario.clone\u001b[0;34m()\u001b[0m\n",
      "\u001b[0;32m~/anaconda3/lib/python3.7/site-packages/_jpype.cpython-37m-darwin.so\u001b[0m in \u001b[0;36mat.ac.iiasa.ixmp.objects.Scenario.clone\u001b[0;34m()\u001b[0m\n",
      "\u001b[0;32m~/anaconda3/lib/python3.7/site-packages/_jpype.cpython-37m-darwin.so\u001b[0m in \u001b[0;36mat.ac.iiasa.ixmp.objects.Scenario.clone\u001b[0;34m()\u001b[0m\n",
      "\u001b[0;32m~/anaconda3/lib/python3.7/site-packages/_jpype.cpython-37m-darwin.so\u001b[0m in \u001b[0;36mat.ac.iiasa.ixmp.objects.TimeSeries.assertTimeSeriesIsLockedInDB\u001b[0;34m()\u001b[0m\n",
      "\u001b[0;32m~/anaconda3/lib/python3.7/site-packages/_jpype.cpython-37m-darwin.so\u001b[0m in \u001b[0;36mat.ac.iiasa.ixmp.database.DbDAO.getStatus\u001b[0;34m()\u001b[0m\n",
      "\u001b[0;32m~/anaconda3/lib/python3.7/site-packages/_jpype.cpython-37m-darwin.so\u001b[0m in \u001b[0;36mat.ac.iiasa.ixmp.database.DbDAO.loggedIxException\u001b[0;34m()\u001b[0m\n",
      "\u001b[0;31mException\u001b[0m: Java Exception",
      "\nThe above exception was the direct cause of the following exception:\n",
      "\u001b[0;31mat.ac.iiasa.ixmp.exceptions.IxException\u001b[0m   Traceback (most recent call last)",
      "\u001b[0;32m<ipython-input-23-b14a826c820d>\u001b[0m in \u001b[0;36m<module>\u001b[0;34m\u001b[0m\n\u001b[1;32m      1\u001b[0m scen1 = scen.clone(model, 'year','introducing an upper bound on emissions',\n\u001b[0;32m----> 2\u001b[0;31m                   keep_solution=False)\n\u001b[0m\u001b[1;32m      3\u001b[0m \u001b[0mscen1\u001b[0m\u001b[0;34m.\u001b[0m\u001b[0mcheck_out\u001b[0m\u001b[0;34m(\u001b[0m\u001b[0;34m)\u001b[0m\u001b[0;34m\u001b[0m\u001b[0;34m\u001b[0m\u001b[0m\n",
      "\u001b[0;32m~/Reps/message_ix/message_ix/core.py\u001b[0m in \u001b[0;36mclone\u001b[0;34m(self, *args, **kwargs)\u001b[0m\n\u001b[1;32m    424\u001b[0m         \"\"\"\n\u001b[1;32m    425\u001b[0m         \u001b[0;31m# Call the parent method\u001b[0m\u001b[0;34m\u001b[0m\u001b[0;34m\u001b[0m\u001b[0;34m\u001b[0m\u001b[0m\n\u001b[0;32m--> 426\u001b[0;31m         \u001b[0;32mreturn\u001b[0m \u001b[0msuper\u001b[0m\u001b[0;34m(\u001b[0m\u001b[0;34m)\u001b[0m\u001b[0;34m.\u001b[0m\u001b[0mclone\u001b[0m\u001b[0;34m(\u001b[0m\u001b[0;34m*\u001b[0m\u001b[0margs\u001b[0m\u001b[0;34m,\u001b[0m \u001b[0;34m**\u001b[0m\u001b[0mkwargs\u001b[0m\u001b[0;34m)\u001b[0m\u001b[0;34m\u001b[0m\u001b[0;34m\u001b[0m\u001b[0m\n\u001b[0m\u001b[1;32m    427\u001b[0m \u001b[0;34m\u001b[0m\u001b[0m\n\u001b[1;32m    428\u001b[0m     \u001b[0;32mdef\u001b[0m \u001b[0msolve\u001b[0m\u001b[0;34m(\u001b[0m\u001b[0mself\u001b[0m\u001b[0;34m,\u001b[0m \u001b[0mmodel\u001b[0m\u001b[0;34m=\u001b[0m\u001b[0;34m'MESSAGE'\u001b[0m\u001b[0;34m,\u001b[0m \u001b[0msolve_options\u001b[0m\u001b[0;34m=\u001b[0m\u001b[0;34m{\u001b[0m\u001b[0;34m}\u001b[0m\u001b[0;34m,\u001b[0m \u001b[0;34m**\u001b[0m\u001b[0mkwargs\u001b[0m\u001b[0;34m)\u001b[0m\u001b[0;34m:\u001b[0m\u001b[0;34m\u001b[0m\u001b[0;34m\u001b[0m\u001b[0m\n",
      "\u001b[0;32m~/Reps/ixmp/ixmp/core.py\u001b[0m in \u001b[0;36mclone\u001b[0;34m(self, model, scenario, annotation, keep_solution, shift_first_model_year, platform)\u001b[0m\n\u001b[1;32m   1457\u001b[0m             \u001b[0margs\u001b[0m\u001b[0;34m.\u001b[0m\u001b[0mappend\u001b[0m\u001b[0;34m(\u001b[0m\u001b[0mshift_first_model_year\u001b[0m\u001b[0;34m)\u001b[0m\u001b[0;34m\u001b[0m\u001b[0;34m\u001b[0m\u001b[0m\n\u001b[1;32m   1458\u001b[0m \u001b[0;34m\u001b[0m\u001b[0m\n\u001b[0;32m-> 1459\u001b[0;31m         \u001b[0;32mreturn\u001b[0m \u001b[0mself\u001b[0m\u001b[0;34m.\u001b[0m\u001b[0m_backend\u001b[0m\u001b[0;34m(\u001b[0m\u001b[0;34m'clone'\u001b[0m\u001b[0;34m,\u001b[0m \u001b[0;34m*\u001b[0m\u001b[0margs\u001b[0m\u001b[0;34m)\u001b[0m\u001b[0;34m\u001b[0m\u001b[0;34m\u001b[0m\u001b[0m\n\u001b[0m\u001b[1;32m   1460\u001b[0m \u001b[0;34m\u001b[0m\u001b[0m\n\u001b[1;32m   1461\u001b[0m     \u001b[0;32mdef\u001b[0m \u001b[0mhas_solution\u001b[0m\u001b[0;34m(\u001b[0m\u001b[0mself\u001b[0m\u001b[0;34m)\u001b[0m\u001b[0;34m:\u001b[0m\u001b[0;34m\u001b[0m\u001b[0;34m\u001b[0m\u001b[0m\n",
      "\u001b[0;32m~/Reps/ixmp/ixmp/core.py\u001b[0m in \u001b[0;36m_backend\u001b[0;34m(self, method, *args, **kwargs)\u001b[0m\n\u001b[1;32m    478\u001b[0m         \u001b[0mstill\u001b[0m \u001b[0malive\u001b[0m\u001b[0;34m.\u001b[0m\u001b[0;34m\u001b[0m\u001b[0;34m\u001b[0m\u001b[0m\n\u001b[1;32m    479\u001b[0m         \"\"\"\n\u001b[0;32m--> 480\u001b[0;31m         \u001b[0;32mreturn\u001b[0m \u001b[0mself\u001b[0m\u001b[0;34m.\u001b[0m\u001b[0mplatform\u001b[0m\u001b[0;34m.\u001b[0m\u001b[0m_backend\u001b[0m\u001b[0;34m(\u001b[0m\u001b[0mself\u001b[0m\u001b[0;34m,\u001b[0m \u001b[0mmethod\u001b[0m\u001b[0;34m,\u001b[0m \u001b[0;34m*\u001b[0m\u001b[0margs\u001b[0m\u001b[0;34m,\u001b[0m \u001b[0;34m**\u001b[0m\u001b[0mkwargs\u001b[0m\u001b[0;34m)\u001b[0m\u001b[0;34m\u001b[0m\u001b[0;34m\u001b[0m\u001b[0m\n\u001b[0m\u001b[1;32m    481\u001b[0m \u001b[0;34m\u001b[0m\u001b[0m\n\u001b[1;32m    482\u001b[0m     \u001b[0;32mdef\u001b[0m \u001b[0m__del__\u001b[0m\u001b[0;34m(\u001b[0m\u001b[0mself\u001b[0m\u001b[0;34m)\u001b[0m\u001b[0;34m:\u001b[0m\u001b[0;34m\u001b[0m\u001b[0;34m\u001b[0m\u001b[0m\n",
      "\u001b[0;32m~/Reps/ixmp/ixmp/backend/base.py\u001b[0m in \u001b[0;36m__call__\u001b[0;34m(self, obj, method, *args, **kwargs)\u001b[0m\n\u001b[1;32m     20\u001b[0m         \u001b[0;32mfor\u001b[0m \u001b[0mthe\u001b[0m \u001b[0mmethod\u001b[0m \u001b[0mname\u001b[0m\u001b[0;34m,\u001b[0m \u001b[0me\u001b[0m\u001b[0;34m.\u001b[0m\u001b[0mg\u001b[0m\u001b[0;34m.\u001b[0m \u001b[0;34m'ts_{method}'\u001b[0m\u001b[0;34m.\u001b[0m\u001b[0;34m\u001b[0m\u001b[0;34m\u001b[0m\u001b[0m\n\u001b[1;32m     21\u001b[0m         \"\"\"\n\u001b[0;32m---> 22\u001b[0;31m         \u001b[0;32mreturn\u001b[0m \u001b[0mgetattr\u001b[0m\u001b[0;34m(\u001b[0m\u001b[0mself\u001b[0m\u001b[0;34m,\u001b[0m \u001b[0mmethod\u001b[0m\u001b[0;34m)\u001b[0m\u001b[0;34m(\u001b[0m\u001b[0mobj\u001b[0m\u001b[0;34m,\u001b[0m \u001b[0;34m*\u001b[0m\u001b[0margs\u001b[0m\u001b[0;34m,\u001b[0m \u001b[0;34m**\u001b[0m\u001b[0mkwargs\u001b[0m\u001b[0;34m)\u001b[0m\u001b[0;34m\u001b[0m\u001b[0;34m\u001b[0m\u001b[0m\n\u001b[0m\u001b[1;32m     23\u001b[0m \u001b[0;34m\u001b[0m\u001b[0m\n\u001b[1;32m     24\u001b[0m     \u001b[0;32mdef\u001b[0m \u001b[0mclose_db\u001b[0m\u001b[0;34m(\u001b[0m\u001b[0mself\u001b[0m\u001b[0;34m)\u001b[0m\u001b[0;34m:\u001b[0m\u001b[0;34m\u001b[0m\u001b[0;34m\u001b[0m\u001b[0m\n",
      "\u001b[0;32m~/Reps/ixmp/ixmp/backend/jdbc.py\u001b[0m in \u001b[0;36mclone\u001b[0;34m(self, s, platform_dest, model, scenario, annotation, keep_solution, first_model_year)\u001b[0m\n\u001b[1;32m    690\u001b[0m \u001b[0;34m\u001b[0m\u001b[0m\n\u001b[1;32m    691\u001b[0m         \u001b[0;31m# Reference to the cloned Java object\u001b[0m\u001b[0;34m\u001b[0m\u001b[0;34m\u001b[0m\u001b[0;34m\u001b[0m\u001b[0m\n\u001b[0;32m--> 692\u001b[0;31m         \u001b[0mjclone\u001b[0m \u001b[0;34m=\u001b[0m \u001b[0mself\u001b[0m\u001b[0;34m.\u001b[0m\u001b[0mjindex\u001b[0m\u001b[0;34m[\u001b[0m\u001b[0ms\u001b[0m\u001b[0;34m]\u001b[0m\u001b[0;34m.\u001b[0m\u001b[0mclone\u001b[0m\u001b[0;34m(\u001b[0m\u001b[0;34m*\u001b[0m\u001b[0margs\u001b[0m\u001b[0;34m)\u001b[0m\u001b[0;34m\u001b[0m\u001b[0;34m\u001b[0m\u001b[0m\n\u001b[0m\u001b[1;32m    693\u001b[0m \u001b[0;34m\u001b[0m\u001b[0m\n\u001b[1;32m    694\u001b[0m         \u001b[0;31m# Instantiate same class as the original object\u001b[0m\u001b[0;34m\u001b[0m\u001b[0;34m\u001b[0m\u001b[0;34m\u001b[0m\u001b[0m\n",
      "\u001b[0;31mat.ac.iiasa.ixmp.exceptions.IxException\u001b[0m: at.ac.iiasa.ixmp.exceptions.IxException: There was a problem retrieving the status for run id '2'!"
     ]
    }
   ],
   "source": [
    "\n",
    "scen1 = scen.clone(model, 'year','introducing an upper bound on emissions',\n",
    "                  keep_solution=False)\n",
    "scen1.check_out()"
   ]
  },
  {
   "cell_type": "code",
   "execution_count": null,
   "metadata": {},
   "outputs": [],
   "source": []
  }
 ],
 "metadata": {
  "kernelspec": {
   "display_name": "Python 3",
   "language": "python",
   "name": "python3"
  },
  "language_info": {
   "codemirror_mode": {
    "name": "ipython",
    "version": 3
   },
   "file_extension": ".py",
   "mimetype": "text/x-python",
   "name": "python",
   "nbconvert_exporter": "python",
   "pygments_lexer": "ipython3",
   "version": "3.7.6"
  }
 },
 "nbformat": 4,
 "nbformat_minor": 2
}
