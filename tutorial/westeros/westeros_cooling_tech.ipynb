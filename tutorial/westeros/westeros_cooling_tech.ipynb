{
 "cells": [
  {
   "cell_type": "markdown",
   "metadata": {},
   "source": [
    "# Westeros Tutorial - Implementation of cooling technologies\n",
    "\n"
   ]
  },
  {
   "cell_type": "code",
   "execution_count": 1,
   "metadata": {},
   "outputs": [
    {
     "name": "stderr",
     "output_type": "stream",
     "text": [
      "In /Users/MuhammadAwais/anaconda3/lib/python3.7/site-packages/matplotlib/mpl-data/stylelib/_classic_test.mplstyle: \n",
      "The savefig.frameon rcparam was deprecated in Matplotlib 3.1 and will be removed in 3.3.\n",
      "In /Users/MuhammadAwais/anaconda3/lib/python3.7/site-packages/matplotlib/mpl-data/stylelib/_classic_test.mplstyle: \n",
      "The verbose.level rcparam was deprecated in Matplotlib 3.1 and will be removed in 3.3.\n",
      "In /Users/MuhammadAwais/anaconda3/lib/python3.7/site-packages/matplotlib/mpl-data/stylelib/_classic_test.mplstyle: \n",
      "The verbose.fileo rcparam was deprecated in Matplotlib 3.1 and will be removed in 3.3.\n"
     ]
    }
   ],
   "source": [
    "import pandas as pd\n",
    "import ixmp\n",
    "import message_ix\n",
    "\n",
    "from message_ix.utils import make_df\n",
    "\n",
    "%matplotlib inline"
   ]
  },
  {
   "cell_type": "code",
   "execution_count": 2,
   "metadata": {},
   "outputs": [],
   "source": [
    "mp = ixmp.Platform(name = 'local')"
   ]
  },
  {
   "cell_type": "code",
   "execution_count": 3,
   "metadata": {},
   "outputs": [],
   "source": [
    "model = 'Westeros Electrified'\n",
    "\n",
    "base = message_ix.Scenario(mp, model=model, scenario='baseline')\n",
    "scen = base.clone(model, 'cooling tech','llustrating cooling tech using addon',\n",
    "                  keep_solution=False)\n",
    "scen.check_out()"
   ]
  },
  {
   "cell_type": "code",
   "execution_count": 4,
   "metadata": {},
   "outputs": [],
   "source": [
    "year_df = scen.vintage_and_active_years()\n",
    "vintage_years, act_years = year_df['year_vtg'], year_df['year_act']\n",
    "model_horizon = scen.set('year')\n",
    "country = 'Westeros'"
   ]
  },
  {
   "cell_type": "markdown",
   "metadata": {},
   "source": [
    "## Retrieve parameters to perform subsequent addition of parameters"
   ]
  },
  {
   "cell_type": "code",
   "execution_count": 5,
   "metadata": {},
   "outputs": [],
   "source": [
    "#year_df = scen.vintage_and_active_years()\n",
    "vintage_years, act_years = year_df['year_vtg'], year_df['year_act']\n",
    "model_horizon = scen.set('year')\n",
    "country = 'Westeros'\n",
    "gdp_profile = pd.Series([1., 1.5, 1.9], index=pd.Index([700, 710, 720], name='Time'))"
   ]
  },
  {
   "cell_type": "markdown",
   "metadata": {},
   "source": [
    "## Defining input for different parameters \n",
    "\n",
    "We add `water supply` as new level of water supply and `freshwater_supply` & `saline_supply` as commodities"
   ]
  },
  {
   "cell_type": "code",
   "execution_count": 6,
   "metadata": {},
   "outputs": [],
   "source": [
    "scen.add_set(\"commodity\", [\"freshwater_supply\", \"saline_supply\",\"cooling_req\",\"freshwater_instream\"])\n",
    "scen.add_set(\"level\", [\"water_supply\",\"cooling\"])"
   ]
  },
  {
   "cell_type": "code",
   "execution_count": 7,
   "metadata": {},
   "outputs": [],
   "source": [
    "base_input = {\n",
    "    'node_loc': country,\n",
    "    'year_vtg': vintage_years,\n",
    "    'year_act': act_years,\n",
    "    'mode': 'standard',\n",
    "    'node_origin': country,\n",
    "    'commodity': 'electricity',\n",
    "    'time': 'year',\n",
    "    'time_origin': 'year',\n",
    "}\n",
    "\n",
    "base_output = {\n",
    "    'node_loc': country,\n",
    "    'year_vtg': vintage_years,\n",
    "    'year_act': act_years,\n",
    "    'mode': 'standard',\n",
    "    'node_dest': country,\n",
    "    'time': 'year',\n",
    "    'time_dest': 'year', \n",
    "    'unit': '%',\n",
    "}\n",
    "\n",
    "\n",
    "base_capacity_factor = {\n",
    "    'node_loc': country,\n",
    "    'year_vtg': vintage_years,\n",
    "    'year_act': act_years,\n",
    "    'time': 'year',\n",
    "    'unit': '%',\n",
    "}\n",
    "\n",
    "base_technical_lifetime = {\n",
    "    'node_loc': country,\n",
    "    'year_vtg': model_horizon,\n",
    "    'unit': 'y',\n",
    "}\n",
    "\n",
    "base_inv_cost = {\n",
    "    'node_loc': country,\n",
    "    'year_vtg': model_horizon,\n",
    "    'unit': 'USD/GWa',\n",
    "}\n",
    "\n",
    "base_fix_cost = {\n",
    "    'node_loc': country,\n",
    "    'year_vtg': vintage_years,\n",
    "    'year_act': act_years,\n",
    "    'unit': 'USD/GWa',\n",
    "}\n",
    "\n",
    "base_var_cost = {\n",
    "    'node_loc': country,\n",
    "    'year_vtg': vintage_years,\n",
    "    'year_act': act_years,\n",
    "    'mode': 'standard',\n",
    "    'time': 'year',\n",
    "    'unit': 'USD/GWa',\n",
    "}\n",
    "\n",
    "base_growth = {\n",
    "    'node_loc': country,\n",
    "    'year_act': model_horizon,\n",
    "    'time': 'year',\n",
    "    'unit': '-',\n",
    "}\n",
    "\n",
    "base_capacity = {\n",
    "    'node_loc': country,\n",
    "    'year_vtg': model_horizon,\n",
    "    'unit': 'GWa',\n",
    "}\n",
    "\n",
    "base_activity = {\n",
    "    'node_loc': country,\n",
    "    'year_act': act_years,\n",
    "    'mode': 'standard',\n",
    "    'time': 'year',\n",
    "    'unit': 'GWa',\n",
    "}"
   ]
  },
  {
   "cell_type": "markdown",
   "metadata": {},
   "source": [
    "## Add `gas_ppl` to the model"
   ]
  },
  {
   "cell_type": "code",
   "execution_count": 8,
   "metadata": {},
   "outputs": [],
   "source": [
    "tec = 'gas_ppl'\n",
    "scen.add_set(\"technology\", tec)\n",
    "\n",
    "gas_out = make_df(base_output, technology=tec, commodity='electricity', \n",
    "                   level='secondary', value=1.)\n",
    "scen.add_par('output', gas_out)\n",
    "\n",
    "\n",
    "df = make_df(base_capacity_factor, technology=tec, value=1)\n",
    "scen.add_par('capacity_factor', df)\n",
    "\n",
    "tl = make_df(base_technical_lifetime, technology=tec, value=20)\n",
    "scen.add_par('technical_lifetime', tl)\n",
    "\n",
    "df = make_df(base_growth, technology=tec, value=0.1) \n",
    "scen.add_par('growth_activity_up', df)\n",
    "\n",
    "# Adding historical activity\n",
    "demand_per_year = 40 * 12 * 1000 / 8760\n",
    "grid_efficiency = 0.9\n",
    "historic_demand = 0.85 * demand_per_year\n",
    "historic_generation = historic_demand / grid_efficiency\n",
    "gas_fraction = 0.6\n",
    "\n",
    "df = make_df(base_activity, technology=tec, value=20)\n",
    "scen.add_par('historical_activity', df)\n",
    "\n",
    "df = make_df(base_capacity, technology=tec, value=3)\n",
    "scen.add_par('historical_new_capacity', df)\n"
   ]
  },
  {
   "cell_type": "markdown",
   "metadata": {},
   "source": [
    "### addon technology - interlinking technologies\n",
    "In order to demonstrate the use of this feature, we will be adding a new demand for water to this scenario. This demand will be met by the coal_ppl via three cooling technologies, the addon technology.\n",
    "\n",
    "We will therefore go through the following steps:\n",
    "\n",
    "#### Cooling technology types\n",
    "Add new technologies:\n",
    "1. Once-through cooling by freshwater - `coal_ppl_ot_fresh`\n",
    "2. Closed loop cooling by freshwater - `coal_ppl_cl_fresh`\n",
    "3. Once through cooling seawater `coal_ppl_ot_saline`\n",
    "4. Air cooling `coal_ppl_air`\n",
    "\n",
    "Link these cooling tehcnologies to the `coal_ppl` using the addon feature.\n",
    "\n",
    "## Adding freshwater supply & instream extraction as techs\n",
    "\n",
    "The water supply technologies have only input & output dataframe in model. \n",
    "\n",
    "*At some point, we may want to link it to global water supply model in future\n"
   ]
  },
  {
   "cell_type": "code",
   "execution_count": 9,
   "metadata": {},
   "outputs": [],
   "source": [
    "tec = 'extract_freshwater_supply'\n",
    "\n",
    "scen.add_set('technology', tec)\n",
    "\n",
    "ext_fresh_water = make_df(base_output, technology=tec, commodity='freshwater_supply', \n",
    "                   level='water_supply', value=1.0)\n",
    "\n",
    "scen.add_par('output', ext_fresh_water)\n",
    "\n",
    "tec = 'extract__freshwater_instream'\n",
    "\n",
    "scen.add_set('technology', tec)\n",
    "\n",
    "ext_freswater_instream  = make_df(base_output, technology=tec, commodity='freshwater_instream', \n",
    "                   level='water_supply', value=1.0)\n",
    "\n",
    "scen.add_par('output', ext_freswater_instream)"
   ]
  },
  {
   "cell_type": "markdown",
   "metadata": {},
   "source": [
    "### Now we add parameters for cooling technologies\n",
    "\n",
    "We will be using `water required per heat output` for cooling technologies as input value of cooling technology types. \n"
   ]
  },
  {
   "cell_type": "code",
   "execution_count": 10,
   "metadata": {},
   "outputs": [],
   "source": [
    "tec = 'coal_ppl_ot_fresh' \n",
    "scen.add_set('technology', tec)\n",
    "\n",
    "inp = make_df(base_input, technology=tec, commodity='freshwater_supply',  \n",
    "                  level='water_supply', value=0.938, unit='-')\n",
    "\n",
    "scen.add_par('input', inp)\n",
    "\n",
    "invc = make_df(base_inv_cost, technology=tec, value=600)\n",
    "scen.add_par('inv_cost', invc)\n",
    "\n",
    "fixc = make_df(base_fix_cost, technology=tec, value=0)\n",
    "scen.add_par('fix_cost', fixc)\n",
    "\n",
    "tl = make_df(base_technical_lifetime, technology=tec, value=30)\n",
    "scen.add_par('technical_lifetime', tl)\n",
    "\n",
    "tec = 'coal_ppl_cl_fresh' \n",
    "scen.add_set('technology', tec)\n",
    "\n",
    "# Since closed loop fresh uses electricity and freshwater as input, so we use both\n",
    "inp = make_df(base_input, technology=tec, commodity='electricity',  \n",
    "                  level='secondary', value=0.017, unit='-')\n",
    "inp1 = make_df(base_input, technology=tec, commodity='freshwater_supply',  \n",
    "                  level='water_supply', value=0.017, unit='-')\n",
    "\n",
    "\n",
    "scen.add_par('input', inp)\n",
    "scen.add_par('input', inp1)\n",
    "\n",
    "invc = make_df(base_inv_cost, technology=tec, value=150)\n",
    "scen.add_par('inv_cost', invc)\n",
    "\n",
    "fixc = make_df(base_fix_cost, technology=tec, value=0)\n",
    "scen.add_par('fix_cost', fixc)\n",
    "\n",
    "tl = make_df(base_technical_lifetime, technology=tec, value=30)\n",
    "scen.add_par('technical_lifetime', tl)\n",
    "\n",
    "tec = 'coal_ppl_ot_saline' \n",
    "scen.add_set('technology', tec)\n",
    "\n",
    "inp = make_df(base_input, technology=tec, commodity='saline_supply',  \n",
    "                  level='water_supply', value=0.938, unit='-')\n",
    "scen.add_par('input', inp)\n",
    "\n",
    "invc = make_df(base_inv_cost, technology=tec, value=150)\n",
    "scen.add_par('inv_cost', invc)\n",
    "\n",
    "fixc = make_df(base_fix_cost, technology=tec, value=0)\n",
    "scen.add_par('fix_cost', fixc)\n",
    "\n",
    "tl = make_df(base_technical_lifetime, technology=tec, value=30)\n",
    "scen.add_par('technical_lifetime', tl)\n",
    "\n",
    "tec = 'coal_ppl_air' \n",
    "scen.add_set('technology', tec)\n",
    "\n",
    "inp = make_df(base_input, technology=tec, commodity='electricity',  \n",
    "                  level='secondary', value=0.102, unit='-')\n",
    "scen.add_par('input', inp)\n",
    "\n",
    "invc = make_df(base_inv_cost, technology=tec, value=430)\n",
    "scen.add_par('inv_cost', invc)\n",
    "\n",
    "fixc = make_df(base_fix_cost, technology=tec, value=0)\n",
    "scen.add_par('fix_cost', fixc)\n",
    "\n",
    "tl = make_df(base_technical_lifetime, technology=tec, value=30)\n",
    "scen.add_par('technical_lifetime', tl)"
   ]
  },
  {
   "cell_type": "markdown",
   "metadata": {},
   "source": [
    "Adding cooling technolgies for gas_ppl"
   ]
  },
  {
   "cell_type": "code",
   "execution_count": 11,
   "metadata": {},
   "outputs": [],
   "source": [
    "tec = 'gas_ppl_ot_fresh' \n",
    "scen.add_set('technology', tec)\n",
    "\n",
    "inp = make_df(base_input, technology=tec, commodity='freshwater_supply',  \n",
    "                  level='water_supply', value=0.938, unit='-')\n",
    "\n",
    "scen.add_par('input', inp)\n",
    "\n",
    "invc = make_df(base_inv_cost, technology=tec, value=600)\n",
    "scen.add_par('inv_cost', invc)\n",
    "\n",
    "fixc = make_df(base_fix_cost, technology=tec, value=0)\n",
    "scen.add_par('fix_cost', fixc)\n",
    "\n",
    "tl = make_df(base_technical_lifetime, technology=tec, value=30)\n",
    "scen.add_par('technical_lifetime', tl)\n",
    "\n",
    "tec = 'gas_ppl_cl_fresh' \n",
    "scen.add_set('technology', tec)\n",
    "\n",
    "# Since closed loop fresh uses electricity and freshwater as input, so we use both\n",
    "inp = make_df(base_input, technology=tec, commodity='electricity',  \n",
    "                  level='secondary', value=0.017, unit='-')\n",
    "inp1 = make_df(base_input, technology=tec, commodity='freshwater_supply',  \n",
    "                  level='water_supply', value=0.017, unit='-')\n",
    "\n",
    "\n",
    "scen.add_par('input', inp)\n",
    "scen.add_par('input', inp1)\n",
    "\n",
    "invc = make_df(base_inv_cost, technology=tec, value=150)\n",
    "scen.add_par('inv_cost', invc)\n",
    "\n",
    "fixc = make_df(base_fix_cost, technology=tec, value=0)\n",
    "scen.add_par('fix_cost', fixc)\n",
    "\n",
    "tl = make_df(base_technical_lifetime, technology=tec, value=30)\n",
    "scen.add_par('technical_lifetime', tl)\n",
    "\n",
    "tec = 'gas_ppl_ot_saline' \n",
    "scen.add_set('technology', tec)\n",
    "\n",
    "inp = make_df(base_input, technology=tec, commodity='saline_supply',  \n",
    "                  level='water_supply', value=0.938, unit='-')\n",
    "scen.add_par('input', inp)\n",
    "\n",
    "invc = make_df(base_inv_cost, technology=tec, value=150)\n",
    "scen.add_par('inv_cost', invc)\n",
    "\n",
    "fixc = make_df(base_fix_cost, technology=tec, value=0)\n",
    "scen.add_par('fix_cost', fixc)\n",
    "\n",
    "tl = make_df(base_technical_lifetime, technology=tec, value=30)\n",
    "scen.add_par('technical_lifetime', tl)\n",
    "\n",
    "tec = 'gas_ppl_air' \n",
    "scen.add_set('technology', tec)\n",
    "\n",
    "inp = make_df(base_input, technology=tec, commodity='electricity',  \n",
    "                  level='secondary', value=0.102, unit='-')\n",
    "scen.add_par('input', inp)\n",
    "\n",
    "invc = make_df(base_inv_cost, technology=tec, value=430)\n",
    "scen.add_par('inv_cost', invc)\n",
    "\n",
    "fixc = make_df(base_fix_cost, technology=tec, value=0)\n",
    "scen.add_par('fix_cost', fixc)\n",
    "\n",
    "tl = make_df(base_technical_lifetime, technology=tec, value=30)\n",
    "scen.add_par('technical_lifetime', tl)"
   ]
  },
  {
   "cell_type": "markdown",
   "metadata": {},
   "source": [
    "## Addon mapping \n",
    "We try to define a single `type_addon` for each power plant. Here we use `coal_ppl` as an example. \n",
    "\n",
    "`type_addon` refers to cooling technologies for `coal_ppl` ,whereas `addon` refers to cooling technology types. "
   ]
  },
  {
   "cell_type": "code",
   "execution_count": 13,
   "metadata": {},
   "outputs": [],
   "source": [
    "# If we need to add more power plants, we will be using more type_addon here and use the heat rate or cooling requirement per unit of output here\n",
    "type_addon = 'cool_coal_ppl'\n",
    "\n",
    "# Adding cooling technology types \n",
    "addon = ('coal_ppl_ot_fresh','coal_ppl_cl_fresh','coal_ppl_ot_saline','coal_ppl_air')\n",
    "\n",
    "scen.add_set('addon', pd.DataFrame({'technology': addon})) \n",
    "\n",
    "# Parent technology to map \n",
    "tec = 'coal_ppl'\n",
    "\n",
    "# Mapping addon with type_addon and parent tech\n",
    "scen.add_cat('addon', type_addon, addon)\n",
    "scen.add_set('map_tec_addon', pd.DataFrame({'technology': tec,\n",
    "                                            'type_addon': [type_addon]}))"
   ]
  },
  {
   "cell_type": "markdown",
   "metadata": {},
   "source": [
    "In this case, we use addon conversion factor for each `type_addon`.Addon conversion factor refers to the heat produced by the parent technology (in this case `coal_ppl`) that is needed to be cooled. \n",
    "For now for simplicity, we are referring to heat rate which is 1/efficiency. In the current scenario would be 5. "
   ]
  },
  {
   "cell_type": "code",
   "execution_count": 14,
   "metadata": {},
   "outputs": [],
   "source": [
    "df = pd.DataFrame({'node': country,\n",
    "                   'technology': tec,\n",
    "                   'year_vtg': vintage_years,\n",
    "                   'year_act': act_years,\n",
    "                   'mode': 'standard',\n",
    "                   'time': 'year',\n",
    "                   'type_addon': type_addon,\n",
    "                   'value': 5,\n",
    "                   'unit': '%'})\n",
    "\n",
    "scen.add_par('addon_conversion', df)"
   ]
  },
  {
   "cell_type": "markdown",
   "metadata": {},
   "source": [
    "Now we bound the activity of `cool_coal_ppl` to 100% share of `coal_ppl` to make sure that all of the heat produced is being cooled."
   ]
  },
  {
   "cell_type": "code",
   "execution_count": 15,
   "metadata": {},
   "outputs": [],
   "source": [
    "df = pd.DataFrame({'node': country,\n",
    "                   'technology': tec,\n",
    "                   'year_act': act_years,\n",
    "                   'mode': 'standard',\n",
    "                   'time': 'year',\n",
    "                   'type_addon': type_addon,\n",
    "                   'value': 1,\n",
    "                   'unit': '%'})\n",
    "scen.add_par('addon_lo', df)"
   ]
  },
  {
   "cell_type": "code",
   "execution_count": 16,
   "metadata": {},
   "outputs": [],
   "source": [
    "# If we need to add more power plants, we will be using more type_addon here and use the heat rate or cooling requirement per unit of output here\n",
    "type_addon = 'cool_gas_ppl'\n",
    "\n",
    "\n",
    "# Adding cooling technology types \n",
    "addon = ('gas_ppl_ot_fresh','gas_ppl_cl_fresh','gas_ppl_ot_saline','gas_ppl_air')\n",
    "\n",
    "scen.add_set('addon', pd.DataFrame({'technology': addon})) \n",
    "\n",
    "# Parent technology to map \n",
    "tec = 'gas_ppl'\n",
    "\n",
    "# Mapping addon with type_addon and parent tech\n",
    "scen.add_cat('addon', type_addon, addon)\n",
    "scen.add_set('map_tec_addon', pd.DataFrame({'technology': tec,\n",
    "                                            'type_addon': [type_addon]}))\n",
    "\n",
    "df = pd.DataFrame({'node': country,\n",
    "                   'technology': tec,\n",
    "                   'year_vtg': vintage_years,\n",
    "                   'year_act': act_years,\n",
    "                   'mode': 'standard',\n",
    "                   'time': 'year',\n",
    "                   'type_addon': type_addon,\n",
    "                   'value': 2.5,\n",
    "                   'unit': '%'})\n",
    "\n",
    "scen.add_par('addon_conversion', df)\n",
    "\n",
    "df = pd.DataFrame({'node': country,\n",
    "                   'technology': tec,\n",
    "                   'year_act': act_years,\n",
    "                   'mode': 'standard',\n",
    "                   'time': 'year',\n",
    "                   'type_addon': type_addon,\n",
    "                   'value': 1,\n",
    "                   'unit': '%'})\n",
    "scen.add_par('addon_lo', df)"
   ]
  },
  {
   "cell_type": "markdown",
   "metadata": {},
   "source": [
    "## Commit & Solve "
   ]
  },
  {
   "cell_type": "code",
   "execution_count": 17,
   "metadata": {},
   "outputs": [],
   "source": [
    "scen.commit(comment='implement cooling tech')\n",
    "scen.set_as_default()"
   ]
  },
  {
   "cell_type": "code",
   "execution_count": 18,
   "metadata": {},
   "outputs": [],
   "source": [
    "scen.solve()"
   ]
  },
  {
   "cell_type": "code",
   "execution_count": 19,
   "metadata": {},
   "outputs": [],
   "source": [
    "#scen.remove_solution()\n",
    "#scen.check_out()"
   ]
  },
  {
   "cell_type": "code",
   "execution_count": 20,
   "metadata": {},
   "outputs": [
    {
     "data": {
      "text/plain": [
       "253515.015625"
      ]
     },
     "execution_count": 20,
     "metadata": {},
     "output_type": "execute_result"
    }
   ],
   "source": [
    "scen.var('OBJ')['lvl']"
   ]
  },
  {
   "cell_type": "markdown",
   "metadata": {},
   "source": [
    "## Using reporting features to see the output of cooling technology. \n",
    "\n",
    "The output dataframe here shows the water required per heat rate of `coal_ppl` (as per our understanding)"
   ]
  },
  {
   "cell_type": "code",
   "execution_count": 24,
   "metadata": {},
   "outputs": [],
   "source": [
    "from message_ix.reporting import Reporter\n",
    "from ixmp.reporting import configure\n",
    "\n",
    "# Create a reporter from the existing Scenario\n",
    "rep = Reporter.from_scenario(scen)\n",
    "\n",
    "# Reporter uses the Python pint to handle units. '-', used in the Westeros\n",
    "# tutorial, is not a defined SI unit. We tell the Reporter to replace it with\n",
    "# '' (unitless) everywhere it appears.\n",
    "configure(units={'replace': {'-': ''}})\n"
   ]
  },
  {
   "cell_type": "code",
   "execution_count": 28,
   "metadata": {},
   "outputs": [
    {
     "data": {
      "text/plain": [
       "nl        t                   yv   ya   m         h     c                  l             no        ho  \n",
       "Westeros  coal_ppl_air        700  700  standard  year  electricity        secondary     Westeros  year    0.000000\n",
       "                                   710  standard  year  electricity        secondary     Westeros  year    0.000000\n",
       "                                   720  standard  year  electricity        secondary     Westeros  year    0.000000\n",
       "                              710  710  standard  year  electricity        secondary     Westeros  year    0.000000\n",
       "                                   720  standard  year  electricity        secondary     Westeros  year    0.000000\n",
       "                              720  720  standard  year  electricity        secondary     Westeros  year    0.000000\n",
       "          coal_ppl_cl_fresh   700  700  standard  year  electricity        secondary     Westeros  year    6.845585\n",
       "                                                        freshwater_supply  water_supply  Westeros  year    6.845585\n",
       "                                   710  standard  year  electricity        secondary     Westeros  year    6.845585\n",
       "                                                        freshwater_supply  water_supply  Westeros  year    6.845585\n",
       "                                   720  standard  year  electricity        secondary     Westeros  year    3.029281\n",
       "                                                        freshwater_supply  water_supply  Westeros  year    3.029281\n",
       "                              710  710  standard  year  electricity        secondary     Westeros  year    1.508212\n",
       "                                                        freshwater_supply  water_supply  Westeros  year    1.508212\n",
       "                                   720  standard  year  electricity        secondary     Westeros  year    0.000000\n",
       "                                                        freshwater_supply  water_supply  Westeros  year    0.000000\n",
       "                              720  720  standard  year  electricity        secondary     Westeros  year    0.000000\n",
       "                                                        freshwater_supply  water_supply  Westeros  year    0.000000\n",
       "          coal_ppl_ot_fresh   700  700  standard  year  freshwater_supply  water_supply  Westeros  year    0.000000\n",
       "                                   710  standard  year  freshwater_supply  water_supply  Westeros  year    0.000000\n",
       "                                   720  standard  year  freshwater_supply  water_supply  Westeros  year    0.000000\n",
       "                              710  710  standard  year  freshwater_supply  water_supply  Westeros  year    0.000000\n",
       "                                   720  standard  year  freshwater_supply  water_supply  Westeros  year    0.000000\n",
       "                              720  720  standard  year  freshwater_supply  water_supply  Westeros  year    0.000000\n",
       "          coal_ppl_ot_saline  700  700  standard  year  saline_supply      water_supply  Westeros  year    0.000000\n",
       "                                   710  standard  year  saline_supply      water_supply  Westeros  year    0.000000\n",
       "                                   720  standard  year  saline_supply      water_supply  Westeros  year    0.000000\n",
       "                              710  710  standard  year  saline_supply      water_supply  Westeros  year    0.000000\n",
       "                                   720  standard  year  saline_supply      water_supply  Westeros  year    0.000000\n",
       "                              720  720  standard  year  saline_supply      water_supply  Westeros  year    0.000000\n",
       "          gas_ppl_air         700  700  standard  year  electricity        secondary     Westeros  year    0.000000\n",
       "                                   710  standard  year  electricity        secondary     Westeros  year    0.000000\n",
       "                                   720  standard  year  electricity        secondary     Westeros  year    0.000000\n",
       "                              710  710  standard  year  electricity        secondary     Westeros  year    0.000000\n",
       "                                   720  standard  year  electricity        secondary     Westeros  year    0.000000\n",
       "                              720  720  standard  year  electricity        secondary     Westeros  year    0.000000\n",
       "          gas_ppl_cl_fresh    700  700  standard  year  electricity        secondary     Westeros  year    0.000000\n",
       "                                                        freshwater_supply  water_supply  Westeros  year    0.000000\n",
       "                                   710  standard  year  electricity        secondary     Westeros  year    0.000000\n",
       "                                                        freshwater_supply  water_supply  Westeros  year    0.000000\n",
       "                                   720  standard  year  electricity        secondary     Westeros  year    0.000000\n",
       "                                                        freshwater_supply  water_supply  Westeros  year    0.000000\n",
       "                              710  710  standard  year  electricity        secondary     Westeros  year    2.204681\n",
       "                                                        freshwater_supply  water_supply  Westeros  year    2.204681\n",
       "                                   720  standard  year  electricity        secondary     Westeros  year    2.204681\n",
       "                                                        freshwater_supply  water_supply  Westeros  year    2.204681\n",
       "                              720  720  standard  year  electricity        secondary     Westeros  year    5.718375\n",
       "                                                        freshwater_supply  water_supply  Westeros  year    5.718375\n",
       "          gas_ppl_ot_fresh    700  700  standard  year  freshwater_supply  water_supply  Westeros  year    0.000000\n",
       "                                   710  standard  year  freshwater_supply  water_supply  Westeros  year    0.000000\n",
       "                                   720  standard  year  freshwater_supply  water_supply  Westeros  year    0.000000\n",
       "                              710  710  standard  year  freshwater_supply  water_supply  Westeros  year    0.000000\n",
       "                                   720  standard  year  freshwater_supply  water_supply  Westeros  year    0.000000\n",
       "                              720  720  standard  year  freshwater_supply  water_supply  Westeros  year    0.000000\n",
       "          gas_ppl_ot_saline   700  700  standard  year  saline_supply      water_supply  Westeros  year    0.000000\n",
       "                                   710  standard  year  saline_supply      water_supply  Westeros  year    0.000000\n",
       "                                   720  standard  year  saline_supply      water_supply  Westeros  year    0.000000\n",
       "                              710  710  standard  year  saline_supply      water_supply  Westeros  year    0.000000\n",
       "                                   720  standard  year  saline_supply      water_supply  Westeros  year    0.000000\n",
       "                              720  720  standard  year  saline_supply      water_supply  Westeros  year    0.000000\n",
       "dtype: float64"
      ]
     },
     "execution_count": 28,
     "metadata": {},
     "output_type": "execute_result"
    }
   ],
   "source": [
    "\n",
    "\n",
    "techs = ['coal_ppl_ot_fresh','coal_ppl_cl_fresh','coal_ppl_ot_saline','coal_ppl_air',\n",
    "        'gas_ppl_ot_fresh','gas_ppl_cl_fresh','gas_ppl_ot_saline','gas_ppl_air']\n",
    "rep.set_filters(t= (techs))\n",
    "out = rep.full_key('in')\n",
    "output = rep.get(out)\n",
    "output"
   ]
  },
  {
   "cell_type": "code",
   "execution_count": null,
   "metadata": {},
   "outputs": [],
   "source": [
    "mp.close_db()"
   ]
  }
 ],
 "metadata": {
  "kernelspec": {
   "display_name": "Python 3",
   "language": "python",
   "name": "python3"
  },
  "language_info": {
   "codemirror_mode": {
    "name": "ipython",
    "version": 3
   },
   "file_extension": ".py",
   "mimetype": "text/x-python",
   "name": "python",
   "nbconvert_exporter": "python",
   "pygments_lexer": "ipython3",
   "version": "3.7.6"
  }
 },
 "nbformat": 4,
 "nbformat_minor": 2
}
