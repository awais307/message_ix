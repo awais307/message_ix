{
 "cells": [
  {
   "cell_type": "markdown",
   "metadata": {
    "slideshow": {
     "slide_type": "slide"
    }
   },
   "source": [
    "# Westeros Tutorial Water\n",
    "\n"
   ]
  },
  {
   "cell_type": "markdown",
   "metadata": {
    "slideshow": {
     "slide_type": "slide"
    }
   },
   "source": [
    "## Ready, steady, go!\n",
    "\n",
    "First, we import all the packages we need. We import a utility function called *make_df*, which can be used to wrap the input data into dataframes that can be saved in model parameters."
   ]
  },
  {
   "cell_type": "code",
   "execution_count": 1,
   "metadata": {
    "slideshow": {
     "slide_type": "fragment"
    }
   },
   "outputs": [
    {
     "data": {
      "application/javascript": [
       "IPython.OutputArea.prototype._should_scroll = function(lines) { return false; }"
      ],
      "text/plain": [
       "<IPython.core.display.Javascript object>"
      ]
     },
     "metadata": {},
     "output_type": "display_data"
    }
   ],
   "source": [
    "import pandas as pd\n",
    "import ixmp\n",
    "import message_ix\n",
    "\n",
    "from message_ix.utils import make_df\n",
    "\n",
    "%matplotlib inline"
   ]
  },
  {
   "cell_type": "markdown",
   "metadata": {
    "slideshow": {
     "slide_type": "slide"
    }
   },
   "source": [
    "The *MESSAGEix* model is built using the *ixmp* `Platform`. The `Platform` is your connection to a database for storing model input data and scenario results."
   ]
  },
  {
   "cell_type": "code",
   "execution_count": 2,
   "metadata": {
    "slideshow": {
     "slide_type": "fragment"
    }
   },
   "outputs": [],
   "source": [
    "mp = ixmp.Platform()"
   ]
  },
  {
   "cell_type": "markdown",
   "metadata": {
    "slideshow": {
     "slide_type": "slide"
    }
   },
   "source": [
    "Once connected, we create a new `Scenario` to build our model. A `Scenario` instance will contain all the model input data and results."
   ]
  },
  {
   "cell_type": "code",
   "execution_count": 3,
   "metadata": {
    "slideshow": {
     "slide_type": "fragment"
    }
   },
   "outputs": [
    {
     "name": "stderr",
     "output_type": "stream",
     "text": [
      "Missing annotation for new Scenario Sample Water/baseline\n",
      "Existing index sets of 'cat_emission' ['type_emission', 'emission'] do not match ('type_emission', 'emission')\n",
      "Existing index sets of 'cat_node' ['type_node', 'node'] do not match ('type_node', 'node')\n",
      "Existing index sets of 'cat_relation' ['type_relation', 'relation'] do not match ('type_relation', 'relation')\n",
      "Existing index sets of 'cat_tec' ['type_tec', 'technology'] do not match ('type_tec', 'technology')\n",
      "Existing index sets of 'cat_year' ['type_year', 'year'] do not match ('type_year', 'year')\n",
      "Existing index sets of 'map_shares_commodity_share' ['shares', 'node', 'node', 'type_tec', 'mode', 'commodity', 'level'] do not match ('shares', 'node', 'node', 'type_tec', 'mode', 'commodity', 'level')\n",
      "Existing index names of 'map_shares_commodity_share' ['shares', 'node_share', 'node', 'type_tec', 'mode', 'commodity', 'level'] do not match ('shares', 'node_share', 'node', 'type_tec', 'mode', 'commodity', 'level')\n",
      "Existing index sets of 'map_shares_commodity_total' ['shares', 'node', 'node', 'type_tec', 'mode', 'commodity', 'level'] do not match ('shares', 'node', 'node', 'type_tec', 'mode', 'commodity', 'level')\n",
      "Existing index names of 'map_shares_commodity_total' ['shares', 'node_share', 'node', 'type_tec', 'mode', 'commodity', 'level'] do not match ('shares', 'node_share', 'node', 'type_tec', 'mode', 'commodity', 'level')\n",
      "Existing index sets of 'abs_cost_activity_soft_lo' ['node', 'technology', 'year', 'time'] do not match ('node', 'technology', 'year', 'time')\n",
      "Existing index names of 'abs_cost_activity_soft_lo' ['node_loc', 'technology', 'year_act', 'time'] do not match ('node_loc', 'technology', 'year_act', 'time')\n",
      "Existing index sets of 'abs_cost_activity_soft_up' ['node', 'technology', 'year', 'time'] do not match ('node', 'technology', 'year', 'time')\n",
      "Existing index names of 'abs_cost_activity_soft_up' ['node_loc', 'technology', 'year_act', 'time'] do not match ('node_loc', 'technology', 'year_act', 'time')\n",
      "Existing index sets of 'abs_cost_new_capacity_soft_lo' ['node', 'technology', 'year'] do not match ('node', 'technology', 'year')\n",
      "Existing index names of 'abs_cost_new_capacity_soft_lo' ['node_loc', 'technology', 'year_vtg'] do not match ('node_loc', 'technology', 'year_vtg')\n",
      "Existing index sets of 'abs_cost_new_capacity_soft_up' ['node', 'technology', 'year'] do not match ('node', 'technology', 'year')\n",
      "Existing index names of 'abs_cost_new_capacity_soft_up' ['node_loc', 'technology', 'year_vtg'] do not match ('node_loc', 'technology', 'year_vtg')\n",
      "Existing index sets of 'addon_conversion' ['node', 'technology', 'year', 'year', 'mode', 'time', 'type_addon'] do not match ('node', 'technology', 'year', 'year', 'mode', 'time', 'type_addon')\n",
      "Existing index names of 'addon_conversion' ['node', 'technology', 'year_vtg', 'year_act', 'mode', 'time', 'type_addon'] do not match ('node', 'technology', 'year_vtg', 'year_act', 'mode', 'time', 'type_addon')\n",
      "Existing index sets of 'addon_lo' ['node', 'technology', 'year', 'mode', 'time', 'type_addon'] do not match ('node', 'technology', 'year', 'mode', 'time', 'type_addon')\n",
      "Existing index names of 'addon_lo' ['node', 'technology', 'year_act', 'mode', 'time', 'type_addon'] do not match ('node', 'technology', 'year_act', 'mode', 'time', 'type_addon')\n",
      "Existing index sets of 'addon_up' ['node', 'technology', 'year', 'mode', 'time', 'type_addon'] do not match ('node', 'technology', 'year', 'mode', 'time', 'type_addon')\n",
      "Existing index names of 'addon_up' ['node', 'technology', 'year_act', 'mode', 'time', 'type_addon'] do not match ('node', 'technology', 'year_act', 'mode', 'time', 'type_addon')\n",
      "Existing index sets of 'bound_activity_lo' ['node', 'technology', 'year', 'mode', 'time'] do not match ('node', 'technology', 'year', 'mode', 'time')\n",
      "Existing index names of 'bound_activity_lo' ['node_loc', 'technology', 'year_act', 'mode', 'time'] do not match ('node_loc', 'technology', 'year_act', 'mode', 'time')\n",
      "Existing index sets of 'bound_activity_up' ['node', 'technology', 'year', 'mode', 'time'] do not match ('node', 'technology', 'year', 'mode', 'time')\n",
      "Existing index names of 'bound_activity_up' ['node_loc', 'technology', 'year_act', 'mode', 'time'] do not match ('node_loc', 'technology', 'year_act', 'mode', 'time')\n",
      "Existing index sets of 'bound_emission' ['node', 'type_emission', 'type_tec', 'type_year'] do not match ('node', 'type_emission', 'type_tec', 'type_year')\n",
      "Existing index sets of 'bound_extraction_up' ['node', 'commodity', 'grade', 'year'] do not match ('node', 'commodity', 'grade', 'year')\n",
      "Existing index sets of 'bound_new_capacity_lo' ['node', 'technology', 'year'] do not match ('node', 'technology', 'year')\n",
      "Existing index names of 'bound_new_capacity_lo' ['node_loc', 'technology', 'year_vtg'] do not match ('node_loc', 'technology', 'year_vtg')\n",
      "Existing index sets of 'bound_new_capacity_up' ['node', 'technology', 'year'] do not match ('node', 'technology', 'year')\n",
      "Existing index names of 'bound_new_capacity_up' ['node_loc', 'technology', 'year_vtg'] do not match ('node_loc', 'technology', 'year_vtg')\n",
      "Existing index sets of 'bound_total_capacity_lo' ['node', 'technology', 'year'] do not match ('node', 'technology', 'year')\n",
      "Existing index names of 'bound_total_capacity_lo' ['node_loc', 'technology', 'year_act'] do not match ('node_loc', 'technology', 'year_act')\n",
      "Existing index sets of 'bound_total_capacity_up' ['node', 'technology', 'year'] do not match ('node', 'technology', 'year')\n",
      "Existing index names of 'bound_total_capacity_up' ['node_loc', 'technology', 'year_act'] do not match ('node_loc', 'technology', 'year_act')\n",
      "Existing index sets of 'capacity_factor' ['node', 'technology', 'year', 'year', 'time'] do not match ('node', 'technology', 'year', 'year', 'time')\n",
      "Existing index names of 'capacity_factor' ['node_loc', 'technology', 'year_vtg', 'year_act', 'time'] do not match ('node_loc', 'technology', 'year_vtg', 'year_act', 'time')\n",
      "Existing index sets of 'commodity_stock' ['node', 'commodity', 'level', 'year'] do not match ('node', 'commodity', 'level', 'year')\n",
      "Existing index sets of 'construction_time' ['node', 'technology', 'year'] do not match ('node', 'technology', 'year')\n",
      "Existing index names of 'construction_time' ['node_loc', 'technology', 'year_vtg'] do not match ('node_loc', 'technology', 'year_vtg')\n",
      "Existing index sets of 'demand' ['node', 'commodity', 'level', 'year', 'time'] do not match ('node', 'commodity', 'level', 'year', 'time')\n",
      "Existing index sets of 'dynamic_land_lo' ['node', 'land_scenario', 'year', 'land_type'] do not match ('node', 'land_scenario', 'year', 'land_type')\n",
      "Existing index sets of 'dynamic_land_up' ['node', 'land_scenario', 'year', 'land_type'] do not match ('node', 'land_scenario', 'year', 'land_type')\n",
      "Existing index sets of 'emission_factor' ['node', 'technology', 'year', 'year', 'mode', 'emission'] do not match ('node', 'technology', 'year', 'year', 'mode', 'emission')\n",
      "Existing index names of 'emission_factor' ['node_loc', 'technology', 'year_vtg', 'year_act', 'mode', 'emission'] do not match ('node_loc', 'technology', 'year_vtg', 'year_act', 'mode', 'emission')\n",
      "Existing index sets of 'emission_scaling' ['type_emission', 'emission'] do not match ('type_emission', 'emission')\n",
      "Existing index sets of 'fix_cost' ['node', 'technology', 'year', 'year'] do not match ('node', 'technology', 'year', 'year')\n",
      "Existing index names of 'fix_cost' ['node_loc', 'technology', 'year_vtg', 'year_act'] do not match ('node_loc', 'technology', 'year_vtg', 'year_act')\n",
      "Existing index sets of 'fixed_activity' ['node', 'technology', 'year', 'year', 'mode', 'time'] do not match ('node', 'technology', 'year', 'year', 'mode', 'time')\n",
      "Existing index names of 'fixed_activity' ['node_loc', 'technology', 'year_vtg', 'year_act', 'mode', 'time'] do not match ('node_loc', 'technology', 'year_vtg', 'year_act', 'mode', 'time')\n",
      "Existing index sets of 'fixed_capacity' ['node', 'technology', 'year', 'year'] do not match ('node', 'technology', 'year', 'year')\n",
      "Existing index names of 'fixed_capacity' ['node_loc', 'technology', 'year_vtg', 'year_act'] do not match ('node_loc', 'technology', 'year_vtg', 'year_act')\n",
      "Existing index sets of 'fixed_extraction' ['node', 'commodity', 'grade', 'year'] do not match ('node', 'commodity', 'grade', 'year')\n"
     ]
    },
    {
     "name": "stderr",
     "output_type": "stream",
     "text": [
      "Existing index sets of 'fixed_land' ['node', 'land_scenario', 'year'] do not match ('node', 'land_scenario', 'year')\n",
      "Existing index sets of 'fixed_new_capacity' ['node', 'technology', 'year'] do not match ('node', 'technology', 'year')\n",
      "Existing index names of 'fixed_new_capacity' ['node_loc', 'technology', 'year_vtg'] do not match ('node_loc', 'technology', 'year_vtg')\n",
      "Existing index sets of 'fixed_stock' ['node', 'commodity', 'level', 'year'] do not match ('node', 'commodity', 'level', 'year')\n",
      "Existing index sets of 'flexibility_factor' ['node', 'technology', 'year', 'year', 'mode', 'commodity', 'level', 'time', 'rating'] do not match ('node', 'technology', 'year', 'year', 'mode', 'commodity', 'level', 'time', 'rating')\n",
      "Existing index names of 'flexibility_factor' ['node_loc', 'technology', 'year_vtg', 'year_act', 'mode', 'commodity', 'level', 'time', 'rating'] do not match ('node_loc', 'technology', 'year_vtg', 'year_act', 'mode', 'commodity', 'level', 'time', 'rating')\n",
      "Existing index sets of 'growth_activity_lo' ['node', 'technology', 'year', 'time'] do not match ('node', 'technology', 'year', 'time')\n",
      "Existing index names of 'growth_activity_lo' ['node_loc', 'technology', 'year_act', 'time'] do not match ('node_loc', 'technology', 'year_act', 'time')\n",
      "Existing index sets of 'growth_activity_up' ['node', 'technology', 'year', 'time'] do not match ('node', 'technology', 'year', 'time')\n",
      "Existing index names of 'growth_activity_up' ['node_loc', 'technology', 'year_act', 'time'] do not match ('node_loc', 'technology', 'year_act', 'time')\n",
      "Existing index sets of 'growth_land_lo' ['node', 'year', 'land_type'] do not match ('node', 'year', 'land_type')\n",
      "Existing index sets of 'growth_land_scen_lo' ['node', 'land_scenario', 'year'] do not match ('node', 'land_scenario', 'year')\n",
      "Existing index sets of 'growth_land_scen_up' ['node', 'land_scenario', 'year'] do not match ('node', 'land_scenario', 'year')\n",
      "Existing index sets of 'growth_land_up' ['node', 'year', 'land_type'] do not match ('node', 'year', 'land_type')\n",
      "Existing index sets of 'growth_new_capacity_lo' ['node', 'technology', 'year'] do not match ('node', 'technology', 'year')\n",
      "Existing index names of 'growth_new_capacity_lo' ['node_loc', 'technology', 'year_vtg'] do not match ('node_loc', 'technology', 'year_vtg')\n",
      "Existing index sets of 'growth_new_capacity_up' ['node', 'technology', 'year'] do not match ('node', 'technology', 'year')\n",
      "Existing index names of 'growth_new_capacity_up' ['node_loc', 'technology', 'year_vtg'] do not match ('node_loc', 'technology', 'year_vtg')\n",
      "Existing index sets of 'historical_activity' ['node', 'technology', 'year', 'mode', 'time'] do not match ('node', 'technology', 'year', 'mode', 'time')\n",
      "Existing index names of 'historical_activity' ['node_loc', 'technology', 'year_act', 'mode', 'time'] do not match ('node_loc', 'technology', 'year_act', 'mode', 'time')\n",
      "Existing index sets of 'historical_extraction' ['node', 'commodity', 'grade', 'year'] do not match ('node', 'commodity', 'grade', 'year')\n",
      "Existing index sets of 'historical_land' ['node', 'land_scenario', 'year'] do not match ('node', 'land_scenario', 'year')\n",
      "Existing index sets of 'historical_new_capacity' ['node', 'technology', 'year'] do not match ('node', 'technology', 'year')\n",
      "Existing index names of 'historical_new_capacity' ['node_loc', 'technology', 'year_vtg'] do not match ('node_loc', 'technology', 'year_vtg')\n",
      "Existing index sets of 'initial_activity_lo' ['node', 'technology', 'year', 'time'] do not match ('node', 'technology', 'year', 'time')\n",
      "Existing index names of 'initial_activity_lo' ['node_loc', 'technology', 'year_act', 'time'] do not match ('node_loc', 'technology', 'year_act', 'time')\n",
      "Existing index sets of 'initial_activity_up' ['node', 'technology', 'year', 'time'] do not match ('node', 'technology', 'year', 'time')\n",
      "Existing index names of 'initial_activity_up' ['node_loc', 'technology', 'year_act', 'time'] do not match ('node_loc', 'technology', 'year_act', 'time')\n",
      "Existing index sets of 'initial_land_lo' ['node', 'year', 'land_type'] do not match ('node', 'year', 'land_type')\n",
      "Existing index sets of 'initial_land_scen_lo' ['node', 'land_scenario', 'year'] do not match ('node', 'land_scenario', 'year')\n",
      "Existing index sets of 'initial_land_scen_up' ['node', 'land_scenario', 'year'] do not match ('node', 'land_scenario', 'year')\n",
      "Existing index sets of 'initial_land_up' ['node', 'year', 'land_type'] do not match ('node', 'year', 'land_type')\n",
      "Existing index sets of 'initial_new_capacity_lo' ['node', 'technology', 'year'] do not match ('node', 'technology', 'year')\n",
      "Existing index names of 'initial_new_capacity_lo' ['node_loc', 'technology', 'year_vtg'] do not match ('node_loc', 'technology', 'year_vtg')\n",
      "Existing index sets of 'initial_new_capacity_up' ['node', 'technology', 'year'] do not match ('node', 'technology', 'year')\n",
      "Existing index names of 'initial_new_capacity_up' ['node_loc', 'technology', 'year_vtg'] do not match ('node_loc', 'technology', 'year_vtg')\n",
      "Existing index sets of 'input' ['node', 'technology', 'year', 'year', 'mode', 'node', 'commodity', 'level', 'time', 'time'] do not match ('node', 'technology', 'year', 'year', 'mode', 'node', 'commodity', 'level', 'time', 'time')\n",
      "Existing index names of 'input' ['node_loc', 'technology', 'year_vtg', 'year_act', 'mode', 'node_origin', 'commodity', 'level', 'time', 'time_origin'] do not match ('node_loc', 'technology', 'year_vtg', 'year_act', 'mode', 'node_origin', 'commodity', 'level', 'time', 'time_origin')\n",
      "Existing index sets of 'inv_cost' ['node', 'technology', 'year'] do not match ('node', 'technology', 'year')\n",
      "Existing index names of 'inv_cost' ['node_loc', 'technology', 'year_vtg'] do not match ('node_loc', 'technology', 'year_vtg')\n",
      "Existing index sets of 'land_cost' ['node', 'land_scenario', 'year'] do not match ('node', 'land_scenario', 'year')\n",
      "Existing index sets of 'land_emission' ['node', 'land_scenario', 'year', 'emission'] do not match ('node', 'land_scenario', 'year', 'emission')\n",
      "Existing index sets of 'land_input' ['node', 'land_scenario', 'year', 'commodity', 'level', 'time'] do not match ('node', 'land_scenario', 'year', 'commodity', 'level', 'time')\n",
      "Existing index sets of 'land_output' ['node', 'land_scenario', 'year', 'commodity', 'level', 'time'] do not match ('node', 'land_scenario', 'year', 'commodity', 'level', 'time')\n",
      "Existing index sets of 'land_use' ['node', 'land_scenario', 'year', 'land_type'] do not match ('node', 'land_scenario', 'year', 'land_type')\n",
      "Existing index sets of 'level_cost_activity_soft_lo' ['node', 'technology', 'year', 'time'] do not match ('node', 'technology', 'year', 'time')\n",
      "Existing index names of 'level_cost_activity_soft_lo' ['node_loc', 'technology', 'year_act', 'time'] do not match ('node_loc', 'technology', 'year_act', 'time')\n",
      "Existing index sets of 'level_cost_activity_soft_up' ['node', 'technology', 'year', 'time'] do not match ('node', 'technology', 'year', 'time')\n",
      "Existing index names of 'level_cost_activity_soft_up' ['node_loc', 'technology', 'year_act', 'time'] do not match ('node_loc', 'technology', 'year_act', 'time')\n",
      "Existing index sets of 'level_cost_new_capacity_soft_lo' ['node', 'technology', 'year'] do not match ('node', 'technology', 'year')\n",
      "Existing index names of 'level_cost_new_capacity_soft_lo' ['node_loc', 'technology', 'year_vtg'] do not match ('node_loc', 'technology', 'year_vtg')\n",
      "Existing index sets of 'level_cost_new_capacity_soft_up' ['node', 'technology', 'year'] do not match ('node', 'technology', 'year')\n",
      "Existing index names of 'level_cost_new_capacity_soft_up' ['node_loc', 'technology', 'year_vtg'] do not match ('node_loc', 'technology', 'year_vtg')\n",
      "Existing index sets of 'min_utilization_factor' ['node', 'technology', 'year', 'year'] do not match ('node', 'technology', 'year', 'year')\n",
      "Existing index names of 'min_utilization_factor' ['node_loc', 'technology', 'year_vtg', 'year_act'] do not match ('node_loc', 'technology', 'year_vtg', 'year_act')\n",
      "Existing index sets of 'operation_factor' ['node', 'technology', 'year', 'year'] do not match ('node', 'technology', 'year', 'year')\n",
      "Existing index names of 'operation_factor' ['node_loc', 'technology', 'year_vtg', 'year_act'] do not match ('node_loc', 'technology', 'year_vtg', 'year_act')\n"
     ]
    },
    {
     "name": "stderr",
     "output_type": "stream",
     "text": [
      "Existing index sets of 'output' ['node', 'technology', 'year', 'year', 'mode', 'node', 'commodity', 'level', 'time', 'time'] do not match ('node', 'technology', 'year', 'year', 'mode', 'node', 'commodity', 'level', 'time', 'time')\n",
      "Existing index names of 'output' ['node_loc', 'technology', 'year_vtg', 'year_act', 'mode', 'node_dest', 'commodity', 'level', 'time', 'time_dest'] do not match ('node_loc', 'technology', 'year_vtg', 'year_act', 'mode', 'node_dest', 'commodity', 'level', 'time', 'time_dest')\n",
      "Existing index sets of 'peak_load_factor' ['node', 'commodity', 'level', 'year', 'time'] do not match ('node', 'commodity', 'level', 'year', 'time')\n",
      "Existing index sets of 'rating_bin' ['node', 'technology', 'year', 'commodity', 'level', 'time', 'rating'] do not match ('node', 'technology', 'year', 'commodity', 'level', 'time', 'rating')\n",
      "Existing index names of 'rating_bin' ['node', 'technology', 'year_act', 'commodity', 'level', 'time', 'rating'] do not match ('node', 'technology', 'year_act', 'commodity', 'level', 'time', 'rating')\n",
      "Existing index sets of 'ref_activity' ['node', 'technology', 'year', 'mode', 'time'] do not match ('node', 'technology', 'year', 'mode', 'time')\n",
      "Existing index names of 'ref_activity' ['node_loc', 'technology', 'year_act', 'mode', 'time'] do not match ('node_loc', 'technology', 'year_act', 'mode', 'time')\n",
      "Existing index sets of 'ref_extraction' ['node', 'commodity', 'grade', 'year'] do not match ('node', 'commodity', 'grade', 'year')\n",
      "Existing index sets of 'ref_new_capacity' ['node', 'technology', 'year'] do not match ('node', 'technology', 'year')\n",
      "Existing index names of 'ref_new_capacity' ['node_loc', 'technology', 'year_vtg'] do not match ('node_loc', 'technology', 'year_vtg')\n",
      "Existing index sets of 'ref_relation' ['relation', 'node', 'year'] do not match ('relation', 'node', 'year')\n",
      "Existing index names of 'ref_relation' ['relation', 'node_rel', 'year_rel'] do not match ('relation', 'node_rel', 'year_rel')\n",
      "Existing index sets of 'relation_activity' ['relation', 'node', 'year', 'node', 'technology', 'year', 'mode'] do not match ('relation', 'node', 'year', 'node', 'technology', 'year', 'mode')\n",
      "Existing index names of 'relation_activity' ['relation', 'node_rel', 'year_rel', 'node_loc', 'technology', 'year_act', 'mode'] do not match ('relation', 'node_rel', 'year_rel', 'node_loc', 'technology', 'year_act', 'mode')\n",
      "Existing index sets of 'relation_cost' ['relation', 'node', 'year'] do not match ('relation', 'node', 'year')\n",
      "Existing index names of 'relation_cost' ['relation', 'node_rel', 'year_rel'] do not match ('relation', 'node_rel', 'year_rel')\n",
      "Existing index sets of 'relation_lower' ['relation', 'node', 'year'] do not match ('relation', 'node', 'year')\n",
      "Existing index names of 'relation_lower' ['relation', 'node_rel', 'year_rel'] do not match ('relation', 'node_rel', 'year_rel')\n",
      "Existing index sets of 'relation_new_capacity' ['relation', 'node', 'year', 'technology'] do not match ('relation', 'node', 'year', 'technology')\n",
      "Existing index names of 'relation_new_capacity' ['relation', 'node_rel', 'year_rel', 'technology'] do not match ('relation', 'node_rel', 'year_rel', 'technology')\n",
      "Existing index sets of 'relation_total_capacity' ['relation', 'node', 'year', 'technology'] do not match ('relation', 'node', 'year', 'technology')\n",
      "Existing index names of 'relation_total_capacity' ['relation', 'node_rel', 'year_rel', 'technology'] do not match ('relation', 'node_rel', 'year_rel', 'technology')\n",
      "Existing index sets of 'relation_upper' ['relation', 'node', 'year'] do not match ('relation', 'node', 'year')\n",
      "Existing index names of 'relation_upper' ['relation', 'node_rel', 'year_rel'] do not match ('relation', 'node_rel', 'year_rel')\n",
      "Existing index sets of 'reliability_factor' ['node', 'technology', 'year', 'commodity', 'level', 'time', 'rating'] do not match ('node', 'technology', 'year', 'commodity', 'level', 'time', 'rating')\n",
      "Existing index names of 'reliability_factor' ['node', 'technology', 'year_act', 'commodity', 'level', 'time', 'rating'] do not match ('node', 'technology', 'year_act', 'commodity', 'level', 'time', 'rating')\n",
      "Existing index sets of 'renewable_capacity_factor' ['node', 'commodity', 'grade', 'level', 'year'] do not match ('node', 'commodity', 'grade', 'level', 'year')\n",
      "Existing index sets of 'renewable_potential' ['node', 'commodity', 'grade', 'level', 'year'] do not match ('node', 'commodity', 'grade', 'level', 'year')\n",
      "Existing index sets of 'resource_cost' ['node', 'commodity', 'grade', 'year'] do not match ('node', 'commodity', 'grade', 'year')\n",
      "Existing index sets of 'resource_remaining' ['node', 'commodity', 'grade', 'year'] do not match ('node', 'commodity', 'grade', 'year')\n",
      "Existing index sets of 'resource_volume' ['node', 'commodity', 'grade'] do not match ('node', 'commodity', 'grade')\n",
      "Existing index sets of 'share_commodity_lo' ['shares', 'node', 'year', 'time'] do not match ('shares', 'node', 'year', 'time')\n",
      "Existing index names of 'share_commodity_lo' ['shares', 'node_share', 'year_act', 'time'] do not match ('shares', 'node_share', 'year_act', 'time')\n",
      "Existing index sets of 'share_commodity_up' ['shares', 'node', 'year', 'time'] do not match ('shares', 'node', 'year', 'time')\n",
      "Existing index names of 'share_commodity_up' ['shares', 'node_share', 'year_act', 'time'] do not match ('shares', 'node_share', 'year_act', 'time')\n",
      "Existing index sets of 'share_mode_lo' ['shares', 'node', 'technology', 'mode', 'year', 'time'] do not match ('shares', 'node', 'technology', 'mode', 'year', 'time')\n",
      "Existing index names of 'share_mode_lo' ['shares', 'node_share', 'technology', 'mode', 'year_act', 'time'] do not match ('shares', 'node_share', 'technology', 'mode', 'year_act', 'time')\n",
      "Existing index sets of 'share_mode_up' ['shares', 'node', 'technology', 'mode', 'year', 'time'] do not match ('shares', 'node', 'technology', 'mode', 'year', 'time')\n",
      "Existing index names of 'share_mode_up' ['shares', 'node_share', 'technology', 'mode', 'year_act', 'time'] do not match ('shares', 'node_share', 'technology', 'mode', 'year_act', 'time')\n",
      "Existing index sets of 'soft_activity_lo' ['node', 'technology', 'year', 'time'] do not match ('node', 'technology', 'year', 'time')\n",
      "Existing index names of 'soft_activity_lo' ['node_loc', 'technology', 'year_act', 'time'] do not match ('node_loc', 'technology', 'year_act', 'time')\n",
      "Existing index sets of 'soft_activity_up' ['node', 'technology', 'year', 'time'] do not match ('node', 'technology', 'year', 'time')\n",
      "Existing index names of 'soft_activity_up' ['node_loc', 'technology', 'year_act', 'time'] do not match ('node_loc', 'technology', 'year_act', 'time')\n",
      "Existing index sets of 'soft_new_capacity_lo' ['node', 'technology', 'year'] do not match ('node', 'technology', 'year')\n",
      "Existing index names of 'soft_new_capacity_lo' ['node_loc', 'technology', 'year_vtg'] do not match ('node_loc', 'technology', 'year_vtg')\n",
      "Existing index sets of 'soft_new_capacity_up' ['node', 'technology', 'year'] do not match ('node', 'technology', 'year')\n",
      "Existing index names of 'soft_new_capacity_up' ['node_loc', 'technology', 'year_vtg'] do not match ('node_loc', 'technology', 'year_vtg')\n",
      "Existing index sets of 'subsidy' ['node', 'type_tec', 'year'] do not match ('node', 'type_tec', 'year')\n",
      "Existing index names of 'subsidy' ['node_loc', 'type_tec', 'year_act'] do not match ('node_loc', 'type_tec', 'year_act')\n",
      "Existing index sets of 'tax' ['node', 'type_tec', 'year'] do not match ('node', 'type_tec', 'year')\n",
      "Existing index names of 'tax' ['node_loc', 'type_tec', 'year_act'] do not match ('node_loc', 'type_tec', 'year_act')\n",
      "Existing index sets of 'technical_lifetime' ['node', 'technology', 'year'] do not match ('node', 'technology', 'year')\n",
      "Existing index names of 'technical_lifetime' ['node_loc', 'technology', 'year_vtg'] do not match ('node_loc', 'technology', 'year_vtg')\n",
      "Existing index sets of 'var_cost' ['node', 'technology', 'year', 'year', 'mode', 'time'] do not match ('node', 'technology', 'year', 'year', 'mode', 'time')\n",
      "Existing index names of 'var_cost' ['node_loc', 'technology', 'year_vtg', 'year_act', 'mode', 'time'] do not match ('node_loc', 'technology', 'year_vtg', 'year_act', 'mode', 'time')\n"
     ]
    }
   ],
   "source": [
    "scenario = message_ix.Scenario(mp, model='Sample Water' ,\n",
    "                               scenario='baseline', version='new')"
   ]
  },
  {
   "cell_type": "markdown",
   "metadata": {
    "slideshow": {
     "slide_type": "slide"
    }
   },
   "source": [
    "## Model Structure\n",
    "\n",
    "We start by defining basic characteristics of the model, including time, space, and the energy system structure."
   ]
  },
  {
   "cell_type": "markdown",
   "metadata": {
    "slideshow": {
     "slide_type": "fragment"
    }
   },
   "source": [
    "The model horizon will span 3 decades (690-720). Let's assume that we're far in the future after the events of A Song of Ice and Fire (which occur ~300 years after Aegon the conqueror).\n",
    "\n",
    "| Math Notation | Model Meaning                |\n",
    "|---------------|------------------------------|\n",
    "| $y \\in Y^H$   | time periods in history      |\n",
    "| $y \\in Y^M$   | time periods in model horizon|"
   ]
  },
  {
   "cell_type": "code",
   "execution_count": 4,
   "metadata": {
    "slideshow": {
     "slide_type": "fragment"
    }
   },
   "outputs": [],
   "source": [
    "history = [690]\n",
    "model_horizon = [700, 710, 720]\n",
    "scenario.add_horizon(\n",
    "    year=history + model_horizon,\n",
    "    firstmodelyear=model_horizon[0]\n",
    ")"
   ]
  },
  {
   "cell_type": "markdown",
   "metadata": {
    "slideshow": {
     "slide_type": "slide"
    }
   },
   "source": [
    "Our model will have a single `node`, i.e., its spatial dimension.\n",
    "\n",
    "\n",
    "| Math Notation | Model Meaning|\n",
    "|---------------|--------------|\n",
    "| $n \\in N$     | node         |"
   ]
  },
  {
   "cell_type": "code",
   "execution_count": 5,
   "metadata": {
    "slideshow": {
     "slide_type": "fragment"
    }
   },
   "outputs": [],
   "source": [
    "region = ('AFR')\n",
    "basin = ('basin_1', 'basin_2', 'basin_3', 'basin_4', \n",
    "        'basin_5', 'basin_6', 'basin_7', 'basin_8')\n",
    "\n",
    "scenario.add_spatial_sets({'region': region,\n",
    "                           'country':basin\n",
    "                          })"
   ]
  },
  {
   "cell_type": "code",
   "execution_count": 6,
   "metadata": {},
   "outputs": [],
   "source": [
    "basin = pd.DataFrame({ \"node_parent\": region,\n",
    "                      \"node\": basin})"
   ]
  },
  {
   "cell_type": "code",
   "execution_count": 7,
   "metadata": {},
   "outputs": [],
   "source": [
    "scenario.add_set(\"map_node\",basin)"
   ]
  },
  {
   "cell_type": "code",
   "execution_count": 8,
   "metadata": {},
   "outputs": [
    {
     "data": {
      "text/html": [
       "<div>\n",
       "<style scoped>\n",
       "    .dataframe tbody tr th:only-of-type {\n",
       "        vertical-align: middle;\n",
       "    }\n",
       "\n",
       "    .dataframe tbody tr th {\n",
       "        vertical-align: top;\n",
       "    }\n",
       "\n",
       "    .dataframe thead th {\n",
       "        text-align: right;\n",
       "    }\n",
       "</style>\n",
       "<table border=\"1\" class=\"dataframe\">\n",
       "  <thead>\n",
       "    <tr style=\"text-align: right;\">\n",
       "      <th></th>\n",
       "      <th>node_parent</th>\n",
       "      <th>node</th>\n",
       "    </tr>\n",
       "  </thead>\n",
       "  <tbody>\n",
       "    <tr>\n",
       "      <th>0</th>\n",
       "      <td>AFR</td>\n",
       "      <td>basin_1</td>\n",
       "    </tr>\n",
       "    <tr>\n",
       "      <th>1</th>\n",
       "      <td>AFR</td>\n",
       "      <td>basin_2</td>\n",
       "    </tr>\n",
       "    <tr>\n",
       "      <th>2</th>\n",
       "      <td>AFR</td>\n",
       "      <td>basin_3</td>\n",
       "    </tr>\n",
       "    <tr>\n",
       "      <th>3</th>\n",
       "      <td>AFR</td>\n",
       "      <td>basin_4</td>\n",
       "    </tr>\n",
       "    <tr>\n",
       "      <th>4</th>\n",
       "      <td>AFR</td>\n",
       "      <td>basin_5</td>\n",
       "    </tr>\n",
       "    <tr>\n",
       "      <th>5</th>\n",
       "      <td>AFR</td>\n",
       "      <td>basin_6</td>\n",
       "    </tr>\n",
       "    <tr>\n",
       "      <th>6</th>\n",
       "      <td>AFR</td>\n",
       "      <td>basin_7</td>\n",
       "    </tr>\n",
       "    <tr>\n",
       "      <th>7</th>\n",
       "      <td>AFR</td>\n",
       "      <td>basin_8</td>\n",
       "    </tr>\n",
       "  </tbody>\n",
       "</table>\n",
       "</div>"
      ],
      "text/plain": [
       "  node_parent     node\n",
       "0         AFR  basin_1\n",
       "1         AFR  basin_2\n",
       "2         AFR  basin_3\n",
       "3         AFR  basin_4\n",
       "4         AFR  basin_5\n",
       "5         AFR  basin_6\n",
       "6         AFR  basin_7\n",
       "7         AFR  basin_8"
      ]
     },
     "execution_count": 8,
     "metadata": {},
     "output_type": "execute_result"
    }
   ],
   "source": [
    "scenario.set(\"map_node\")"
   ]
  },
  {
   "cell_type": "code",
   "execution_count": 9,
   "metadata": {},
   "outputs": [
    {
     "data": {
      "text/plain": [
       "0      World\n",
       "1        AFR\n",
       "2    basin_1\n",
       "3    basin_2\n",
       "4    basin_3\n",
       "5    basin_4\n",
       "6    basin_5\n",
       "7    basin_6\n",
       "8    basin_7\n",
       "9    basin_8\n",
       "dtype: object"
      ]
     },
     "execution_count": 9,
     "metadata": {},
     "output_type": "execute_result"
    }
   ],
   "source": [
    "scenario.set(\"node\")"
   ]
  },
  {
   "cell_type": "markdown",
   "metadata": {
    "slideshow": {
     "slide_type": "slide"
    }
   },
   "source": [
    "And we fill in the energy system's `commodities`, `levels`, `technologies`, and `modes` (i.e., modes of operation of technologies). This information defines how certain technologies operate. \n",
    "\n",
    "\n",
    "| Math Notation | Model Meaning|\n",
    "|---------------|--------------|\n",
    "| $c \\in C$     | commodity    |\n",
    "| $l \\in L$     | level        |\n",
    "| $t \\in T$     | technology   |\n",
    "| $m \\in M$     | mode         |"
   ]
  },
  {
   "cell_type": "code",
   "execution_count": 10,
   "metadata": {
    "slideshow": {
     "slide_type": "fragment"
    }
   },
   "outputs": [],
   "source": [
    "scenario.add_set(\"commodity\", [\"water_source\",\"water_demand\",\"t_d\"])\n",
    "scenario.add_set(\"level\", [\"water_supply\", \"final\", \"useful\"])\n",
    "scenario.add_set(\"technology\", ['freshwater', 'groundwater', 'water_t_d', 'water_withdrawal'])\n",
    "scenario.add_set(\"mode\", \"standard\")"
   ]
  },
  {
   "cell_type": "markdown",
   "metadata": {
    "slideshow": {
     "slide_type": "slide"
    }
   },
   "source": [
    "## Supply and Demand (or Balancing Commodities)"
   ]
  },
  {
   "cell_type": "markdown",
   "metadata": {
    "slideshow": {
     "slide_type": "fragment"
    }
   },
   "source": [
    "The fundamental premise of the model is to satisfy demand for energy (services).\n",
    "To first order, demand for services like electricity track with economic productivity (GDP).\n",
    "We define a GDP profile similar to first-world GDP growth from [1900-1930](https://en.wikipedia.org/wiki/List_of_regions_by_past_GDP):"
   ]
  },
  {
   "cell_type": "code",
   "execution_count": 11,
   "metadata": {
    "slideshow": {
     "slide_type": "fragment"
    }
   },
   "outputs": [
    {
     "data": {
      "text/plain": [
       "<matplotlib.axes._subplots.AxesSubplot at 0x1a1c7cf410>"
      ]
     },
     "execution_count": 11,
     "metadata": {},
     "output_type": "execute_result"
    },
    {
     "data": {
      "image/png": "[encoded data removed]",
      "text/plain": [
       "<Figure size 432x288 with 1 Axes>"
      ]
     },
     "metadata": {
      "needs_background": "light"
     },
     "output_type": "display_data"
    }
   ],
   "source": [
    "gdp_profile = pd.Series([1., 1.5, 1.9],\n",
    "                        index=pd.Index(model_horizon, name='Time'))\n",
    "gdp_profile.plot(title='Demand')"
   ]
  },
  {
   "cell_type": "markdown",
   "metadata": {
    "slideshow": {
     "slide_type": "slide"
    }
   },
   "source": [
    "The `COMMODITY_BALANCE_GT` and `COMMODITY_BALANCE_LT` equations ensure that `demand` for each `commodity` is met at each `level` in the energy system.\n",
    "The equation is copied below in this tutorial notebook, but every model equation is available for reference in\n",
    "the [Mathematical formulation](https://docs.messageix.org/en/stable/model/MESSAGE/model_core.html) section of the *MESSAGEix* documentation.\n",
    "\n",
    "$\\sum_{\\substack{n^L,t,m \\\\ y^V \\leq y}} \\text{output}_{n^L,t,y^V,y,m,n,c,l} \\cdot \\text{ACT}_{n^L,t,y^V,y,m}$\n",
    "$- \\sum_{\\substack{n^L,t,m, \\\\ y^V \\leq y}} \\text{input}_{n^L,t,y^V,y,m,n,c,l} \\cdot \\text{ACT}_{n^L,t,m,y}$  \n",
    "$\\geq \\text{demand}_{n,c,l,y} \\quad \\forall \\ l \\in L$\n",
    "\n",
    "While `demand` must be met, supply can *exceed* demand allowing the model to plan for meeting demand in future periods by storing storable commodities.\n"
   ]
  },
  {
   "cell_type": "markdown",
   "metadata": {
    "slideshow": {
     "slide_type": "slide"
    }
   },
   "source": [
    "First we establish demand. Let's assume\n",
    "\n",
    "- 40 million people in [300 AC](https://atlasoficeandfireblog.wordpress.com/2016/03/06/the-population-of-the-seven-kingdoms/)\n",
    "- similar population growth to Earth in the same time frame [(~factor of 12)](https://en.wikipedia.org/wiki/World_population_estimates)\n",
    "- a per capita demand for electricity of 1000 kWh\n",
    "- and 8760 hours in a year (of course!)\n",
    "\n",
    "Then we can add the demand parameter"
   ]
  },
  {
   "cell_type": "markdown",
   "metadata": {
    "slideshow": {
     "slide_type": "skip"
    }
   },
   "source": [
    "Note present day: [~72000 GWh in Austria](https://www.iea.org/statistics/?country=AUSTRIA&year=2016&category=Energy%20consumption&indicator=undefined&mode=chart&dataTable=INDICATORS) with population [~8.7M](http://www.austria.org/population/) which is ~8300 kWh per capita"
   ]
  },
  {
   "cell_type": "code",
   "execution_count": 12,
   "metadata": {
    "slideshow": {
     "slide_type": "fragment"
    }
   },
   "outputs": [],
   "source": [
    "demand_per_year = 40 * 12 * 1000 / 8760\n",
    "\n",
    "water_demand = pd.DataFrame({\n",
    "            'node': 'AFR',\n",
    "            'commodity': 'water_demand',\n",
    "            'level': 'useful',\n",
    "            'year': model_horizon,\n",
    "            'time': 'year',\n",
    "            'value': 8*(100 * gdp_profile).round(),\n",
    "            'unit': 'GWa',\n",
    "        })"
   ]
  },
  {
   "cell_type": "code",
   "execution_count": 13,
   "metadata": {},
   "outputs": [
    {
     "data": {
      "text/html": [
       "<div>\n",
       "<style scoped>\n",
       "    .dataframe tbody tr th:only-of-type {\n",
       "        vertical-align: middle;\n",
       "    }\n",
       "\n",
       "    .dataframe tbody tr th {\n",
       "        vertical-align: top;\n",
       "    }\n",
       "\n",
       "    .dataframe thead th {\n",
       "        text-align: right;\n",
       "    }\n",
       "</style>\n",
       "<table border=\"1\" class=\"dataframe\">\n",
       "  <thead>\n",
       "    <tr style=\"text-align: right;\">\n",
       "      <th></th>\n",
       "      <th>node</th>\n",
       "      <th>commodity</th>\n",
       "      <th>level</th>\n",
       "      <th>year</th>\n",
       "      <th>time</th>\n",
       "      <th>value</th>\n",
       "      <th>unit</th>\n",
       "    </tr>\n",
       "    <tr>\n",
       "      <th>Time</th>\n",
       "      <th></th>\n",
       "      <th></th>\n",
       "      <th></th>\n",
       "      <th></th>\n",
       "      <th></th>\n",
       "      <th></th>\n",
       "      <th></th>\n",
       "    </tr>\n",
       "  </thead>\n",
       "  <tbody>\n",
       "    <tr>\n",
       "      <th>700</th>\n",
       "      <td>AFR</td>\n",
       "      <td>water_demand</td>\n",
       "      <td>useful</td>\n",
       "      <td>700</td>\n",
       "      <td>year</td>\n",
       "      <td>800.0</td>\n",
       "      <td>GWa</td>\n",
       "    </tr>\n",
       "    <tr>\n",
       "      <th>710</th>\n",
       "      <td>AFR</td>\n",
       "      <td>water_demand</td>\n",
       "      <td>useful</td>\n",
       "      <td>710</td>\n",
       "      <td>year</td>\n",
       "      <td>1200.0</td>\n",
       "      <td>GWa</td>\n",
       "    </tr>\n",
       "    <tr>\n",
       "      <th>720</th>\n",
       "      <td>AFR</td>\n",
       "      <td>water_demand</td>\n",
       "      <td>useful</td>\n",
       "      <td>720</td>\n",
       "      <td>year</td>\n",
       "      <td>1520.0</td>\n",
       "      <td>GWa</td>\n",
       "    </tr>\n",
       "  </tbody>\n",
       "</table>\n",
       "</div>"
      ],
      "text/plain": [
       "     node     commodity   level  year  time   value unit\n",
       "Time                                                    \n",
       "700   AFR  water_demand  useful   700  year   800.0  GWa\n",
       "710   AFR  water_demand  useful   710  year  1200.0  GWa\n",
       "720   AFR  water_demand  useful   720  year  1520.0  GWa"
      ]
     },
     "execution_count": 13,
     "metadata": {},
     "output_type": "execute_result"
    }
   ],
   "source": [
    "water_demand"
   ]
  },
  {
   "cell_type": "code",
   "execution_count": 14,
   "metadata": {},
   "outputs": [
    {
     "data": {
      "text/html": [
       "<div>\n",
       "<style scoped>\n",
       "    .dataframe tbody tr th:only-of-type {\n",
       "        vertical-align: middle;\n",
       "    }\n",
       "\n",
       "    .dataframe tbody tr th {\n",
       "        vertical-align: top;\n",
       "    }\n",
       "\n",
       "    .dataframe thead th {\n",
       "        text-align: right;\n",
       "    }\n",
       "</style>\n",
       "<table border=\"1\" class=\"dataframe\">\n",
       "  <thead>\n",
       "    <tr style=\"text-align: right;\">\n",
       "      <th></th>\n",
       "      <th>node</th>\n",
       "      <th>commodity</th>\n",
       "      <th>level</th>\n",
       "      <th>year</th>\n",
       "      <th>time</th>\n",
       "      <th>value</th>\n",
       "      <th>unit</th>\n",
       "    </tr>\n",
       "    <tr>\n",
       "      <th>Time</th>\n",
       "      <th></th>\n",
       "      <th></th>\n",
       "      <th></th>\n",
       "      <th></th>\n",
       "      <th></th>\n",
       "      <th></th>\n",
       "      <th></th>\n",
       "    </tr>\n",
       "  </thead>\n",
       "  <tbody>\n",
       "    <tr>\n",
       "      <th>700</th>\n",
       "      <td>AFR</td>\n",
       "      <td>water_demand</td>\n",
       "      <td>useful</td>\n",
       "      <td>700</td>\n",
       "      <td>year</td>\n",
       "      <td>800.0</td>\n",
       "      <td>GWa</td>\n",
       "    </tr>\n",
       "    <tr>\n",
       "      <th>710</th>\n",
       "      <td>AFR</td>\n",
       "      <td>water_demand</td>\n",
       "      <td>useful</td>\n",
       "      <td>710</td>\n",
       "      <td>year</td>\n",
       "      <td>1200.0</td>\n",
       "      <td>GWa</td>\n",
       "    </tr>\n",
       "    <tr>\n",
       "      <th>720</th>\n",
       "      <td>AFR</td>\n",
       "      <td>water_demand</td>\n",
       "      <td>useful</td>\n",
       "      <td>720</td>\n",
       "      <td>year</td>\n",
       "      <td>1520.0</td>\n",
       "      <td>GWa</td>\n",
       "    </tr>\n",
       "  </tbody>\n",
       "</table>\n",
       "</div>"
      ],
      "text/plain": [
       "     node     commodity   level  year  time   value unit\n",
       "Time                                                    \n",
       "700   AFR  water_demand  useful   700  year   800.0  GWa\n",
       "710   AFR  water_demand  useful   710  year  1200.0  GWa\n",
       "720   AFR  water_demand  useful   720  year  1520.0  GWa"
      ]
     },
     "execution_count": 14,
     "metadata": {},
     "output_type": "execute_result"
    }
   ],
   "source": [
    "water_demand"
   ]
  },
  {
   "cell_type": "code",
   "execution_count": 15,
   "metadata": {
    "slideshow": {
     "slide_type": "fragment"
    }
   },
   "outputs": [],
   "source": [
    "# We use add_par for adding data to a MESSAGEix parameter\n",
    "scenario.add_par(\"demand\", water_demand)"
   ]
  },
  {
   "cell_type": "markdown",
   "metadata": {
    "slideshow": {
     "slide_type": "fragment"
    }
   },
   "source": [
    "In order to define the input and output commodites of each technology, we define some common keys.\n",
    "\n",
    "- **Input** quantities require `_origin` keys that specify where the inputs are *received from*.\n",
    "- **Output** quantities require `_dest` keys that specify where the outputs are *transferred to*."
   ]
  },
  {
   "cell_type": "code",
   "execution_count": 18,
   "metadata": {
    "slideshow": {
     "slide_type": "skip"
    }
   },
   "outputs": [],
   "source": [
    "year_df = scenario.vintage_and_active_years()\n",
    "vintage_years, act_years = year_df['year_vtg'], year_df['year_act']\n",
    "\n",
    "base = {\n",
    "    'node_loc': region,\n",
    "    'year_vtg': vintage_years,\n",
    "    'year_act': act_years,\n",
    "    'mode': 'standard',\n",
    "    'time': 'year',\n",
    "    'unit': '-',\n",
    "}\n",
    "\n",
    "\n",
    "base_input = make_df(base, time_origin='year')\n",
    "base_output = make_df(base, node_dest=region, time_dest='year')"
   ]
  },
  {
   "cell_type": "markdown",
   "metadata": {
    "slideshow": {
     "slide_type": "slide"
    }
   },
   "source": [
    "Working backwards along the Reference Energy System, we can add connections for the `bulb`. A light bulb…\n",
    "\n",
    "- receives *input* in the form of the \"electricity\" *commodity* at the \"final [energy]\" *level*, and\n",
    "- *outputs* the commodity \"light\" at the \"useful [energy]\" level.\n",
    "\n",
    "The `value` in the input and output parameter is used to represent the effiecieny of a technology (efficiency = output/input).\n",
    "For example, input of 1.0 and output of 1.0 for a technology shows that the efficiency of that technology is 100% in converting\n",
    "the input commodity to the output commodity."
   ]
  },
  {
   "cell_type": "code",
   "execution_count": 19,
   "metadata": {},
   "outputs": [],
   "source": [
    "df_in = make_df(base_input, technology='freshwater', commodity='water_source',  \n",
    "                  level='water_supply')"
   ]
  },
  {
   "cell_type": "code",
   "execution_count": 20,
   "metadata": {},
   "outputs": [],
   "source": [
    "basin_value = {'basin_1':0.25, 'basin_2':0.55, 'basin_3':0.35, 'basin_4':0.855, \n",
    "        'basin_5':0.52, 'basin_6':0.38, 'basin_7':0.25, 'basin_8':0.75}\n",
    "\n",
    "for node, val in basin_value.items():\n",
    "    df_in1 = make_df(df_in, node_origin=node, value=val)\n",
    "    scenario.add_par('input', df_in1)"
   ]
  },
  {
   "cell_type": "code",
   "execution_count": 21,
   "metadata": {},
   "outputs": [
    {
     "data": {
      "text/html": [
       "<div>\n",
       "<style scoped>\n",
       "    .dataframe tbody tr th:only-of-type {\n",
       "        vertical-align: middle;\n",
       "    }\n",
       "\n",
       "    .dataframe tbody tr th {\n",
       "        vertical-align: top;\n",
       "    }\n",
       "\n",
       "    .dataframe thead th {\n",
       "        text-align: right;\n",
       "    }\n",
       "</style>\n",
       "<table border=\"1\" class=\"dataframe\">\n",
       "  <thead>\n",
       "    <tr style=\"text-align: right;\">\n",
       "      <th></th>\n",
       "      <th>node_loc</th>\n",
       "      <th>technology</th>\n",
       "      <th>year_vtg</th>\n",
       "      <th>year_act</th>\n",
       "      <th>mode</th>\n",
       "      <th>node_origin</th>\n",
       "      <th>commodity</th>\n",
       "      <th>level</th>\n",
       "      <th>time</th>\n",
       "      <th>time_origin</th>\n",
       "      <th>value</th>\n",
       "      <th>unit</th>\n",
       "    </tr>\n",
       "  </thead>\n",
       "  <tbody>\n",
       "    <tr>\n",
       "      <th>0</th>\n",
       "      <td>AFR</td>\n",
       "      <td>freshwater</td>\n",
       "      <td>690</td>\n",
       "      <td>700</td>\n",
       "      <td>standard</td>\n",
       "      <td>basin_1</td>\n",
       "      <td>water_source</td>\n",
       "      <td>water_supply</td>\n",
       "      <td>year</td>\n",
       "      <td>year</td>\n",
       "      <td>0.25</td>\n",
       "      <td>-</td>\n",
       "    </tr>\n",
       "    <tr>\n",
       "      <th>1</th>\n",
       "      <td>AFR</td>\n",
       "      <td>freshwater</td>\n",
       "      <td>690</td>\n",
       "      <td>710</td>\n",
       "      <td>standard</td>\n",
       "      <td>basin_1</td>\n",
       "      <td>water_source</td>\n",
       "      <td>water_supply</td>\n",
       "      <td>year</td>\n",
       "      <td>year</td>\n",
       "      <td>0.25</td>\n",
       "      <td>-</td>\n",
       "    </tr>\n",
       "    <tr>\n",
       "      <th>2</th>\n",
       "      <td>AFR</td>\n",
       "      <td>freshwater</td>\n",
       "      <td>690</td>\n",
       "      <td>720</td>\n",
       "      <td>standard</td>\n",
       "      <td>basin_1</td>\n",
       "      <td>water_source</td>\n",
       "      <td>water_supply</td>\n",
       "      <td>year</td>\n",
       "      <td>year</td>\n",
       "      <td>0.25</td>\n",
       "      <td>-</td>\n",
       "    </tr>\n",
       "    <tr>\n",
       "      <th>3</th>\n",
       "      <td>AFR</td>\n",
       "      <td>freshwater</td>\n",
       "      <td>700</td>\n",
       "      <td>700</td>\n",
       "      <td>standard</td>\n",
       "      <td>basin_1</td>\n",
       "      <td>water_source</td>\n",
       "      <td>water_supply</td>\n",
       "      <td>year</td>\n",
       "      <td>year</td>\n",
       "      <td>0.25</td>\n",
       "      <td>-</td>\n",
       "    </tr>\n",
       "    <tr>\n",
       "      <th>4</th>\n",
       "      <td>AFR</td>\n",
       "      <td>freshwater</td>\n",
       "      <td>700</td>\n",
       "      <td>710</td>\n",
       "      <td>standard</td>\n",
       "      <td>basin_1</td>\n",
       "      <td>water_source</td>\n",
       "      <td>water_supply</td>\n",
       "      <td>year</td>\n",
       "      <td>year</td>\n",
       "      <td>0.25</td>\n",
       "      <td>-</td>\n",
       "    </tr>\n",
       "    <tr>\n",
       "      <th>...</th>\n",
       "      <td>...</td>\n",
       "      <td>...</td>\n",
       "      <td>...</td>\n",
       "      <td>...</td>\n",
       "      <td>...</td>\n",
       "      <td>...</td>\n",
       "      <td>...</td>\n",
       "      <td>...</td>\n",
       "      <td>...</td>\n",
       "      <td>...</td>\n",
       "      <td>...</td>\n",
       "      <td>...</td>\n",
       "    </tr>\n",
       "    <tr>\n",
       "      <th>67</th>\n",
       "      <td>AFR</td>\n",
       "      <td>freshwater</td>\n",
       "      <td>700</td>\n",
       "      <td>710</td>\n",
       "      <td>standard</td>\n",
       "      <td>basin_8</td>\n",
       "      <td>water_source</td>\n",
       "      <td>water_supply</td>\n",
       "      <td>year</td>\n",
       "      <td>year</td>\n",
       "      <td>0.75</td>\n",
       "      <td>-</td>\n",
       "    </tr>\n",
       "    <tr>\n",
       "      <th>68</th>\n",
       "      <td>AFR</td>\n",
       "      <td>freshwater</td>\n",
       "      <td>700</td>\n",
       "      <td>720</td>\n",
       "      <td>standard</td>\n",
       "      <td>basin_8</td>\n",
       "      <td>water_source</td>\n",
       "      <td>water_supply</td>\n",
       "      <td>year</td>\n",
       "      <td>year</td>\n",
       "      <td>0.75</td>\n",
       "      <td>-</td>\n",
       "    </tr>\n",
       "    <tr>\n",
       "      <th>69</th>\n",
       "      <td>AFR</td>\n",
       "      <td>freshwater</td>\n",
       "      <td>710</td>\n",
       "      <td>710</td>\n",
       "      <td>standard</td>\n",
       "      <td>basin_8</td>\n",
       "      <td>water_source</td>\n",
       "      <td>water_supply</td>\n",
       "      <td>year</td>\n",
       "      <td>year</td>\n",
       "      <td>0.75</td>\n",
       "      <td>-</td>\n",
       "    </tr>\n",
       "    <tr>\n",
       "      <th>70</th>\n",
       "      <td>AFR</td>\n",
       "      <td>freshwater</td>\n",
       "      <td>710</td>\n",
       "      <td>720</td>\n",
       "      <td>standard</td>\n",
       "      <td>basin_8</td>\n",
       "      <td>water_source</td>\n",
       "      <td>water_supply</td>\n",
       "      <td>year</td>\n",
       "      <td>year</td>\n",
       "      <td>0.75</td>\n",
       "      <td>-</td>\n",
       "    </tr>\n",
       "    <tr>\n",
       "      <th>71</th>\n",
       "      <td>AFR</td>\n",
       "      <td>freshwater</td>\n",
       "      <td>720</td>\n",
       "      <td>720</td>\n",
       "      <td>standard</td>\n",
       "      <td>basin_8</td>\n",
       "      <td>water_source</td>\n",
       "      <td>water_supply</td>\n",
       "      <td>year</td>\n",
       "      <td>year</td>\n",
       "      <td>0.75</td>\n",
       "      <td>-</td>\n",
       "    </tr>\n",
       "  </tbody>\n",
       "</table>\n",
       "<p>72 rows × 12 columns</p>\n",
       "</div>"
      ],
      "text/plain": [
       "   node_loc  technology  year_vtg  year_act      mode node_origin  \\\n",
       "0       AFR  freshwater       690       700  standard     basin_1   \n",
       "1       AFR  freshwater       690       710  standard     basin_1   \n",
       "2       AFR  freshwater       690       720  standard     basin_1   \n",
       "3       AFR  freshwater       700       700  standard     basin_1   \n",
       "4       AFR  freshwater       700       710  standard     basin_1   \n",
       "..      ...         ...       ...       ...       ...         ...   \n",
       "67      AFR  freshwater       700       710  standard     basin_8   \n",
       "68      AFR  freshwater       700       720  standard     basin_8   \n",
       "69      AFR  freshwater       710       710  standard     basin_8   \n",
       "70      AFR  freshwater       710       720  standard     basin_8   \n",
       "71      AFR  freshwater       720       720  standard     basin_8   \n",
       "\n",
       "       commodity         level  time time_origin  value unit  \n",
       "0   water_source  water_supply  year        year   0.25    -  \n",
       "1   water_source  water_supply  year        year   0.25    -  \n",
       "2   water_source  water_supply  year        year   0.25    -  \n",
       "3   water_source  water_supply  year        year   0.25    -  \n",
       "4   water_source  water_supply  year        year   0.25    -  \n",
       "..           ...           ...   ...         ...    ...  ...  \n",
       "67  water_source  water_supply  year        year   0.75    -  \n",
       "68  water_source  water_supply  year        year   0.75    -  \n",
       "69  water_source  water_supply  year        year   0.75    -  \n",
       "70  water_source  water_supply  year        year   0.75    -  \n",
       "71  water_source  water_supply  year        year   0.75    -  \n",
       "\n",
       "[72 rows x 12 columns]"
      ]
     },
     "execution_count": 21,
     "metadata": {},
     "output_type": "execute_result"
    }
   ],
   "source": [
    "scenario.par('input')"
   ]
  },
  {
   "cell_type": "code",
   "execution_count": 22,
   "metadata": {
    "slideshow": {
     "slide_type": "fragment"
    }
   },
   "outputs": [],
   "source": [
    "\n",
    "df_out = make_df(base_output, technology='water_withdrawal', commodity='water_demand', \n",
    "                   level='useful', value=1.0)\n",
    "scenario.add_par('output', df_out)\n",
    "\n",
    "# df_in = make_df(base_input, technology='freshwater', commodity='water_source',  \n",
    "#                   level='water_supply')\n",
    "# scenario.add_par('input', df_in)"
   ]
  },
  {
   "cell_type": "code",
   "execution_count": 24,
   "metadata": {
    "slideshow": {
     "slide_type": "fragment"
    }
   },
   "outputs": [],
   "source": [
    "\n",
    "df_out = make_df(base_output, technology='water_withdrawal', commodity='water_demand', \n",
    "                   level='useful', value=1.0)\n",
    "scenario.add_par('output', df_out)\n",
    "\n",
    "df_in = make_df(base_input, technology='groundwater', commodity='water_source',\n",
    "                  level='water_supply')\n",
    "#scenario.add_par('input', df_in)"
   ]
  },
  {
   "cell_type": "code",
   "execution_count": 25,
   "metadata": {},
   "outputs": [],
   "source": [
    "for node, val in basin_value.items():\n",
    "    df_in1 = make_df(df_in, node_origin=node, value=val)\n",
    "    scenario.add_par('input', df_in1)"
   ]
  },
  {
   "cell_type": "code",
   "execution_count": 26,
   "metadata": {
    "slideshow": {
     "slide_type": "fragment"
    }
   },
   "outputs": [],
   "source": [
    "df_out = make_df(base_output, technology='water_withdrawal', commodity='water_demand', \n",
    "                   level='useful', value=1., unit=\"GWa\")\n",
    "scenario.add_par('output', df_out)\n",
    "\n",
    "df_in = make_df(base_input, technology='water_t_d', commodity='t_d', \n",
    "                   level='final')\n",
    "#scenario.add_par('output', df_out)\n",
    "for node, val in basin_value.items():\n",
    "    df_in1 = make_df(df_in, node_origin=node, value=val)\n",
    "    scenario.add_par('input', df_in1)"
   ]
  },
  {
   "cell_type": "code",
   "execution_count": 28,
   "metadata": {},
   "outputs": [],
   "source": [
    "inp = scenario.par('input')\n",
    "inp.to_csv('input')"
   ]
  },
  {
   "cell_type": "markdown",
   "metadata": {
    "slideshow": {
     "slide_type": "slide"
    }
   },
   "source": [
    "## Operational Constraints and Parameters"
   ]
  },
  {
   "cell_type": "markdown",
   "metadata": {
    "slideshow": {
     "slide_type": "fragment"
    }
   },
   "source": [
    "The model has a number of \"reality\" constraints, which relate built *capacity* (`CAP`) to available power, or the *activity* (`ACT`) of that technology.\n",
    "\n",
    "The **capacity constraint** limits the activity of a technology to the installed capacity multiplied by a capacity factor. Capacity factor or is the fraction of installed capacity that can be active in a certain period (here the sub-annual time step *h*).\n",
    "\n",
    "$$\\sum_{m} \\text{ACT}_{n,t,y^V,y,m,h}\n",
    "    \\leq \\text{duration_time}_{h} \\cdot \\text{capacity_factor}_{n,t,y^V,y,h} \\cdot \\text{CAP}_{n,t,y^V,y}\n",
    "    \\quad t \\ \\in \\ T^{INV}$$\n"
   ]
  },
  {
   "cell_type": "markdown",
   "metadata": {
    "slideshow": {
     "slide_type": "slide"
    }
   },
   "source": [
    "This requires us to provide the `capacity_factor` for each technology. Here, we call `make_df()` and `add_par()` in a loop to execute similar code for three technologies:"
   ]
  },
  {
   "cell_type": "code",
   "execution_count": 29,
   "metadata": {
    "slideshow": {
     "slide_type": "skip"
    }
   },
   "outputs": [],
   "source": [
    "base_capacity_factor = {\n",
    "    'node_loc': region,\n",
    "    'year_vtg': vintage_years,\n",
    "    'year_act': act_years,\n",
    "    'time': 'year',\n",
    "    'unit': '-',\n",
    "}"
   ]
  },
  {
   "cell_type": "code",
   "execution_count": 30,
   "metadata": {
    "slideshow": {
     "slide_type": "fragment"
    }
   },
   "outputs": [],
   "source": [
    "capacity_factor = {\n",
    "    'freshwater': 1-0.36,\n",
    "    'groundwater': 0.36,\n",
    "    'water_t_d': 1, \n",
    "}\n",
    "\n",
    "for tec, val in capacity_factor.items():\n",
    "    df = make_df(base_capacity_factor, technology=tec, value=val)\n",
    "    scenario.add_par('capacity_factor', df)"
   ]
  },
  {
   "cell_type": "markdown",
   "metadata": {
    "slideshow": {
     "slide_type": "slide"
    }
   },
   "source": [
    "The model can further be provided `technical_lifetime`s in order to properly manage deployed capacity and related costs via the **capacity maintenance** constraint:\n",
    "\n",
    "$\\text{CAP}_{n,t,y^V,y} \\leq \\text{remaining_capacity}_{n,t,y^V,y} \\cdot \\text{value} \\quad \\forall \\quad t \\in T^{INV}$\n",
    "\n",
    "where `value` can take different forms depending on what time period is considered:\n",
    "\n",
    "| Value                               | Condition                                           |\n",
    "|-------------------------------------|-----------------------------------------------------|\n",
    "| $\\Delta_y \\text{historical_new_capacity}_{n,t,y^V}$ | $y$ is first model period           |\n",
    "| $\\Delta_y \\text{CAP_NEW}_{n,t,y^V}$ | $y = y^V$                                           |\n",
    "| $\\text{CAP}_{n,t,y^V,y-1}$          | $0 < y - y^V < \\text{technical_lifetime}_{n,t,y^V}$ |\n"
   ]
  },
  {
   "cell_type": "code",
   "execution_count": 31,
   "metadata": {
    "slideshow": {
     "slide_type": "skip"
    }
   },
   "outputs": [],
   "source": [
    "base_technical_lifetime = {\n",
    "    'node_loc': region,\n",
    "    'year_vtg': model_horizon,\n",
    "    'unit': 'y',\n",
    "}"
   ]
  },
  {
   "cell_type": "code",
   "execution_count": 32,
   "metadata": {
    "slideshow": {
     "slide_type": "fragment"
    }
   },
   "outputs": [],
   "source": [
    "lifetime = {\n",
    "    'freshwater': 10,\n",
    "    'groundwater': 10,\n",
    "    'water_t_d': 1, \n",
    "}\n",
    "\n",
    "for tec, val in lifetime.items():\n",
    "    df = make_df(base_technical_lifetime, technology=tec, value=val)\n",
    "    scenario.add_par('technical_lifetime', df)"
   ]
  },
  {
   "cell_type": "markdown",
   "metadata": {
    "slideshow": {
     "slide_type": "slide"
    }
   },
   "source": [
    "## Technological Diffusion and Contraction\n",
    "\n",
    "We know from historical precedent that energy systems can not be transformed instantaneously. Therefore, we use a family of dynamic constraints on activity and capacity. These constraints define the upper and lower limit of the domain of activity and capacity over time based on their value in the previous time step, an initial value, and growth/decline rates."
   ]
  },
  {
   "cell_type": "markdown",
   "metadata": {
    "slideshow": {
     "slide_type": "fragment"
    }
   },
   "source": [
    "$\\sum_{y^V \\leq y,m} \\text{ACT}_{n,t,y^V,y,m,h} \\leq$  \n",
    "$\\text{initial_activity_up}_{n,t,y,h}\n",
    "        \\cdot \\frac{ \\Big( 1 + growth\\_activity\\_up_{n,t,y,h} \\Big)^{|y|} - 1 }\n",
    "                   { growth\\_activity\\_up_{n,t,y,h} }+ \\Big( 1 + growth\\_activity\\_up_{n,t,y,h} \\Big)^{|y|} \\cdot \\Big( \\sum_{y^V \\leq y-1,m} ACT_{n,t,y^V,y-1,m,h} + \\sum_{m} historical\\_activity_{n,t,y-1,m,h}\\Big)$  "
   ]
  },
  {
   "cell_type": "markdown",
   "metadata": {
    "slideshow": {
     "slide_type": "slide"
    }
   },
   "source": [
    "This example limits the ability for technologies to **grow**. To do so, we  need to provide `growth_activity_up` values for each technology that we want to model as being diffusion constrained. Here, we set this constraint at 10% per year."
   ]
  },
  {
   "cell_type": "code",
   "execution_count": 33,
   "metadata": {
    "slideshow": {
     "slide_type": "skip"
    }
   },
   "outputs": [],
   "source": [
    "base_growth = {\n",
    "    'node_loc': region,\n",
    "    'year_act': model_horizon,\n",
    "    'time': 'year',\n",
    "    'unit': '-',\n",
    "}"
   ]
  },
  {
   "cell_type": "code",
   "execution_count": 34,
   "metadata": {
    "slideshow": {
     "slide_type": "fragment"
    }
   },
   "outputs": [],
   "source": [
    "growth_technologies = [\n",
    "    \"freshwater\", \n",
    "    \"groundwater\", \n",
    "]\n",
    "\n",
    "for tec in growth_technologies:\n",
    "    df = make_df(base_growth, technology=tec, value=0.1) \n",
    "    scenario.add_par('growth_activity_up', df)"
   ]
  },
  {
   "cell_type": "markdown",
   "metadata": {
    "slideshow": {
     "slide_type": "slide"
    }
   },
   "source": [
    "## Defining an Energy Mix (Model Calibration)\n",
    "\n",
    "To model the transition of an energy system, one must start with the existing system which are defined by the parameters `historical_activity` and `historical_new_capacity`. These parameters define the energy mix before the model horizon.  \n",
    "\n",
    "We begin by defining a few key values:\n",
    "\n",
    "- how much useful energy was needed\n",
    "- how much final energy was generated\n",
    "- and the mix for different technologies"
   ]
  },
  {
   "cell_type": "code",
   "execution_count": 35,
   "metadata": {
    "slideshow": {
     "slide_type": "fragment"
    }
   },
   "outputs": [],
   "source": [
    "historic_demand = 0.85 * demand_per_year\n",
    "historic_generation = historic_demand / 1\n",
    "wat_fraction = 0.6"
   ]
  },
  {
   "cell_type": "code",
   "execution_count": 36,
   "metadata": {
    "slideshow": {
     "slide_type": "skip"
    }
   },
   "outputs": [],
   "source": [
    "base_capacity = {\n",
    "    'node_loc': region,\n",
    "    'year_vtg': history,\n",
    "    'unit': 'GWa',\n",
    "}\n",
    "\n",
    "base_activity = {\n",
    "    'node_loc': region,\n",
    "    'year_act': history,\n",
    "    'mode': 'standard',\n",
    "    'time': 'year',\n",
    "    'unit': 'GWa',\n",
    "}"
   ]
  },
  {
   "cell_type": "markdown",
   "metadata": {
    "slideshow": {
     "slide_type": "slide"
    }
   },
   "source": [
    "Then, we can define the **activity** and **capacity** in the historic period"
   ]
  },
  {
   "cell_type": "code",
   "execution_count": 37,
   "metadata": {
    "slideshow": {
     "slide_type": "fragment"
    }
   },
   "outputs": [],
   "source": [
    "old_activity = {\n",
    "    'freshwater': wat_fraction * historic_generation,\n",
    "    'groundwater': (1 - wat_fraction) * historic_generation,\n",
    "}\n",
    "\n",
    "for tec, val in old_activity.items():\n",
    "    df = make_df(base_activity, technology=tec, value=val)\n",
    "    scenario.add_par('historical_activity', df)"
   ]
  },
  {
   "cell_type": "code",
   "execution_count": 38,
   "metadata": {
    "slideshow": {
     "slide_type": "fragment"
    }
   },
   "outputs": [],
   "source": [
    "act_to_cap = {\n",
    "    'freshwater': 1 / 10 / capacity_factor['freshwater'] / 2, # 20 year lifetime\n",
    "    'groundwater': 1 / 10 / capacity_factor['groundwater'] / 2,\n",
    "}\n",
    "\n",
    "for tec in act_to_cap:\n",
    "    value = old_activity[tec] * act_to_cap[tec]\n",
    "    df = make_df(base_capacity, technology=tec, value=value)\n",
    "    scenario.add_par('historical_new_capacity', df)"
   ]
  },
  {
   "cell_type": "markdown",
   "metadata": {
    "slideshow": {
     "slide_type": "slide"
    }
   },
   "source": [
    "## Objective Function\n",
    "\n",
    "The objective function drives the purpose of the optimization. Do we wish to seek maximum utility of the social planner, minimize carbon emissions, or something else? Classical IAMs seek to minimize total discounted system cost over space and time. \n",
    "\n",
    "$$\\min \\sum_{n,y \\in Y^{M}} \\text{interestrate}_{y} \\cdot \\text{COST_NODAL}_{n,y}$$\n"
   ]
  },
  {
   "cell_type": "markdown",
   "metadata": {
    "slideshow": {
     "slide_type": "fragment"
    }
   },
   "source": [
    "First, let's add the interest rate parameter."
   ]
  },
  {
   "cell_type": "code",
   "execution_count": 39,
   "metadata": {
    "slideshow": {
     "slide_type": "fragment"
    }
   },
   "outputs": [],
   "source": [
    "scenario.add_par(\"interestrate\", model_horizon, value=0.05, unit='-')"
   ]
  },
  {
   "cell_type": "markdown",
   "metadata": {
    "slideshow": {
     "slide_type": "fragment"
    }
   },
   "source": [
    "`COST_NODAL` is comprised of a variety of costs related to the use of different technologies."
   ]
  },
  {
   "cell_type": "markdown",
   "metadata": {
    "slideshow": {
     "slide_type": "slide"
    }
   },
   "source": [
    "### Investment Costs\n",
    "\n",
    "Capital, or investment, costs are invoked whenever a new plant or unit is built\n",
    "\n",
    "$$\\text{inv_cost}_{n,t,y} \\cdot \\text{construction_time_factor}_{n,t,y} \\cdot \\text{CAP_NEW}_{n,t,y}$$"
   ]
  },
  {
   "cell_type": "code",
   "execution_count": 40,
   "metadata": {
    "slideshow": {
     "slide_type": "skip"
    }
   },
   "outputs": [
    {
     "name": "stderr",
     "output_type": "stream",
     "text": [
      "INFO:root:unit `USD/kW` is already defined in the platform instance\n"
     ]
    }
   ],
   "source": [
    "base_inv_cost = {\n",
    "    'node_loc': region,\n",
    "    'year_vtg': model_horizon,\n",
    "    'unit': 'USD/kW',\n",
    "}\n",
    "\n",
    "# Adding a new unit to the library\n",
    "mp.add_unit('USD/kW')     "
   ]
  },
  {
   "cell_type": "code",
   "execution_count": 41,
   "metadata": {
    "slideshow": {
     "slide_type": "fragment"
    }
   },
   "outputs": [],
   "source": [
    "# in $ / kW (specific investment cost)\n",
    "costs = {\n",
    "    'freshwater': 170,\n",
    "    'groundwater': 230,\n",
    "    'water_t_d': 5,\n",
    "}\n",
    "\n",
    "for tec, val in costs.items():\n",
    "    df = make_df(base_inv_cost, technology=tec, value=val)\n",
    "    scenario.add_par('inv_cost', df)"
   ]
  },
  {
   "cell_type": "markdown",
   "metadata": {
    "slideshow": {
     "slide_type": "slide"
    }
   },
   "source": [
    "### Fixed O&M Costs\n",
    "\n",
    "Fixed cost are only relevant as long as the capacity is active. This formulation allows to include the potential cost savings from early retirement of installed capacity.\n",
    "\n",
    "$$\\sum_{y^V \\leq y} \\text{fix_cost}_{n,t,y^V,y} \\cdot \\text{CAP}_{n,t,y^V,y}$$"
   ]
  },
  {
   "cell_type": "code",
   "execution_count": 42,
   "metadata": {
    "slideshow": {
     "slide_type": "skip"
    }
   },
   "outputs": [],
   "source": [
    "base_fix_cost = {\n",
    "    'node_loc': region,\n",
    "    'year_vtg': vintage_years,\n",
    "    'year_act': act_years,\n",
    "    'unit': 'USD/kWa',\n",
    "}"
   ]
  },
  {
   "cell_type": "code",
   "execution_count": 43,
   "metadata": {
    "slideshow": {
     "slide_type": "fragment"
    }
   },
   "outputs": [],
   "source": [
    "# in $ / kW / year (every year a fixed quantity is destinated to cover part of the O&M costs\n",
    "# based on the size of the plant, e.g. lightning, labor, scheduled maintenance, etc.)\n",
    "\n",
    "costs = {\n",
    "    'freshwater': 30,\n",
    "    'groundwater': 10,\n",
    "}\n",
    "\n",
    "for tec, val in costs.items():\n",
    "    df = make_df(base_fix_cost, technology=tec, value=val)\n",
    "    scenario.add_par('fix_cost', df)"
   ]
  },
  {
   "cell_type": "markdown",
   "metadata": {
    "slideshow": {
     "slide_type": "slide"
    }
   },
   "source": [
    "### Variable O&M Costs\n",
    "\n",
    "Variable Operation and Maintence costs are associated with the costs of actively running the plant. Thus, they are not applied if a plant is on standby (i.e., constructed, but not currently in use).\n",
    "\n",
    "$$\\sum_{\\substack{y^V \\leq y \\\\ m,h}} \\text{var_cost}_{n,t,y^V,y,m,h} \\cdot \\text{ACT}_{n,t,y^V,y,m,h} $$"
   ]
  },
  {
   "cell_type": "code",
   "execution_count": 44,
   "metadata": {
    "slideshow": {
     "slide_type": "skip"
    }
   },
   "outputs": [],
   "source": [
    "base_var_cost = {\n",
    "    'node_loc': region,\n",
    "    'year_vtg': vintage_years,\n",
    "    'year_act': act_years,\n",
    "    'mode': 'standard',\n",
    "    'time': 'year',\n",
    "    'unit': 'USD/kWa',\n",
    "}"
   ]
  },
  {
   "cell_type": "code",
   "execution_count": 45,
   "metadata": {
    "slideshow": {
     "slide_type": "fragment"
    }
   },
   "outputs": [],
   "source": [
    "# in $ / kWa (costs associatied to the degradation of equipment when the plant is functioning\n",
    "# per unit of energy produced kW·year = 8760 kWh.\n",
    "# Therefore this costs represents USD per 8760 kWh of energy). Do not confuse with fixed O&M units.\n",
    "\n",
    "costs = {\n",
    "    'freshwater': 30,\n",
    "    'groundwater': 50,\n",
    "}\n",
    "\n",
    "for tec, val in costs.items():\n",
    "    df = make_df(base_var_cost, technology=tec, value=val)\n",
    "    scenario.add_par('var_cost', df)"
   ]
  },
  {
   "cell_type": "markdown",
   "metadata": {
    "slideshow": {
     "slide_type": "slide"
    }
   },
   "source": [
    "A full model will also have costs associated with\n",
    "\n",
    "- costs associated with technologies (investment, fixed, variable costs)\n",
    "- resource extraction: $\\sum_{c,g} \\ resource\\_cost_{n,c,g,y} \\cdot EXT_{n,c,g,y} $\n",
    "- emissions\n",
    "- land use (emulator): $\\sum_{s} land\\_cost_{n,s,y} \\cdot LAND_{n,s,y}$"
   ]
  },
  {
   "cell_type": "markdown",
   "metadata": {
    "slideshow": {
     "slide_type": "slide"
    }
   },
   "source": [
    "## Time to Solve the Model\n",
    "\n",
    "First, we *commit* the model structure and input data (sets and parameters).\n",
    "In the `ixmp` backend, this creates a new model version in the database, which is assigned a version number automatically:"
   ]
  },
  {
   "cell_type": "code",
   "execution_count": 46,
   "metadata": {
    "slideshow": {
     "slide_type": "fragment"
    }
   },
   "outputs": [
    {
     "name": "stderr",
     "output_type": "stream",
     "text": [
      "INFO:message_ix:version number prior to commit: 0\n",
      "INFO:message_ix:version number prior committing to the database: 2\n"
     ]
    }
   ],
   "source": [
    "from message_ix import log\n",
    "\n",
    "log.info('version number prior to commit: {}'.format(scenario.version))\n",
    "\n",
    "scenario.commit(comment='basic model of Westeros electrification')\n",
    "\n",
    "log.info('version number prior committing to the database: {}'.format(scenario.version))"
   ]
  },
  {
   "cell_type": "markdown",
   "metadata": {
    "slideshow": {
     "slide_type": "fragment"
    }
   },
   "source": [
    "An `ixmp` database can contain many scenarios, and possibly multiple versions of the same model and scenario name.\n",
    "These are distinguished by unique version numbers.\n",
    "\n",
    "To make it easier to retrieve the \"correct\" version (e.g., the latest one), you can set a specific scenario as the default version to use if the \"Westeros Electrified\" model is loaded from the `ixmp` database."
   ]
  },
  {
   "cell_type": "code",
   "execution_count": 47,
   "metadata": {
    "slideshow": {
     "slide_type": "fragment"
    }
   },
   "outputs": [],
   "source": [
    "scenario.set_as_default()"
   ]
  },
  {
   "cell_type": "code",
   "execution_count": 48,
   "metadata": {
    "slideshow": {
     "slide_type": "fragment"
    }
   },
   "outputs": [],
   "source": [
    "scenario.solve()"
   ]
  },
  {
   "cell_type": "code",
   "execution_count": 49,
   "metadata": {
    "jupyter": {
     "name": "solve-objective-value"
    },
    "slideshow": {
     "slide_type": "fragment"
    }
   },
   "outputs": [
    {
     "data": {
      "text/plain": [
       "0.0"
      ]
     },
     "execution_count": 49,
     "metadata": {},
     "output_type": "execute_result"
    }
   ],
   "source": [
    "scenario.var('OBJ')['lvl']"
   ]
  },
  {
   "cell_type": "markdown",
   "metadata": {
    "slideshow": {
     "slide_type": "slide"
    }
   },
   "source": [
    "## Plotting Results\n",
    "\n",
    "Analyzing the results of a scenario after it is solved is called **reporting**.\n",
    "MESSAGE*ix* includes flexible and customizable message_ix/tutorial for reporting, but here we wish to focus on the results of our example scenario.\n",
    "We use some custom code to set up some simple plots:"
   ]
  },
  {
   "cell_type": "code",
   "execution_count": 50,
   "metadata": {
    "slideshow": {
     "slide_type": "fragment"
    }
   },
   "outputs": [],
   "source": [
    "# Create a Reporter object to describe and carry out reporting\n",
    "# calculations and operations (like plotting) based on `scenario`\n",
    "from message_ix.reporting import Reporter\n",
    "\n",
    "rep = Reporter.from_scenario(scenario)\n",
    "\n",
    "# Add keys like \"plot activity\" to describe reporting operations.\n",
    "# See tutorial/utils/plotting.py\n",
    "from message_ix.util.tutorial import prepare_plots\n",
    "\n",
    "prepare_plots(rep)"
   ]
  },
  {
   "cell_type": "markdown",
   "metadata": {
    "slideshow": {
     "slide_type": "slide"
    }
   },
   "source": [
    "Now the object `rep` is ready to generate several plots.\n",
    "\n",
    "(For a detailed introduction to how the `Reporter` works, see `westeros_report.ipynb`.)\n",
    "\n",
    "### Activity\n",
    "\n",
    "How much energy is generated in each time period from the different potential sources?"
   ]
  },
  {
   "cell_type": "code",
   "execution_count": 52,
   "metadata": {
    "slideshow": {
     "slide_type": "fragment"
    }
   },
   "outputs": [
    {
     "name": "stderr",
     "output_type": "stream",
     "text": [
      "0 values for par 'output' using filters:\n",
      "  {'technology': ['groundwater', 'freshwater']}\n",
      "  Subsequent computations may fail.\n",
      "WARNING:ixmp.reporting.computations:0 values for par 'output' using filters:\n",
      "  {'technology': ['groundwater', 'freshwater']}\n",
      "  Subsequent computations may fail.\n"
     ]
    },
    {
     "ename": "ComputationError",
     "evalue": "computing 'plot activity' using:\n\n(functools.partial(<function stacked_bar at 0x1a1c6d04d0>, dims=('nl', 't', 'ya'), units='GWa', title='Energy System Activity', cf=1.0, stacked=True), <out:nl-t-ya>)\n\nUse Reporter.describe(...) to trace the computation.\n\nComputation traceback:\n  File \"/Users/MuhammadAwais/Reps/message_ix/message_ix/reporting/computations.py\", line 178, in stacked_bar\n    title=f\"{df.loc[0, dims[0]]} {title}\",\n  File \"/Users/MuhammadAwais/anaconda3/lib/python3.7/site-packages/pandas/core/indexing.py\", line 873, in __getitem__\n    return self._getitem_tuple(key)\n  File \"/Users/MuhammadAwais/anaconda3/lib/python3.7/site-packages/pandas/core/indexing.py\", line 1044, in _getitem_tuple\n    return self._getitem_lowerdim(tup)\n  File \"/Users/MuhammadAwais/anaconda3/lib/python3.7/site-packages/pandas/core/indexing.py\", line 786, in _getitem_lowerdim\n    section = self._getitem_axis(key, axis=i)\n  File \"/Users/MuhammadAwais/anaconda3/lib/python3.7/site-packages/pandas/core/indexing.py\", line 1110, in _getitem_axis\n    return self._get_label(key, axis=axis)\n  File \"/Users/MuhammadAwais/anaconda3/lib/python3.7/site-packages/pandas/core/indexing.py\", line 1059, in _get_label\n    return self.obj.xs(label, axis=axis)\n  File \"/Users/MuhammadAwais/anaconda3/lib/python3.7/site-packages/pandas/core/generic.py\", line 3491, in xs\n    loc = self.index.get_loc(key)\n  File \"/Users/MuhammadAwais/anaconda3/lib/python3.7/site-packages/pandas/core/indexes/range.py\", line 357, in get_loc\n    raise KeyError(key) from err\nKeyError: 0\n",
     "output_type": "error",
     "traceback": [
      "\u001b[0;31m--------------------------------------------------------------------\u001b[0m",
      "\u001b[0;31mComputationError\u001b[0m                   Traceback (most recent call last)",
      "\u001b[0;32m<ipython-input-52-ee1a45f3a681>\u001b[0m in \u001b[0;36m<module>\u001b[0;34m\u001b[0m\n\u001b[1;32m      4\u001b[0m \u001b[0;34m\u001b[0m\u001b[0m\n\u001b[1;32m      5\u001b[0m \u001b[0;31m# Trigger the calculation and plotting\u001b[0m\u001b[0;34m\u001b[0m\u001b[0;34m\u001b[0m\u001b[0;34m\u001b[0m\u001b[0m\n\u001b[0;32m----> 6\u001b[0;31m \u001b[0mrep\u001b[0m\u001b[0;34m.\u001b[0m\u001b[0mget\u001b[0m\u001b[0;34m(\u001b[0m\u001b[0;34m\"plot activity\"\u001b[0m\u001b[0;34m)\u001b[0m\u001b[0;34m\u001b[0m\u001b[0;34m\u001b[0m\u001b[0m\n\u001b[0m",
      "\u001b[0;32m~/Reps/ixmp/ixmp/reporting/__init__.py\u001b[0m in \u001b[0;36mget\u001b[0;34m(self, key)\u001b[0m\n\u001b[1;32m    477\u001b[0m             \u001b[0;32mreturn\u001b[0m \u001b[0mdask_get\u001b[0m\u001b[0;34m(\u001b[0m\u001b[0mdsk\u001b[0m\u001b[0;34m,\u001b[0m \u001b[0mkey\u001b[0m\u001b[0;34m)\u001b[0m\u001b[0;34m\u001b[0m\u001b[0;34m\u001b[0m\u001b[0m\n\u001b[1;32m    478\u001b[0m         \u001b[0;32mexcept\u001b[0m \u001b[0mException\u001b[0m \u001b[0;32mas\u001b[0m \u001b[0mexc\u001b[0m\u001b[0;34m:\u001b[0m\u001b[0;34m\u001b[0m\u001b[0;34m\u001b[0m\u001b[0m\n\u001b[0;32m--> 479\u001b[0;31m             \u001b[0;32mraise\u001b[0m \u001b[0mComputationError\u001b[0m\u001b[0;34m(\u001b[0m\u001b[0mexc\u001b[0m\u001b[0;34m)\u001b[0m \u001b[0;32mfrom\u001b[0m \u001b[0;32mNone\u001b[0m\u001b[0;34m\u001b[0m\u001b[0;34m\u001b[0m\u001b[0m\n\u001b[0m\u001b[1;32m    480\u001b[0m \u001b[0;34m\u001b[0m\u001b[0m\n\u001b[1;32m    481\u001b[0m     \u001b[0;32mdef\u001b[0m \u001b[0mkeys\u001b[0m\u001b[0;34m(\u001b[0m\u001b[0mself\u001b[0m\u001b[0;34m)\u001b[0m\u001b[0;34m:\u001b[0m\u001b[0;34m\u001b[0m\u001b[0;34m\u001b[0m\u001b[0m\n",
      "\u001b[0;31mComputationError\u001b[0m: computing 'plot activity' using:\n\n(functools.partial(<function stacked_bar at 0x1a1c6d04d0>, dims=('nl', 't', 'ya'), units='GWa', title='Energy System Activity', cf=1.0, stacked=True), <out:nl-t-ya>)\n\nUse Reporter.describe(...) to trace the computation.\n\nComputation traceback:\n  File \"/Users/MuhammadAwais/Reps/message_ix/message_ix/reporting/computations.py\", line 178, in stacked_bar\n    title=f\"{df.loc[0, dims[0]]} {title}\",\n  File \"/Users/MuhammadAwais/anaconda3/lib/python3.7/site-packages/pandas/core/indexing.py\", line 873, in __getitem__\n    return self._getitem_tuple(key)\n  File \"/Users/MuhammadAwais/anaconda3/lib/python3.7/site-packages/pandas/core/indexing.py\", line 1044, in _getitem_tuple\n    return self._getitem_lowerdim(tup)\n  File \"/Users/MuhammadAwais/anaconda3/lib/python3.7/site-packages/pandas/core/indexing.py\", line 786, in _getitem_lowerdim\n    section = self._getitem_axis(key, axis=i)\n  File \"/Users/MuhammadAwais/anaconda3/lib/python3.7/site-packages/pandas/core/indexing.py\", line 1110, in _getitem_axis\n    return self._get_label(key, axis=axis)\n  File \"/Users/MuhammadAwais/anaconda3/lib/python3.7/site-packages/pandas/core/indexing.py\", line 1059, in _get_label\n    return self.obj.xs(label, axis=axis)\n  File \"/Users/MuhammadAwais/anaconda3/lib/python3.7/site-packages/pandas/core/generic.py\", line 3491, in xs\n    loc = self.index.get_loc(key)\n  File \"/Users/MuhammadAwais/anaconda3/lib/python3.7/site-packages/pandas/core/indexes/range.py\", line 357, in get_loc\n    raise KeyError(key) from err\nKeyError: 0\n"
     ]
    }
   ],
   "source": [
    "# Only show a subset of technologies in the follow plots;\n",
    "# e.g. exclude \"bulb\" and \"grid\"\n",
    "#rep.set_filters(t=[\"groundwater\", \"freshwater\"])\n",
    "\n",
    "# Trigger the calculation and plotting\n",
    "rep.get(\"plot activity\")"
   ]
  },
  {
   "cell_type": "markdown",
   "metadata": {
    "slideshow": {
     "slide_type": "slide"
    }
   },
   "source": [
    "### Capacity\n",
    "\n",
    "How much capacity of each plant is installed in each period?"
   ]
  },
  {
   "cell_type": "code",
   "execution_count": 53,
   "metadata": {
    "slideshow": {
     "slide_type": "fragment"
    }
   },
   "outputs": [
    {
     "data": {
      "text/plain": [
       "<matplotlib.axes._subplots.AxesSubplot at 0x1a40feeed0>"
      ]
     },
     "execution_count": 53,
     "metadata": {},
     "output_type": "execute_result"
    },
    {
     "data": {
      "image/png": "[encoded data removed]",
      "text/plain": [
       "<Figure size 432x288 with 1 Axes>"
      ]
     },
     "metadata": {
      "needs_background": "light"
     },
     "output_type": "display_data"
    }
   ],
   "source": [
    "# Create a different plot. The same filters are still active.\n",
    "rep.get(\"plot capacity\")"
   ]
  },
  {
   "cell_type": "markdown",
   "metadata": {
    "slideshow": {
     "slide_type": "slide"
    }
   },
   "source": [
    "### Electricity Price\n",
    "\n",
    "And how much does the electricity cost? These prices are in fact **shadow prices** taken from the **dual variables** of the model solution.\n",
    "They reflect the marginal cost of electricity generation (i.e., the additional cost of the system for supplying one more unit of\n",
    "electricity), which is in fact the marginal cost of the most expensive operating generator.  \n",
    "\n",
    "Note the price drop when the most expensive technology is no longer in the system."
   ]
  },
  {
   "cell_type": "code",
   "execution_count": 54,
   "metadata": {
    "slideshow": {
     "slide_type": "fragment"
    }
   },
   "outputs": [
    {
     "name": "stderr",
     "output_type": "stream",
     "text": [
      "0 values for var 'PRICE_COMMODITY' using filters:\n",
      "  {'commodity': ['water_t_d']}\n",
      "  Subsequent computations may fail.\n",
      "WARNING:ixmp.reporting.computations:0 values for var 'PRICE_COMMODITY' using filters:\n",
      "  {'commodity': ['water_t_d']}\n",
      "  Subsequent computations may fail.\n"
     ]
    },
    {
     "ename": "ComputationError",
     "evalue": "computing 'plot prices' using:\n\n(functools.partial(<function stacked_bar at 0x1a1c6d04d0>, dims=('n', 'c', 'y'), units='¢/kW·h', title='Energy System Prices', cf=0.01141552511415525, stacked=False), <PRICE_COMMODITY:n-c-y>)\n\nUse Reporter.describe(...) to trace the computation.\n\nComputation traceback:\n  File \"/Users/MuhammadAwais/Reps/message_ix/message_ix/reporting/computations.py\", line 178, in stacked_bar\n    title=f\"{df.loc[0, dims[0]]} {title}\",\n  File \"/Users/MuhammadAwais/anaconda3/lib/python3.7/site-packages/pandas/core/indexing.py\", line 873, in __getitem__\n    return self._getitem_tuple(key)\n  File \"/Users/MuhammadAwais/anaconda3/lib/python3.7/site-packages/pandas/core/indexing.py\", line 1044, in _getitem_tuple\n    return self._getitem_lowerdim(tup)\n  File \"/Users/MuhammadAwais/anaconda3/lib/python3.7/site-packages/pandas/core/indexing.py\", line 786, in _getitem_lowerdim\n    section = self._getitem_axis(key, axis=i)\n  File \"/Users/MuhammadAwais/anaconda3/lib/python3.7/site-packages/pandas/core/indexing.py\", line 1110, in _getitem_axis\n    return self._get_label(key, axis=axis)\n  File \"/Users/MuhammadAwais/anaconda3/lib/python3.7/site-packages/pandas/core/indexing.py\", line 1059, in _get_label\n    return self.obj.xs(label, axis=axis)\n  File \"/Users/MuhammadAwais/anaconda3/lib/python3.7/site-packages/pandas/core/generic.py\", line 3491, in xs\n    loc = self.index.get_loc(key)\n  File \"/Users/MuhammadAwais/anaconda3/lib/python3.7/site-packages/pandas/core/indexes/range.py\", line 357, in get_loc\n    raise KeyError(key) from err\nKeyError: 0\n",
     "output_type": "error",
     "traceback": [
      "\u001b[0;31m--------------------------------------------------------------------\u001b[0m",
      "\u001b[0;31mComputationError\u001b[0m                   Traceback (most recent call last)",
      "\u001b[0;32m<ipython-input-54-1c995a503227>\u001b[0m in \u001b[0;36m<module>\u001b[0;34m\u001b[0m\n\u001b[1;32m      4\u001b[0m \u001b[0;34m\u001b[0m\u001b[0m\n\u001b[1;32m      5\u001b[0m \u001b[0;31m# Create a price plot\u001b[0m\u001b[0;34m\u001b[0m\u001b[0;34m\u001b[0m\u001b[0;34m\u001b[0m\u001b[0m\n\u001b[0;32m----> 6\u001b[0;31m \u001b[0mrep\u001b[0m\u001b[0;34m.\u001b[0m\u001b[0mget\u001b[0m\u001b[0;34m(\u001b[0m\u001b[0;34m\"plot prices\"\u001b[0m\u001b[0;34m)\u001b[0m\u001b[0;34m\u001b[0m\u001b[0;34m\u001b[0m\u001b[0m\n\u001b[0m",
      "\u001b[0;32m~/Reps/ixmp/ixmp/reporting/__init__.py\u001b[0m in \u001b[0;36mget\u001b[0;34m(self, key)\u001b[0m\n\u001b[1;32m    477\u001b[0m             \u001b[0;32mreturn\u001b[0m \u001b[0mdask_get\u001b[0m\u001b[0;34m(\u001b[0m\u001b[0mdsk\u001b[0m\u001b[0;34m,\u001b[0m \u001b[0mkey\u001b[0m\u001b[0;34m)\u001b[0m\u001b[0;34m\u001b[0m\u001b[0;34m\u001b[0m\u001b[0m\n\u001b[1;32m    478\u001b[0m         \u001b[0;32mexcept\u001b[0m \u001b[0mException\u001b[0m \u001b[0;32mas\u001b[0m \u001b[0mexc\u001b[0m\u001b[0;34m:\u001b[0m\u001b[0;34m\u001b[0m\u001b[0;34m\u001b[0m\u001b[0m\n\u001b[0;32m--> 479\u001b[0;31m             \u001b[0;32mraise\u001b[0m \u001b[0mComputationError\u001b[0m\u001b[0;34m(\u001b[0m\u001b[0mexc\u001b[0m\u001b[0;34m)\u001b[0m \u001b[0;32mfrom\u001b[0m \u001b[0;32mNone\u001b[0m\u001b[0;34m\u001b[0m\u001b[0;34m\u001b[0m\u001b[0m\n\u001b[0m\u001b[1;32m    480\u001b[0m \u001b[0;34m\u001b[0m\u001b[0m\n\u001b[1;32m    481\u001b[0m     \u001b[0;32mdef\u001b[0m \u001b[0mkeys\u001b[0m\u001b[0;34m(\u001b[0m\u001b[0mself\u001b[0m\u001b[0;34m)\u001b[0m\u001b[0;34m:\u001b[0m\u001b[0;34m\u001b[0m\u001b[0;34m\u001b[0m\u001b[0m\n",
      "\u001b[0;31mComputationError\u001b[0m: computing 'plot prices' using:\n\n(functools.partial(<function stacked_bar at 0x1a1c6d04d0>, dims=('n', 'c', 'y'), units='¢/kW·h', title='Energy System Prices', cf=0.01141552511415525, stacked=False), <PRICE_COMMODITY:n-c-y>)\n\nUse Reporter.describe(...) to trace the computation.\n\nComputation traceback:\n  File \"/Users/MuhammadAwais/Reps/message_ix/message_ix/reporting/computations.py\", line 178, in stacked_bar\n    title=f\"{df.loc[0, dims[0]]} {title}\",\n  File \"/Users/MuhammadAwais/anaconda3/lib/python3.7/site-packages/pandas/core/indexing.py\", line 873, in __getitem__\n    return self._getitem_tuple(key)\n  File \"/Users/MuhammadAwais/anaconda3/lib/python3.7/site-packages/pandas/core/indexing.py\", line 1044, in _getitem_tuple\n    return self._getitem_lowerdim(tup)\n  File \"/Users/MuhammadAwais/anaconda3/lib/python3.7/site-packages/pandas/core/indexing.py\", line 786, in _getitem_lowerdim\n    section = self._getitem_axis(key, axis=i)\n  File \"/Users/MuhammadAwais/anaconda3/lib/python3.7/site-packages/pandas/core/indexing.py\", line 1110, in _getitem_axis\n    return self._get_label(key, axis=axis)\n  File \"/Users/MuhammadAwais/anaconda3/lib/python3.7/site-packages/pandas/core/indexing.py\", line 1059, in _get_label\n    return self.obj.xs(label, axis=axis)\n  File \"/Users/MuhammadAwais/anaconda3/lib/python3.7/site-packages/pandas/core/generic.py\", line 3491, in xs\n    loc = self.index.get_loc(key)\n  File \"/Users/MuhammadAwais/anaconda3/lib/python3.7/site-packages/pandas/core/indexes/range.py\", line 357, in get_loc\n    raise KeyError(key) from err\nKeyError: 0\n"
     ]
    }
   ],
   "source": [
    "# Replace the technology filters with a commodity filter;\n",
    "# show only \"light\" and not e.g. \"electricity\".\n",
    "rep.set_filters(c=[\"water_t_d\"])\n",
    "\n",
    "# Create a price plot\n",
    "rep.get(\"plot prices\")"
   ]
  },
  {
   "cell_type": "markdown",
   "metadata": {},
   "source": [
    "## Close the connection to the database\n",
    "\n",
    "When working with local HSQLDB database instances, you cannot connect to one database from multipe Jupyter notebooks (or processes) at the same time.\n",
    "\n",
    "If you want to easily switch between notebooks with connections to the same `ixmp` database, you need to close the connection in one notebook before initializing the platform using `ixmp.Platform()` in another notebook.\n",
    "\n",
    "After having closed the database connection, you can reopen it using\n",
    "```\n",
    "mp.open_db()\n",
    "```"
   ]
  },
  {
   "cell_type": "code",
   "execution_count": null,
   "metadata": {
    "slideshow": {
     "slide_type": "skip"
    }
   },
   "outputs": [],
   "source": [
    "mp.close_db()"
   ]
  },
  {
   "cell_type": "markdown",
   "metadata": {
    "slideshow": {
     "slide_type": "slide"
    }
   },
   "source": [
    "## Congratulations! \n",
    "\n",
    "You have built and run your very first *MESSAGEix* model. Welcome to the community!\n",
    "\n",
    "The next tutorials will introduce you to other features of the framework, including energy system constraints, emissions taxes, and other policy options.\n",
    "\n",
    "Check us out on Github https://github.com/iiasa/message_ix  \n",
    "and get in touch with us online https://groups.google.com/forum/message-ix ..."
   ]
  }
 ],
 "metadata": {
  "anaconda-cloud": {},
  "kernelspec": {
   "display_name": "Python 3",
   "language": "python",
   "name": "python3"
  },
  "language_info": {
   "codemirror_mode": {
    "name": "ipython",
    "version": 3
   },
   "file_extension": ".py",
   "mimetype": "text/x-python",
   "name": "python",
   "nbconvert_exporter": "python",
   "pygments_lexer": "ipython3",
   "version": "3.7.9"
  }
 },
 "nbformat": 4,
 "nbformat_minor": 2
}
