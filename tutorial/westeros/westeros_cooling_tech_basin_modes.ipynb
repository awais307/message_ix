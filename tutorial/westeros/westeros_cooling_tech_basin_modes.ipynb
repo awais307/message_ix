{
 "cells": [
  {
   "cell_type": "markdown",
   "metadata": {},
   "source": [
    "# Westeros Tutorial - Implementation of cooling technologies\n",
    "\n"
   ]
  },
  {
   "cell_type": "code",
   "execution_count": 1,
   "metadata": {},
   "outputs": [
    {
     "data": {
      "application/javascript": [
       "IPython.OutputArea.prototype._should_scroll = function(lines) { return false; }"
      ],
      "text/plain": [
       "<IPython.core.display.Javascript object>"
      ]
     },
     "metadata": {},
     "output_type": "display_data"
    }
   ],
   "source": [
    "import pandas as pd\n",
    "import ixmp\n",
    "import message_ix\n",
    "\n",
    "from message_ix.utils import make_df\n",
    "from message_ix.reporting import Reporter\n",
    "from ixmp.reporting import configure\n",
    "\n",
    "# configure unit \n",
    "configure(units={'replace': {'-': ''}})"
   ]
  },
  {
   "cell_type": "code",
   "execution_count": 2,
   "metadata": {},
   "outputs": [],
   "source": [
    "mp = ixmp.Platform(name = 'local')"
   ]
  },
  {
   "cell_type": "code",
   "execution_count": 3,
   "metadata": {},
   "outputs": [],
   "source": [
    "model = 'Westeros Electrified'\n",
    "\n",
    "base = message_ix.Scenario(mp, model=model, scenario='baseline')\n",
    "scen = base.clone(model, 'cooling_tech_basin', 'illustrating cooling tech using addon',\n",
    "                  keep_solution=False)\n",
    "scen.check_out()"
   ]
  },
  {
   "cell_type": "code",
   "execution_count": 4,
   "metadata": {},
   "outputs": [],
   "source": [
    "year_df = scen.vintage_and_active_years()\n",
    "vintage_years, act_years = year_df['year_vtg'], year_df['year_act']\n",
    "model_horizon = scen.set('year')\n",
    "country = 'Westeros'"
   ]
  },
  {
   "cell_type": "markdown",
   "metadata": {},
   "source": [
    "## Retrieve parameters to perform subsequent addition of parameters"
   ]
  },
  {
   "cell_type": "code",
   "execution_count": 5,
   "metadata": {},
   "outputs": [],
   "source": [
    "#year_df = scen.vintage_and_active_years()\n",
    "vintage_years, act_years = year_df['year_vtg'], year_df['year_act']\n",
    "model_horizon = scen.set('year')\n",
    "country = 'Westeros'\n",
    "gdp_profile = pd.Series([1., 1.5, 1.9], index=pd.Index([700, 710, 720], name='Time'))"
   ]
  },
  {
   "cell_type": "code",
   "execution_count": 6,
   "metadata": {},
   "outputs": [],
   "source": [
    "basin = ('basin_1', 'basin_2','basin_3')\n",
    "\n",
    "scen.add_spatial_sets({'region': country,'country':basin })"
   ]
  },
  {
   "cell_type": "code",
   "execution_count": 7,
   "metadata": {},
   "outputs": [],
   "source": [
    "basin = ('basin_1', 'basin_2','basin_3')\n",
    "\n",
    "scen.add_spatial_sets({'basin':basin })\n",
    "basin = pd.DataFrame({ \"node_parent\": ('Westeros','Westeros','Westeros','basin_1', 'basin_2','basin_3'),\n",
    "                       \"node\": ('basin_1', 'basin_2','basin_3','basin_1', 'basin_2','basin_3')})\n",
    "scen.add_set(\"map_node\",basin)"
   ]
  },
  {
   "cell_type": "markdown",
   "metadata": {},
   "source": [
    "### Define helper functions"
   ]
  },
  {
   "cell_type": "code",
   "execution_count": 8,
   "metadata": {},
   "outputs": [],
   "source": [
    "base_input1 = {\n",
    "    'node_loc': country,\n",
    "    'year_vtg': vintage_years,\n",
    "    'year_act': act_years,\n",
    "    'mode': 'standard',\n",
    "    'node_origin': country,\n",
    "    'commodity': 'electricity',\n",
    "    'time': 'year',\n",
    "    'time_origin': 'year',\n",
    "}\n",
    "\n",
    "base_input2 = {\n",
    "    'node_loc': country,\n",
    "    'year_vtg': vintage_years,\n",
    "    'year_act': act_years,\n",
    "    'mode': 'standard',\n",
    "    'node_origin': country,\n",
    "    #'commodity': 'electricity',\n",
    "    'time': 'year',\n",
    "    'time_origin': 'year',\n",
    "}\n",
    "\n",
    "\n",
    "base_output = {\n",
    "    'node_loc': country,\n",
    "    'year_vtg': vintage_years,\n",
    "    'year_act': act_years,\n",
    "    'mode': 'standard',\n",
    "    'node_dest': country,\n",
    "    'time': 'year',\n",
    "    'time_dest': 'year', \n",
    "    'unit': '%',\n",
    "}\n",
    "\n",
    "\n",
    "base_capacity_factor = {\n",
    "    'node_loc': country,\n",
    "    'year_vtg': vintage_years,\n",
    "    'year_act': act_years,\n",
    "    'time': 'year',\n",
    "    'unit': '%',\n",
    "}\n",
    "\n",
    "base_technical_lifetime = {\n",
    "    'node_loc': country,\n",
    "    'year_vtg': model_horizon,\n",
    "    'unit': 'y',\n",
    "}\n",
    "\n",
    "base_inv_cost = {\n",
    "    'node_loc': country,\n",
    "    'year_vtg': model_horizon,\n",
    "    'unit': 'USD/kW',\n",
    "}\n",
    "\n",
    "base_fix_cost = {\n",
    "    'node_loc': country,\n",
    "    'year_vtg': vintage_years,\n",
    "    'year_act': act_years,\n",
    "    'unit': 'USD/kW',\n",
    "}\n",
    "\n",
    "base_var_cost = {\n",
    "    'node_loc': country,\n",
    "    'year_vtg': vintage_years,\n",
    "    'year_act': act_years,\n",
    "    'mode': 'standard',\n",
    "    'time': 'year',\n",
    "    'unit': 'USD/kWa',\n",
    "}\n",
    "\n",
    "base_growth = {\n",
    "    'node_loc': country,\n",
    "    'year_act': model_horizon,\n",
    "    'time': 'year',\n",
    "    'unit': '-',\n",
    "}\n",
    "\n",
    "base_capacity = {\n",
    "    'node_loc': country,\n",
    "    'year_vtg': model_horizon,\n",
    "    'unit': 'GW',\n",
    "}\n",
    "\n",
    "base_activity = {\n",
    "    'node_loc': country,\n",
    "    'year_act': act_years,\n",
    "    'mode': 'standard',\n",
    "    'time': 'year',\n",
    "    'unit': 'GWa',\n",
    "}"
   ]
  },
  {
   "cell_type": "markdown",
   "metadata": {},
   "source": [
    "## Defining new levels and commodities\n",
    "Two new `levels` are added to the model:\n",
    "1. `water_supply_region` 7 `water_supply_basin` will be used to model the water flows across basin and region.\n",
    "2. `cooling` will be used to model the cooling requirements."
   ]
  },
  {
   "cell_type": "code",
   "execution_count": 9,
   "metadata": {},
   "outputs": [],
   "source": [
    "scen.add_set(\"commodity\", [\"water_source\",\"water_demand\",\"t_d\"])\n",
    "scen.add_set(\"level\", [\"water_supply\"])\n",
    "scen.add_set(\"technology\", ['freshwater_src','saline_src','freshwater', 'groundwater','saline',\n",
    "                            'water_2_en'])\n",
    "scen.add_set(\"mode\", [\"standard\",\"b1\",\"b2\",\"b3\"])"
   ]
  },
  {
   "cell_type": "code",
   "execution_count": 10,
   "metadata": {},
   "outputs": [],
   "source": [
    "chec\n",
    "scen.add_set(\"commodity\", [\"freshwater_basin\",\"freshwater_region\",\n",
    "                           \"salinewater_basin\",\"salinewater_region\"])\n",
    "\n",
    "scen.add_set(\"level\", [\"cooling\"])\n",
    "scen.add_set(\"commodity\", [\"cooling_req\"])"
   ]
  },
  {
   "cell_type": "markdown",
   "metadata": {},
   "source": [
    "### addon technology - interlinking technologies\n",
    "In order to demonstrate the use of this feature, we will be adding a new demand for water to this scenario. This demand will be met by the coal_ppl via three cooling technologies, the addon technology.\n",
    "\n",
    "We will therefore go through the following steps:\n",
    "\n",
    "#### Cooling technology types\n",
    "Add new technologies:\n",
    "1. Once-through cooling by freshwater - `coal_ppl_ot_fresh`\n",
    "2. Closed loop cooling by freshwater - `coal_ppl_cl_fresh`\n",
    "3. Once through cooling seawater `coal_ppl_ot_saline`\n",
    "4. Air cooling `coal_ppl_air`\n",
    "\n",
    "Link these cooling tehcnologies to the `coal_ppl` using the addon feature.\n",
    "\n",
    "## Adding freshwater supply & instream extraction as techs\n",
    "\n",
    "The water supply technologies have only input & output dataframe in model. \n",
    "\n",
    "*At some point, we may want to link it to global water supply model in future\n"
   ]
  },
  {
   "cell_type": "code",
   "execution_count": 11,
   "metadata": {},
   "outputs": [],
   "source": [
    "year_df = scen.vintage_and_active_years()\n",
    "vintage_years, act_years = year_df['year_vtg'], year_df['year_act']\n",
    "\n",
    "base = {\n",
    "    'year_vtg': vintage_years,\n",
    "    'year_act': act_years,\n",
    "    'mode': 'standard',\n",
    "    'time': 'year',\n",
    "    'unit': '-',\n",
    "}\n",
    "\n"
   ]
  },
  {
   "cell_type": "markdown",
   "metadata": {},
   "source": [
    "### Now we define outputs from basins first for freshwater and saline water \n",
    "The following outputs is a dummy tec to represent water source. "
   ]
  },
  {
   "cell_type": "code",
   "execution_count": 12,
   "metadata": {},
   "outputs": [],
   "source": [
    "\n",
    "tecs = {'freshwater_src': ['freshwater_basin', 1.0, 20]}\n",
    "        #'saline_src': ['salinewater_basin', 1.0, 20]}\n",
    "\n",
    "\n",
    "base_output = make_df(base, time_dest='year')\n",
    "df_out = make_df(base_output, \n",
    "                   level='water_supply_basin')\n",
    "\n",
    "\n",
    "for tec in tecs:\n",
    "    df_out1 = make_df(df_out,technology = tec,commodity = tecs[tec][0], node_loc = 'basin_1' ,\n",
    "                      node_dest='basin_1', value=1.0)\n",
    "    scen.add_par('output', df_out1)\n",
    "\n",
    "for tec in tecs:\n",
    "    df_out1 = make_df(df_out,technology = tec,commodity = tecs[tec][0], node_loc = 'basin_2' ,\n",
    "                      node_dest='basin_2', value=1.0)\n",
    "    scen.add_par('output', df_out1)    \n",
    "    \n",
    "for tec in tecs:\n",
    "    df_out1 = make_df(df_out,technology = tec,commodity = tecs[tec][0], node_loc = 'basin_3' ,\n",
    "                      node_dest='basin_3', value=1.0)\n",
    "    scen.add_par('output', df_out1)    "
   ]
  },
  {
   "cell_type": "code",
   "execution_count": 13,
   "metadata": {},
   "outputs": [],
   "source": [
    "tecs = {'saline_src': ['salinewater_region', 1.0, 20]}\n",
    "\n",
    "\n",
    "base_output = make_df(base, time_dest='year')\n",
    "df_out = make_df(base_output, \n",
    "                   level='saline_supply_region')\n",
    "\n",
    "\n",
    "for tec in tecs:\n",
    "    df_out1 = make_df(df_out,technology = tec,commodity = 'salinewater_region', node_loc = country ,\n",
    "                      node_dest= country, value=1.0)\n",
    "    scen.add_par('output', df_out1)\n",
    "\n"
   ]
  },
  {
   "cell_type": "code",
   "execution_count": 14,
   "metadata": {},
   "outputs": [],
   "source": [
    "base = {\n",
    "    'year_vtg': vintage_years,\n",
    "    'year_act': act_years,\n",
    "    #'mode': 'standard',\n",
    "    'time': 'year',\n",
    "    'unit': '-',\n",
    "}\n"
   ]
  },
  {
   "cell_type": "markdown",
   "metadata": {},
   "source": [
    "Define inputs from the previous output at same level that takes in techs at basin level and produce outputs at region level such as from `basin 1` to `Westeros`\n",
    "\n",
    "`water_2_en_b1` & `water_2_en_b2` are tecs that link water supply region to water supply basin. "
   ]
  },
  {
   "cell_type": "code",
   "execution_count": 15,
   "metadata": {},
   "outputs": [],
   "source": [
    "# scen.add_set('mode',['fresh','saline'])"
   ]
  },
  {
   "cell_type": "code",
   "execution_count": 16,
   "metadata": {},
   "outputs": [],
   "source": [
    "tecs = {'water_2_en': ['basin_1', 1.0, 1],\n",
    "        #'water_2_en_b2': ['basin_2', 1.0, 1]\n",
    "       }\n",
    "\n",
    "base_input = make_df(base, time_origin='year')\n",
    "\n",
    "df_in = make_df(base_input,  level='water_supply_basin')\n",
    "\n",
    "for tec in tecs:\n",
    "    df_in1 = make_df(df_in,technology = tec, commodity = 'freshwater_basin',\n",
    "                     mode = 'b1', node_loc = country, \n",
    "                     node_origin= 'basin_1', value=tecs[tec][2])\n",
    "    scen.add_par('input', df_in1)\n",
    "for tec in tecs:\n",
    "    df_in1 = make_df(df_in,technology = tec, commodity = 'freshwater_basin',\n",
    "                     mode = 'b2', node_loc = country, \n",
    "                     node_origin= 'basin_2', value=tecs[tec][2])\n",
    "    scen.add_par('input', df_in1)\n",
    "for tec in tecs:\n",
    "    df_in1 = make_df(df_in,technology = tec, commodity = 'freshwater_basin',\n",
    "                     mode = 'b3', node_loc = country, \n",
    "                     node_origin= 'basin_3', value=tecs[tec][2])\n",
    "    scen.add_par('input', df_in1)\n",
    "\n",
    "# for tec in tecs:\n",
    "#     df_in1 = make_df(df_in,technology = 'saline_supply_ppl', commodity = 'salinewater_region', \n",
    "#                      mode = 'standard',node_loc = country , \n",
    "#                      node_origin= country , value= 1)\n",
    "#     scen.add_par('input', df_in1)"
   ]
  },
  {
   "cell_type": "code",
   "execution_count": 17,
   "metadata": {},
   "outputs": [],
   "source": [
    "# scen.par('input')"
   ]
  },
  {
   "cell_type": "markdown",
   "metadata": {},
   "source": [
    "Now linking these input values to output for basin water to energy tecs"
   ]
  },
  {
   "cell_type": "code",
   "execution_count": 18,
   "metadata": {},
   "outputs": [],
   "source": [
    "tecs = {'water_2_en': ['basin_1', 1.0, 1],\n",
    "        #'water_2_en_b2': ['basin_2', 1.0, 1]\n",
    "       }\n",
    "\n",
    "base_output = make_df(base, time_dest='year')\n",
    "df_out = make_df(base_output,level='water_supply_region')\n",
    "\n",
    "for tec in tecs:\n",
    "    df_out1 = make_df(df_out,technology = tec, commodity = 'freshwater_region',\n",
    "                      mode = 'b1', node_dest = country, node_loc= country, \n",
    "                      value=tecs[tec][2])\n",
    "    scen.add_par('output', df_out1)\n",
    "\n",
    "for tec in tecs:\n",
    "    df_out1 = make_df(df_out,technology = tec, commodity = 'freshwater_region',\n",
    "                      mode = 'b2', node_dest = country, node_loc= country, \n",
    "                      value=tecs[tec][2])\n",
    "    scen.add_par('output', df_out1)\n",
    "\n",
    "for tec in tecs:\n",
    "    df_out1 = make_df(df_out,technology = tec, commodity = 'freshwater_region',\n",
    "                      mode = 'b3', node_dest = country, node_loc= country, \n",
    "                      value=tecs[tec][2])\n",
    "    scen.add_par('output', df_out1)\n",
    "    \n",
    "# for tec in tecs:\n",
    "#     df_out1 = make_df(df_out,technology = 'tec', commodity = 'salinewater_region',\n",
    "#                       mode = 'saline',node_dest = country, node_loc= country, \n",
    "#                       value=tecs[tec][2])\n",
    "#     scen.add_par('output', df_out1)"
   ]
  },
  {
   "cell_type": "code",
   "execution_count": 19,
   "metadata": {},
   "outputs": [],
   "source": [
    "# scen.par('output',{'mode':['b1','b2','b3']})"
   ]
  },
  {
   "cell_type": "markdown",
   "metadata": {},
   "source": [
    "### Defining variable costs for water to energy basin tecs"
   ]
  },
  {
   "cell_type": "code",
   "execution_count": 20,
   "metadata": {},
   "outputs": [],
   "source": [
    "tecs = {'water_2_en': ['water_supply_region', 1.0, 300]\n",
    "        #'water_2_en_b2': ['water_supply_region', 1.0, 0.9]\n",
    "       }\n",
    "      \n",
    "for tec in tecs:\n",
    "#     #scen.add_set('technology', tec)\n",
    "#     df_out = make_df(base_output, technology=tec, commodity=tecs[tec][0], \n",
    "#                      level='water_supply', value=tecs[tec][1])\n",
    "\n",
    "#     scen.add_par('output', df_out)\n",
    "\n",
    "    df_var = make_df(base_var_cost, technology=tec, value=tecs[tec][2])\n",
    "    scen.add_par('var_cost', df_var)"
   ]
  },
  {
   "cell_type": "markdown",
   "metadata": {},
   "source": [
    "defining shares of basins"
   ]
  },
  {
   "cell_type": "code",
   "execution_count": 21,
   "metadata": {},
   "outputs": [],
   "source": [
    "shares = 'share_basin'\n",
    "scen.add_set('shares', shares)"
   ]
  },
  {
   "cell_type": "markdown",
   "metadata": {},
   "source": [
    "define total basin tecs"
   ]
  },
  {
   "cell_type": "code",
   "execution_count": 22,
   "metadata": {},
   "outputs": [],
   "source": [
    "# type_tec = 'basin_total'\n",
    "\n",
    "# basin_tecs = ['water_2_en_b1','water_2_en_b2']\n",
    "# for b in basin_tecs:\n",
    "#     scen.add_cat('technology', type_tec, b)\n",
    "# #scen.add_cat('technology', type_tec, 'water_2_en_b1')"
   ]
  },
  {
   "cell_type": "code",
   "execution_count": 23,
   "metadata": {},
   "outputs": [],
   "source": [
    "# mp.close_db()"
   ]
  },
  {
   "cell_type": "markdown",
   "metadata": {},
   "source": [
    "map total share"
   ]
  },
  {
   "cell_type": "code",
   "execution_count": 24,
   "metadata": {},
   "outputs": [],
   "source": [
    "# # Adding data to a set using index names\n",
    "# basins = ['basin_1','basin_2']\n",
    "\n",
    "# for b in basins: \n",
    "#     df = pd.DataFrame({'shares': [shares],\n",
    "#                    'node_share': b,\n",
    "# #                    'node': country,\n",
    "#                    'type_tec': type_tec,\n",
    "#                    'mode': 'fresh',\n",
    "#                    'commodity': 'freshwater_region',\n",
    "#                    'level': 'water_supply_region',\n",
    "# })\n",
    "#     scen.add_set('map_shares_commodity_total', df)\n"
   ]
  },
  {
   "cell_type": "markdown",
   "metadata": {},
   "source": [
    "now map commodity share"
   ]
  },
  {
   "cell_type": "code",
   "execution_count": 25,
   "metadata": {},
   "outputs": [
    {
     "data": {
      "text/plain": [
       "['shares', 'node_share', 'technology', 'mode', 'year_act', 'time']"
      ]
     },
     "execution_count": 25,
     "metadata": {},
     "output_type": "execute_result"
    }
   ],
   "source": [
    "# Example of index names of a set\n",
    "scen.idx_names('share_mode_up')"
   ]
  },
  {
   "cell_type": "code",
   "execution_count": 26,
   "metadata": {},
   "outputs": [
    {
     "data": {
      "text/plain": [
       "['shares', 'node_share', 'year_act', 'time']"
      ]
     },
     "execution_count": 26,
     "metadata": {},
     "output_type": "execute_result"
    }
   ],
   "source": [
    "scen.idx_names('share_commodity_up')"
   ]
  },
  {
   "cell_type": "code",
   "execution_count": 27,
   "metadata": {},
   "outputs": [],
   "source": [
    "# type_tec = 'basin_water'\n",
    "\n",
    "# scen.add_cat('technology', type_tec, 'water_2_en_b1')\n",
    "modes = ['b1','b2','b3']\n",
    "basins = ['basin_1','basin_2','basin_3']\n",
    "\n",
    "modes = {'b1': 0.25,\n",
    "         'b2': 0.35,\n",
    "         'b3': 0.4 }\n",
    "# Reminder: use <scen.idx_names('map_shares_commodity_share')> to see the index names\n",
    "\n",
    "for mode,value in modes.items(): \n",
    "    df = pd.DataFrame({'shares': [shares],\n",
    "                    'node_share': country,\n",
    "                    'technology':'water_2_en',\n",
    "                    'mode': mode,\n",
    "                    'year_act':710,\n",
    "                    'time':'year',\n",
    "                    'value': value\n",
    "})\n",
    "scen.add_par('share_mode_up', df)\n",
    "\n",
    "\n",
    "df = pd.DataFrame({'shares': [shares],\n",
    "                    'node_share': country,\n",
    "                    'technology':'water_2_en',\n",
    "                    'mode': 'b2',\n",
    "                    'year_act':710,\n",
    "                    'time':'year',\n",
    "                    'value': 0.4\n",
    "})\n",
    "scen.add_par('share_mode_up', df)\n",
    "\n",
    "df = pd.DataFrame({'shares': [shares],\n",
    "                    'node_share': country,\n",
    "                    'technology':'water_2_en',\n",
    "                    'mode': 'b3',\n",
    "                    'year_act':710,\n",
    "                    'time':'year',\n",
    "                    'value': 0.3\n",
    "})\n",
    "scen.add_par('share_mode_up', df)\n",
    "\n",
    "df = pd.DataFrame({'shares': [shares],\n",
    "                    'node_share': country,\n",
    "                    'technology':'water_2_en',\n",
    "                    'mode': 'b1',\n",
    "                    'year_act':710,\n",
    "                    'time':'year',\n",
    "                    'value': 0.3\n",
    "})\n",
    "scen.add_par('share_mode_up', df)\n",
    "\n",
    "# for mode,value in modes.items(): \n",
    "#     df = pd.DataFrame({'shares': [shares],\n",
    "#                     'node_share': country,\n",
    "#                     'technology':'water_2_en',\n",
    "#                     'mode': mode,\n",
    "#                     'year_act':700,\n",
    "#                     'time':'year',\n",
    "#                     'value': value\n",
    "# })\n",
    "# scen.add_par('share_mode_up', df)\n",
    "\n",
    "df = pd.DataFrame({'shares': [shares],\n",
    "                    'node_share': country,\n",
    "                    'technology':'water_2_en',\n",
    "                    'mode': 'b1',\n",
    "                    'year_act':700,\n",
    "                    'time':'year',\n",
    "                    'value': 0.2\n",
    "})\n",
    "scen.add_par('share_mode_up', df)\n",
    "\n",
    "\n",
    "df = pd.DataFrame({'shares': [shares],\n",
    "                    'node_share': country,\n",
    "                    'technology':'water_2_en',\n",
    "                    'mode': 'b2',\n",
    "                    'year_act':700,\n",
    "                    'time':'year',\n",
    "                    'value': 0.4\n",
    "})\n",
    "scen.add_par('share_mode_up', df)\n",
    "\n",
    "df = pd.DataFrame({'shares': [shares],\n",
    "                    'node_share': country,\n",
    "                    'technology':'water_2_en',\n",
    "                    'mode': 'b3',\n",
    "                    'year_act':700,\n",
    "                    'time':'year',\n",
    "                    'value': 0.4\n",
    "})\n",
    "scen.add_par('share_mode_up', df)\n",
    "\n",
    "# for mode,value in modes.items(): \n",
    "#     df = pd.DataFrame({'shares': [shares],\n",
    "#                     'node_share': country,\n",
    "#                     'technology':'water_2_en',\n",
    "#                     'mode': mode,\n",
    "#                     'year_act':720,\n",
    "#                     'time':'year',\n",
    "#                     'value': value\n",
    "# })\n",
    "# scen.add_par('share_mode_up', df)"
   ]
  },
  {
   "cell_type": "code",
   "execution_count": 28,
   "metadata": {},
   "outputs": [],
   "source": [
    "# scen.par('share_mode_up')"
   ]
  },
  {
   "cell_type": "code",
   "execution_count": 29,
   "metadata": {},
   "outputs": [],
   "source": [
    "# for mode in modes:\n",
    "    "
   ]
  },
  {
   "cell_type": "markdown",
   "metadata": {},
   "source": [
    "assuming that the highest share from basin can only be 25 % of total water supply to cooling tech"
   ]
  },
  {
   "cell_type": "code",
   "execution_count": 30,
   "metadata": {},
   "outputs": [],
   "source": [
    "# # Defining basin share of water to cooling technology such as 25% of water can be consumed at maximum \n",
    "# df = pd.DataFrame({'shares': shares,\n",
    "#                    'node_share': country,\n",
    "#                    'year_act': [720,],\n",
    "#                    'time': 'year',\n",
    "#                    'value': [.65],\n",
    "#                    'unit': '-'})\n",
    "# scen.add_par('share_commodity_up', df)"
   ]
  },
  {
   "cell_type": "code",
   "execution_count": 31,
   "metadata": {},
   "outputs": [],
   "source": [
    "# scen.par('share_commodity_up')"
   ]
  },
  {
   "cell_type": "markdown",
   "metadata": {},
   "source": [
    "### Now we add parameters for cooling technologies\n",
    "\n",
    "We will be using `water required per heat output` for cooling technologies as input value of cooling technology types. \n"
   ]
  },
  {
   "cell_type": "code",
   "execution_count": 32,
   "metadata": {},
   "outputs": [],
   "source": [
    "# base_input2"
   ]
  },
  {
   "cell_type": "code",
   "execution_count": 33,
   "metadata": {},
   "outputs": [],
   "source": [
    "# {techname: [input commodity, input factor, inv_cost, fix_cost, lifetime]}\n",
    "tecs = {'coal_ppl_ot_fresh': ['freshwater_region','water_supply_region', 0.938, 600., 0., 30.],\n",
    "        'coal_ppl_cl_fresh': ['freshwater_region','water_supply_region', 0.017, 160., 0., 30., \n",
    "                              ['secondary', 'electricity','water_supply_region', 0.017]],\n",
    "        #'coal_ppl_ot_saline': ['salinewater_region','saline_supply_region', 0.938, 150., 0., 30],\n",
    "        'coal_ppl_air': ['electricity','secondary', 0.102, 0.0, 430., 30, 30,\n",
    "                         ['secondary', 'electricity', 0.102]],\n",
    "        }\n",
    "\n",
    "for tec in tecs:\n",
    "    scen.add_set('technology', tec)\n",
    "\n",
    "    if tecs[tec][0]:\n",
    "        df_inp = make_df(base_input2, technology=tec, commodity=tecs[tec][0],  \n",
    "                         level= tecs[tec][1], value=tecs[tec][2], unit='-')\n",
    "        scen.add_par('input', df_inp)\n",
    "\n",
    "    if tec not in ['coal_ppl_ot_fresh', 'coal_ppl_ot_saline']:\n",
    "        df_inv = make_df(base_inv_cost, technology=tec, value=tecs[tec][3])\n",
    "        scen.add_par('inv_cost', df_inv)\n",
    "\n",
    "    df_fix = make_df(base_fix_cost, technology=tec, value=tecs[tec][4])\n",
    "    scen.add_par('fix_cost', df_fix)\n",
    "\n",
    "    df_tl = make_df(base_technical_lifetime, technology=tec, value=tecs[tec][5])\n",
    "    scen.add_par('technical_lifetime', df_tl)\n",
    "    \n",
    "#     if len(tecs[tec]) > 5:\n",
    "#         df_inp = make_df(base_input2, technology=tec, commodity=tecs[tec][5][1],  \n",
    "#                          level=tecs[tec][5][0], value=tecs[tec][5][2], unit='-')\n",
    "#         scen.add_par('input', df_inp)"
   ]
  },
  {
   "cell_type": "code",
   "execution_count": 34,
   "metadata": {},
   "outputs": [],
   "source": [
    "# scen.par('technical_lifetime')"
   ]
  },
  {
   "cell_type": "markdown",
   "metadata": {},
   "source": [
    "## Addon mapping \n",
    "We try to define a single `type_addon` for each power plant. Here we use `coal_ppl` as an example. \n",
    "\n",
    "`type_addon` refers to cooling technologies for `coal_ppl` ,whereas `addon` refers to cooling technology types. "
   ]
  },
  {
   "cell_type": "code",
   "execution_count": 35,
   "metadata": {},
   "outputs": [],
   "source": [
    "# If we need to add more power plants, we will be using more type_addon here and use the heat rate or cooling requirement per unit of output here\n",
    "type_addon = 'coal_ppl_cooling'\n",
    "\n",
    "# Adding cooling technology types \n",
    "addon = list(tecs.keys())\n",
    "\n",
    "scen.add_set('addon', pd.DataFrame({'technology': addon})) \n",
    "\n",
    "# Parent technology to map \n",
    "parent_tec = 'coal_ppl'\n",
    "\n",
    "# Mapping addon with type_addon and parent tech\n",
    "scen.add_cat('addon', type_addon, addon)\n",
    "scen.add_set('map_tec_addon', pd.DataFrame({'technology': parent_tec,\n",
    "                                            'type_addon': [type_addon]}))"
   ]
  },
  {
   "cell_type": "markdown",
   "metadata": {},
   "source": [
    "In this case, we use addon conversion factor for each `type_addon`.Addon conversion factor refers to the heat produced by the parent technology (in this case `coal_ppl`) that is needed to be cooled. \n",
    "For now for simplicity, we are referring to heat rate which is 1/efficiency. In the current scenario would be 5. "
   ]
  },
  {
   "cell_type": "code",
   "execution_count": 36,
   "metadata": {},
   "outputs": [],
   "source": [
    "df = pd.DataFrame({'node': country,\n",
    "                   'technology': parent_tec,\n",
    "                   'year_vtg': vintage_years,\n",
    "                   'year_act': act_years,\n",
    "                   'mode': 'standard',\n",
    "                   'time': 'year',\n",
    "                   'type_addon': type_addon,\n",
    "                   'value': 2,\n",
    "                   'unit': '%'})\n",
    "\n",
    "scen.add_par('addon_conversion', df)"
   ]
  },
  {
   "cell_type": "markdown",
   "metadata": {},
   "source": [
    "Now we bound the activity of `cool_coal_ppl` to 100% share of `coal_ppl` to make sure that all of the heat produced is being cooled."
   ]
  },
  {
   "cell_type": "code",
   "execution_count": 37,
   "metadata": {},
   "outputs": [],
   "source": [
    "df = pd.DataFrame({'node': country,\n",
    "                   'technology': parent_tec,\n",
    "                   'year_act': act_years,\n",
    "                   'mode': 'standard',\n",
    "                   'time': 'year',\n",
    "                   'type_addon': type_addon,\n",
    "                   'value': 1,\n",
    "                   'unit': '%'})\n",
    "scen.add_par('addon_lo', df)"
   ]
  },
  {
   "cell_type": "markdown",
   "metadata": {},
   "source": [
    "## Commit & Solve "
   ]
  },
  {
   "cell_type": "code",
   "execution_count": 38,
   "metadata": {},
   "outputs": [],
   "source": [
    "scen.commit(comment='implement cooling tech')\n",
    "scen.set_as_default()"
   ]
  },
  {
   "cell_type": "code",
   "execution_count": 39,
   "metadata": {},
   "outputs": [],
   "source": [
    "scen.solve()"
   ]
  },
  {
   "cell_type": "markdown",
   "metadata": {},
   "source": [
    "## Using reporting features to see the output of cooling technology. \n",
    "\n",
    "The output dataframe here shows the water required per heat rate of `coal_ppl` (as per our understanding)"
   ]
  },
  {
   "cell_type": "code",
   "execution_count": 40,
   "metadata": {},
   "outputs": [],
   "source": [
    "# Create a reporter from the existing Scenario\n",
    "rep = Reporter.from_scenario(scen)\n",
    "\n",
    "def collapse_callback(df):\n",
    "    \"\"\"Callback function to populate the IAMC 'variable' column.\"\"\"\n",
    "    df['variable'] = df['t']\n",
    "    return df.drop(['t'], axis=1)"
   ]
  },
  {
   "cell_type": "code",
   "execution_count": 41,
   "metadata": {},
   "outputs": [
    {
     "name": "stderr",
     "output_type": "stream",
     "text": [
      "/Users/MuhammadAwais/anaconda3/lib/python3.7/site-packages/ipykernel_launcher.py:7: DeprecationWarning: This method is deprecated and will be removed in future versions. Please use `plot.bar()`.\n",
      "  import sys\n"
     ]
    },
    {
     "data": {
      "text/plain": [
       "<matplotlib.axes._subplots.AxesSubplot at 0x1a460f66d0>"
      ]
     },
     "execution_count": 41,
     "metadata": {},
     "output_type": "execute_result"
    },
    {
     "data": {
      "image/png": "[encoded data removed]",
      "text/plain": [
       "<Figure size 432x288 with 1 Axes>"
      ]
     },
     "metadata": {
      "needs_background": "light"
     },
     "output_type": "display_data"
    }
   ],
   "source": [
    "df = rep.full_key('in')\n",
    "new_key = rep.convert_pyam(\n",
    "    quantities=df.drop('yv', 'm', 'h', 'ho', 'no', 'c', 'l'),\n",
    "    year_time_dim='ya',\n",
    "    collapse=collapse_callback)\n",
    "water_use = rep.get(new_key[0])\n",
    "water_use.filter(variable=addon).bar_plot(stacked=True)"
   ]
  },
  {
   "cell_type": "code",
   "execution_count": 42,
   "metadata": {},
   "outputs": [],
   "source": [
    "mp.close_db()"
   ]
  }
 ],
 "metadata": {
  "kernelspec": {
   "display_name": "Python 3",
   "language": "python",
   "name": "python3"
  },
  "language_info": {
   "codemirror_mode": {
    "name": "ipython",
    "version": 3
   },
   "file_extension": ".py",
   "mimetype": "text/x-python",
   "name": "python",
   "nbconvert_exporter": "python",
   "pygments_lexer": "ipython3",
   "version": "3.7.9"
  }
 },
 "nbformat": 4,
 "nbformat_minor": 2
}
