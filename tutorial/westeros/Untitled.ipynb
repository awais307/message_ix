{
 "cells": [
  {
   "cell_type": "code",
   "execution_count": null,
   "metadata": {},
   "outputs": [],
   "source": [
    "import os\n",
    "\n",
    "import ixmp as ix\n",
    "import message_ix\n",
    "\n",
    "modelName = 'MESSAGEix_GLOBIOM'      # A MESSAGE model name\n",
    "scenarioName = 'baseline'\n",
    "\n",
    "mp = ix.Platform()\n",
    "\n",
    "msgWSC = message_ix.Scenario(mp, modelName, scenarioName)\n",
    "\n"
   ]
  }
 ],
 "metadata": {
  "kernelspec": {
   "display_name": "Python [conda env:root] *",
   "language": "python",
   "name": "conda-root-py"
  },
  "language_info": {
   "codemirror_mode": {
    "name": "ipython",
    "version": 3
   },
   "file_extension": ".py",
   "mimetype": "text/x-python",
   "name": "python",
   "nbconvert_exporter": "python",
   "pygments_lexer": "ipython3",
   "version": "3.7.6"
  }
 },
 "nbformat": 4,
 "nbformat_minor": 4
}
