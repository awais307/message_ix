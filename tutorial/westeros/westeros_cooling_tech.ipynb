{
 "cells": [
  {
   "cell_type": "markdown",
   "metadata": {},
   "source": [
    "# Westeros Tutorial - Implementation of cooling technologies\n",
    "\n"
   ]
  },
  {
   "cell_type": "code",
   "execution_count": null,
   "metadata": {},
   "outputs": [],
   "source": [
    "import pandas as pd\n",
    "import ixmp\n",
    "import message_ix\n",
    "\n",
    "from message_ix.utils import make_df\n",
    "\n",
    "%matplotlib inline"
   ]
  },
  {
   "cell_type": "code",
   "execution_count": null,
   "metadata": {},
   "outputs": [],
   "source": [
    "mp = ixmp.Platform(name = 'local')"
   ]
  },
  {
   "cell_type": "code",
   "execution_count": null,
   "metadata": {},
   "outputs": [],
   "source": [
    "model = 'Westeros Electrified'\n",
    "\n",
    "base = message_ix.Scenario(mp, model=model, scenario='baseline')\n",
    "scen = base.clone(model, 'cooling tech','llustrating cooling tech using addon',\n",
    "                  keep_solution=False)\n",
    "scen.check_out()"
   ]
  },
  {
   "cell_type": "code",
   "execution_count": null,
   "metadata": {},
   "outputs": [],
   "source": [
    "year_df = scen.vintage_and_active_years()\n",
    "vintage_years, act_years = year_df['year_vtg'], year_df['year_act']\n",
    "model_horizon = scen.set('year')\n",
    "country = 'Westeros'"
   ]
  },
  {
   "cell_type": "markdown",
   "metadata": {},
   "source": [
    "## Retrieve parameters to perform subsequent addition of parameters"
   ]
  },
  {
   "cell_type": "code",
   "execution_count": null,
   "metadata": {},
   "outputs": [],
   "source": [
    "#year_df = scen.vintage_and_active_years()\n",
    "vintage_years, act_years = year_df['year_vtg'], year_df['year_act']\n",
    "model_horizon = scen.set('year')\n",
    "country = 'Westeros'\n",
    "gdp_profile = pd.Series([1., 1.5, 1.9], index=pd.Index([700, 710, 720], name='Time'))"
   ]
  },
  {
   "cell_type": "markdown",
   "metadata": {},
   "source": [
    "## Defining input for different parameters \n",
    "\n",
    "We add `water supply` as new level of water supply and `freshwater_supply` & `saline_supply` as commodities"
   ]
  },
  {
   "cell_type": "code",
   "execution_count": null,
   "metadata": {},
   "outputs": [],
   "source": [
    "scen.add_set(\"commodity\", [\"freshwater_supply\", \"saline_supply\",\"cooling_req\",\"freshwater_instream\"])\n",
    "scen.add_set(\"level\", [\"water_supply\",\"cooling\"])"
   ]
  },
  {
   "cell_type": "code",
   "execution_count": null,
   "metadata": {},
   "outputs": [],
   "source": [
    "base_input = {\n",
    "    'node_loc': country,\n",
    "    'year_vtg': vintage_years,\n",
    "    'year_act': act_years,\n",
    "    'mode': 'standard',\n",
    "    'node_origin': country,\n",
    "    'commodity': 'electricity',\n",
    "    'time': 'year',\n",
    "    'time_origin': 'year',\n",
    "}\n",
    "\n",
    "base_output = {\n",
    "    'node_loc': country,\n",
    "    'year_vtg': vintage_years,\n",
    "    'year_act': act_years,\n",
    "    'mode': 'standard',\n",
    "    'node_dest': country,\n",
    "    'time': 'year',\n",
    "    'time_dest': 'year', \n",
    "    'unit': '%',\n",
    "}\n",
    "\n",
    "\n",
    "base_capacity_factor = {\n",
    "    'node_loc': country,\n",
    "    'year_vtg': vintage_years,\n",
    "    'year_act': act_years,\n",
    "    'time': 'year',\n",
    "    'unit': '%',\n",
    "}\n",
    "\n",
    "base_technical_lifetime = {\n",
    "    'node_loc': country,\n",
    "    'year_vtg': model_horizon,\n",
    "    'unit': 'y',\n",
    "}\n",
    "\n",
    "base_inv_cost = {\n",
    "    'node_loc': country,\n",
    "    'year_vtg': model_horizon,\n",
    "    'unit': 'USD/GWa',\n",
    "}\n",
    "\n",
    "base_fix_cost = {\n",
    "    'node_loc': country,\n",
    "    'year_vtg': vintage_years,\n",
    "    'year_act': act_years,\n",
    "    'unit': 'USD/GWa',\n",
    "}\n",
    "\n",
    "base_var_cost = {\n",
    "    'node_loc': country,\n",
    "    'year_vtg': vintage_years,\n",
    "    'year_act': act_years,\n",
    "    'mode': 'standard',\n",
    "    'time': 'year',\n",
    "    'unit': 'USD/GWa',\n",
    "}"
   ]
  },
  {
   "cell_type": "markdown",
   "metadata": {},
   "source": [
    "### addon technology - interlinking technologies\n",
    "In order to demonstrate the use of this feature, we will be adding a new demand for water to this scenario. This demand will be met by the coal_ppl via three cooling technologies, the addon technology.\n",
    "\n",
    "We will therefore go through the following steps:\n",
    "\n",
    "### Define a new demand for heat.\n",
    "Add new technologies:\n",
    "1. Once-through cooling by freshwater - `coal_ppl_ot_fresh`\n",
    "2. Closed loop cooling by freshwater - `coal_ppl_cl_fresh`\n",
    "3. Once through cooling seawater `coal_ppl_ot_saline`\n",
    "4. Air cooling `coal_ppl_air`\n",
    "\n",
    "Link these cooling tehcnologies to the `coal_ppl` using the addon feature.\n",
    "\n",
    "#### Step1: Define a new demand\n",
    "\n",
    "##### Define a new commodity `water`"
   ]
  },
  {
   "cell_type": "code",
   "execution_count": null,
   "metadata": {},
   "outputs": [],
   "source": [
    "scen.add_set(\"commodity\", [\"water_dist\",\"return_flows\"])"
   ]
  },
  {
   "cell_type": "markdown",
   "metadata": {},
   "source": [
    "###### Add water demand at the useful level"
   ]
  },
  {
   "cell_type": "code",
   "execution_count": null,
   "metadata": {},
   "outputs": [],
   "source": [
    "water_demand = pd.DataFrame({\n",
    "        'node': country,\n",
    "        'commodity': 'return_flows',\n",
    "        'level': 'useful',\n",
    "        'year': [700, 710, 720],\n",
    "        'time': 'year',\n",
    "        'value': (5 * gdp_profile).round(),\n",
    "        'unit': '-',\n",
    "    })\n",
    "scen.add_par(\"demand\", water_demand)"
   ]
  },
  {
   "cell_type": "markdown",
   "metadata": {},
   "source": [
    "#### Step2: Define new technologies inlcuding a passout-turbine along with a grid and an in-house heat-distribution system"
   ]
  },
  {
   "cell_type": "code",
   "execution_count": null,
   "metadata": {},
   "outputs": [],
   "source": [
    "tec = 'extract_freshwater_supply'\n",
    "\n",
    "scen.add_set('technology', tec)\n",
    "\n",
    "ext_fresh_water = make_df(base_output, technology=tec, commodity='freshwater_supply', \n",
    "                   level='water_supply', value=1.0)\n",
    "\n",
    "scen.add_par('output', ext_fresh_water)\n",
    "\n",
    "tec = 'extract__freshwater_instream'\n",
    "\n",
    "scen.add_set('technology', tec)\n",
    "\n",
    "ext_freswater_instream  = make_df(base_output, technology=tec, commodity='freshwater_instream', \n",
    "                   level='water_supply', value=1.0)\n",
    "\n",
    "scen.add_par('output', ext_freswater_instream)\n",
    "\n",
    "tec = 'cooling impact'\n",
    "\n",
    "scen.add_set('technology', tec)\n",
    "\n",
    "\n",
    "out = make_df(base_output, technology=tec, commodity='cooling_req', \n",
    "                   level='cooling', value=1.0)\n",
    "\n",
    "scen.add_par('output', out )\n",
    "\n",
    "\n",
    "inp = make_df(base_input, technology=tec, commodity='return_flows',  \n",
    "                  level='useful', value=0.9, unit='-')\n",
    "\n",
    "scen.add_par('input', inp)"
   ]
  },
  {
   "cell_type": "markdown",
   "metadata": {},
   "source": [
    "Now we add parameters for cooling technologies"
   ]
  },
  {
   "cell_type": "code",
   "execution_count": null,
   "metadata": {},
   "outputs": [],
   "source": [
    "tec = 'ct_ot_fresh' \n",
    "scen.add_set('technology', tec)\n",
    "\n",
    "out = make_df(base_output, technology=tec, commodity='cooling_req', \n",
    "                   level='cooling', value=1.0)\n",
    "\n",
    "scen.add_par('output', out )\n",
    "\n",
    "\n",
    "inp = make_df(base_input, technology=tec, commodity='freshwater_supply',  \n",
    "                  level='water_supply', value=0.938, unit='-')\n",
    "\n",
    "scen.add_par('input', inp)\n",
    "\n",
    "\n",
    "invc = make_df(base_inv_cost, technology=tec, value=60)\n",
    "scen.add_par('inv_cost', invc)\n",
    "\n",
    "fixc = make_df(base_fix_cost, technology=tec, value=15)\n",
    "scen.add_par('fix_cost', fixc)\n",
    "\n",
    "tl = make_df(base_technical_lifetime, technology=tec, value=30)\n",
    "scen.add_par('technical_lifetime', tl)\n",
    "\n",
    "\n",
    "tec = 'ct_cl_fresh' \n",
    "\n",
    "scen.add_set('technology', tec)\n",
    "\n",
    "out = make_df(base_output, technology=tec, commodity='cooling_req', \n",
    "                   level='cooling', value=1.0)\n",
    "\n",
    "scen.add_par('output', out)\n",
    "\n",
    "\n",
    "inp = make_df(base_input, technology=tec, commodity='electricity',  \n",
    "                  level='secondary', value=0.017, unit='-')\n",
    "\n",
    "scen.add_par('input', inp)\n",
    "\n",
    "\n",
    "invc = make_df(base_inv_cost, technology=tec, value=700)\n",
    "scen.add_par('inv_cost', invc)\n",
    "\n",
    "fixc = make_df(base_fix_cost, technology=tec, value=15)\n",
    "scen.add_par('fix_cost', fixc)\n",
    "\n",
    "tl = make_df(base_technical_lifetime, technology=tec, value=30)\n",
    "scen.add_par('technical_lifetime', tl)\n",
    "\n",
    "tec = 'ct_ot_saline' \n",
    "\n",
    "scen.add_set('technology', tec)\n",
    "\n",
    "out = make_df(base_output, technology=tec, commodity='cooling_req', \n",
    "                   level='cooling', value=1.0)\n",
    "\n",
    "scen.add_par('output', out)\n",
    "\n",
    "\n",
    "inp = make_df(base_input, technology=tec, commodity='saline_supply',  \n",
    "                  level='water_supply', value=0.938, unit='-')\n",
    "\n",
    "scen.add_par('input', inp)\n",
    "\n",
    "\n",
    "invc = make_df(base_inv_cost, technology=tec, value=200)\n",
    "scen.add_par('inv_cost', invc)\n",
    "\n",
    "fixc = make_df(base_fix_cost, technology=tec, value=15)\n",
    "scen.add_par('fix_cost', fixc)\n",
    "\n",
    "tl = make_df(base_technical_lifetime, technology=tec, value=30)\n",
    "scen.add_par('technical_lifetime', tl)\n",
    "\n",
    "tec = 'ct_air' \n",
    "\n",
    "scen.add_set('technology', tec)\n",
    "\n",
    "out = make_df(base_output, technology=tec, commodity='cooling_req', \n",
    "                   level='cooling', value=1.0)\n",
    "\n",
    "scen.add_par('output', out)\n",
    "\n",
    "\n",
    "inp = make_df(base_input, technology=tec, commodity='electricity',  \n",
    "                  level='secondary', value=0.102, unit='-')\n",
    "\n",
    "scen.add_par('input', inp)\n",
    "\n",
    "\n",
    "invc = make_df(base_inv_cost, technology=tec, value=530)\n",
    "scen.add_par('inv_cost', invc)\n",
    "\n",
    "fixc = make_df(base_fix_cost, technology=tec, value=150)\n",
    "scen.add_par('fix_cost', fixc)\n",
    "\n",
    "tl = make_df(base_technical_lifetime, technology=tec, value=30)\n",
    "scen.add_par('technical_lifetime', tl)"
   ]
  },
  {
   "cell_type": "markdown",
   "metadata": {},
   "source": [
    "Add an addon technology here "
   ]
  },
  {
   "cell_type": "code",
   "execution_count": null,
   "metadata": {},
   "outputs": [],
   "source": [
    "type_addon = 'cooling_technology'\n",
    "\n",
    "addon = ('ct_ot_fresh','ct_cl_fresh','ct_ot_saline','ct_air')\n",
    "\n",
    "tec = 'coal_ppl'\n",
    "\n",
    "scen.add_cat('addon', type_addon, addon)\n",
    "scen.add_set('map_tec_addon', pd.DataFrame({'technology': tec,\n",
    "                                            'type_addon': [type_addon]}))"
   ]
  },
  {
   "cell_type": "code",
   "execution_count": null,
   "metadata": {},
   "outputs": [],
   "source": [
    "\n",
    "df = pd.DataFrame({'node': country,\n",
    "                   'technology': tec,\n",
    "                   'year_vtg': vintage_years,\n",
    "                   'year_act': act_years,\n",
    "                   'mode': 'standard',\n",
    "                   'time': 'year',\n",
    "                   'type_addon': type_addon,\n",
    "                   'value': 5,\n",
    "                   'unit': '%'})\n",
    "\n",
    "scen.add_par('addon_conversion', df)"
   ]
  },
  {
   "cell_type": "markdown",
   "metadata": {},
   "source": [
    "## Commit & Solve "
   ]
  },
  {
   "cell_type": "code",
   "execution_count": null,
   "metadata": {},
   "outputs": [],
   "source": [
    "scen.commit(comment='implement cooling tech')\n",
    "scen.set_as_default()"
   ]
  },
  {
   "cell_type": "code",
   "execution_count": null,
   "metadata": {},
   "outputs": [],
   "source": [
    "scen.solve()"
   ]
  },
  {
   "cell_type": "code",
   "execution_count": null,
   "metadata": {},
   "outputs": [],
   "source": [
    "scen.var('OBJ')['lvl']"
   ]
  },
  {
   "cell_type": "code",
   "execution_count": null,
   "metadata": {},
   "outputs": [],
   "source": [
    "mp.close_db()"
   ]
  }
 ],
 "metadata": {
  "kernelspec": {
   "display_name": "Python 3",
   "language": "python",
   "name": "python3"
  },
  "language_info": {
   "codemirror_mode": {
    "name": "ipython",
    "version": 3
   },
   "file_extension": ".py",
   "mimetype": "text/x-python",
   "name": "python",
   "nbconvert_exporter": "python",
   "pygments_lexer": "ipython3",
   "version": "3.7.6"
  }
 },
 "nbformat": 4,
 "nbformat_minor": 2
}
