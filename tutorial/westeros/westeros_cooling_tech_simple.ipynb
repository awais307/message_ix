{
 "cells": [
  {
   "cell_type": "markdown",
   "metadata": {},
   "source": [
    "# Westeros Tutorial - Implementation of cooling technologies\n",
    "\n"
   ]
  },
  {
   "cell_type": "code",
   "execution_count": 1,
   "metadata": {},
   "outputs": [
    {
     "name": "stderr",
     "output_type": "stream",
     "text": [
      "In /Users/MuhammadAwais/anaconda3/lib/python3.7/site-packages/matplotlib/mpl-data/stylelib/_classic_test.mplstyle: \n",
      "The savefig.frameon rcparam was deprecated in Matplotlib 3.1 and will be removed in 3.3.\n",
      "In /Users/MuhammadAwais/anaconda3/lib/python3.7/site-packages/matplotlib/mpl-data/stylelib/_classic_test.mplstyle: \n",
      "The verbose.level rcparam was deprecated in Matplotlib 3.1 and will be removed in 3.3.\n",
      "In /Users/MuhammadAwais/anaconda3/lib/python3.7/site-packages/matplotlib/mpl-data/stylelib/_classic_test.mplstyle: \n",
      "The verbose.fileo rcparam was deprecated in Matplotlib 3.1 and will be removed in 3.3.\n"
     ]
    },
    {
     "data": {
      "application/javascript": [
       "IPython.OutputArea.prototype._should_scroll = function(lines) { return false; }"
      ],
      "text/plain": [
       "<IPython.core.display.Javascript object>"
      ]
     },
     "metadata": {},
     "output_type": "display_data"
    },
    {
     "name": "stderr",
     "output_type": "stream",
     "text": [
      "pyam - INFO: Running in a notebook, setting `pyam` logging level to `logging.INFO` and adding stderr handler\n"
     ]
    }
   ],
   "source": [
    "import pandas as pd\n",
    "import ixmp\n",
    "import message_ix\n",
    "\n",
    "from message_ix.utils import make_df\n",
    "from message_ix.reporting import Reporter\n",
    "from ixmp.reporting import configure\n",
    "\n",
    "# configure unit \n",
    "configure(units={'replace': {'-': ''}})"
   ]
  },
  {
   "cell_type": "code",
   "execution_count": 2,
   "metadata": {},
   "outputs": [],
   "source": [
    "mp = ixmp.Platform(name = 'local')"
   ]
  },
  {
   "cell_type": "code",
   "execution_count": 3,
   "metadata": {},
   "outputs": [],
   "source": [
    "model = 'Westeros Electrified'\n",
    "\n",
    "base = message_ix.Scenario(mp, model=model, scenario='baseline')\n",
    "scen = base.clone(model, 'addon_cooling_tech', 'illustrating cooling tech using addon',\n",
    "                  keep_solution=False)\n",
    "scen.check_out()"
   ]
  },
  {
   "cell_type": "code",
   "execution_count": 4,
   "metadata": {},
   "outputs": [],
   "source": [
    "year_df = scen.vintage_and_active_years()\n",
    "vintage_years, act_years = year_df['year_vtg'], year_df['year_act']\n",
    "model_horizon = scen.set('year')\n",
    "country = 'Westeros'"
   ]
  },
  {
   "cell_type": "markdown",
   "metadata": {},
   "source": [
    "## Retrieve parameters to perform subsequent addition of parameters"
   ]
  },
  {
   "cell_type": "code",
   "execution_count": 5,
   "metadata": {},
   "outputs": [],
   "source": [
    "#year_df = scen.vintage_and_active_years()\n",
    "vintage_years, act_years = year_df['year_vtg'], year_df['year_act']\n",
    "model_horizon = scen.set('year')\n",
    "country = 'Westeros'\n",
    "gdp_profile = pd.Series([1., 1.5, 1.9], index=pd.Index([700, 710, 720], name='Time'))"
   ]
  },
  {
   "cell_type": "markdown",
   "metadata": {},
   "source": [
    "### Define helper functions"
   ]
  },
  {
   "cell_type": "code",
   "execution_count": 6,
   "metadata": {},
   "outputs": [],
   "source": [
    "base_input = {\n",
    "    'node_loc': country,\n",
    "    'year_vtg': vintage_years,\n",
    "    'year_act': act_years,\n",
    "    'mode': 'standard',\n",
    "    'node_origin': country,\n",
    "    'commodity': 'electricity',\n",
    "    'time': 'year',\n",
    "    'time_origin': 'year',\n",
    "}\n",
    "\n",
    "base_output = {\n",
    "    'node_loc': country,\n",
    "    'year_vtg': vintage_years,\n",
    "    'year_act': act_years,\n",
    "    'mode': 'standard',\n",
    "    'node_dest': country,\n",
    "    'time': 'year',\n",
    "    'time_dest': 'year', \n",
    "    'unit': '%',\n",
    "}\n",
    "\n",
    "\n",
    "base_capacity_factor = {\n",
    "    'node_loc': country,\n",
    "    'year_vtg': vintage_years,\n",
    "    'year_act': act_years,\n",
    "    'time': 'year',\n",
    "    'unit': '%',\n",
    "}\n",
    "\n",
    "base_technical_lifetime = {\n",
    "    'node_loc': country,\n",
    "    'year_vtg': model_horizon,\n",
    "    'unit': 'y',\n",
    "}\n",
    "\n",
    "base_inv_cost = {\n",
    "    'node_loc': country,\n",
    "    'year_vtg': model_horizon,\n",
    "    'unit': 'USD/kW',\n",
    "}\n",
    "\n",
    "base_fix_cost = {\n",
    "    'node_loc': country,\n",
    "    'year_vtg': vintage_years,\n",
    "    'year_act': act_years,\n",
    "    'unit': 'USD/kW',\n",
    "}\n",
    "\n",
    "base_var_cost = {\n",
    "    'node_loc': country,\n",
    "    'year_vtg': vintage_years,\n",
    "    'year_act': act_years,\n",
    "    'mode': 'standard',\n",
    "    'time': 'year',\n",
    "    'unit': 'USD/kWa',\n",
    "}\n",
    "\n",
    "base_growth = {\n",
    "    'node_loc': country,\n",
    "    'year_act': model_horizon,\n",
    "    'time': 'year',\n",
    "    'unit': '-',\n",
    "}\n",
    "\n",
    "base_capacity = {\n",
    "    'node_loc': country,\n",
    "    'year_vtg': model_horizon,\n",
    "    'unit': 'GW',\n",
    "}\n",
    "\n",
    "base_activity = {\n",
    "    'node_loc': country,\n",
    "    'year_act': act_years,\n",
    "    'mode': 'standard',\n",
    "    'time': 'year',\n",
    "    'unit': 'GWa',\n",
    "}"
   ]
  },
  {
   "cell_type": "markdown",
   "metadata": {},
   "source": [
    "## Defining new levels and commodities\n",
    "Two new `levels` are added to the model:\n",
    "1. `water_supply` will be used to model the water flows.\n",
    "2. `cooling` will be used to model the cooling requirements."
   ]
  },
  {
   "cell_type": "code",
   "execution_count": 7,
   "metadata": {},
   "outputs": [],
   "source": [
    "scen.add_set(\"level\", [\"water_supply\"])\n",
    "scen.add_set(\"commodity\", [\"freshwater_supply\", \"saline_supply\"])\n",
    "\n",
    "scen.add_set(\"level\", [\"cooling\"])\n",
    "scen.add_set(\"commodity\", [\"cooling_req\"])"
   ]
  },
  {
   "cell_type": "markdown",
   "metadata": {},
   "source": [
    "### addon technology - interlinking technologies\n",
    "In order to demonstrate the use of this feature, we will be adding a new demand for water to this scenario. This demand will be met by the coal_ppl via three cooling technologies, the addon technology.\n",
    "\n",
    "We will therefore go through the following steps:\n",
    "\n",
    "#### Cooling technology types\n",
    "Add new technologies:\n",
    "1. Once-through cooling by freshwater - `coal_ppl_ot_fresh`\n",
    "2. Closed loop cooling by freshwater - `coal_ppl_cl_fresh`\n",
    "3. Once through cooling seawater `coal_ppl_ot_saline`\n",
    "4. Air cooling `coal_ppl_air`\n",
    "\n",
    "Link these cooling tehcnologies to the `coal_ppl` using the addon feature.\n",
    "\n",
    "## Adding freshwater supply & instream extraction as techs\n",
    "\n",
    "The water supply technologies have only input & output dataframe in model. \n",
    "\n",
    "*At some point, we may want to link it to global water supply model in future\n"
   ]
  },
  {
   "cell_type": "code",
   "execution_count": 8,
   "metadata": {},
   "outputs": [],
   "source": [
    "# New Technology used for depicting water sources\n",
    "# {tech name: [output commodity, output factor, varaible cost]}\n",
    "tecs = {'extract_freshwater_supply': ['freshwater_supply', 1.0, 0.0001],\n",
    "        'extract_saline_supply': ['saline_supply', 1.0, 0.0001]\n",
    "       }\n",
    "      \n",
    "for tec in tecs:\n",
    "    scen.add_set('technology', tec)\n",
    "    df_out = make_df(base_output, technology=tec, commodity=tecs[tec][0], \n",
    "                     level='water_supply', value=tecs[tec][1])\n",
    "\n",
    "    scen.add_par('output', df_out)\n",
    "\n",
    "    df_var = make_df(base_var_cost, technology=tec, value=tecs[tec][2])\n",
    "    scen.add_par('var_cost', df_var)"
   ]
  },
  {
   "cell_type": "markdown",
   "metadata": {},
   "source": [
    "### Now we add parameters for cooling technologies\n",
    "\n",
    "We will be using `water required per heat output` for cooling technologies as input value of cooling technology types. \n"
   ]
  },
  {
   "cell_type": "code",
   "execution_count": 9,
   "metadata": {},
   "outputs": [],
   "source": [
    "# {techname: [input commodity, input factor, inv_cost, fix_cost, lifetime]}\n",
    "tecs = {'coal_ppl_ot_fresh': ['freshwater_supply', 0.938, 600., 0., 30.],\n",
    "        'coal_ppl_cl_fresh': ['freshwater_supply', 0.017, 160., 0., 30., \n",
    "                              ['secondary', 'electricity', 0.017]],\n",
    "        'coal_ppl_ot_saline': ['saline_supply', 0.938, 150., 0., 30],\n",
    "        'coal_ppl_air': [None, 0.0, 430., 0., 30,\n",
    "                         ['secondary', 'electricity', 0.102]],\n",
    "        }\n",
    "\n",
    "for tec in tecs:\n",
    "    scen.add_set('technology', tec)\n",
    "\n",
    "    if tecs[tec][0]:\n",
    "        df_inp = make_df(base_input, technology=tec, commodity=tecs[tec][0],  \n",
    "                         level='water_supply', value=tecs[tec][1], unit='-')\n",
    "        scen.add_par('input', df_inp)\n",
    "\n",
    "    if tec not in ['coal_ppl_ot_fresh', 'coal_ppl_ot_saline']:\n",
    "        df_inv = make_df(base_inv_cost, technology=tec, value=tecs[tec][2])\n",
    "        scen.add_par('inv_cost', df_inv)\n",
    "\n",
    "    df_fix = make_df(base_fix_cost, technology=tec, value=tecs[tec][3])\n",
    "    scen.add_par('fix_cost', df_fix)\n",
    "\n",
    "    df_tl = make_df(base_technical_lifetime, technology=tec, value=tecs[tec][4])\n",
    "    scen.add_par('technical_lifetime', df_tl)\n",
    "    \n",
    "    if len(tecs[tec]) > 5:\n",
    "        df_inp = make_df(base_input, technology=tec, commodity=tecs[tec][5][1],  \n",
    "                         level=tecs[tec][5][0], value=tecs[tec][5][2], unit='-')\n",
    "        scen.add_par('input', df_inp)"
   ]
  },
  {
   "cell_type": "markdown",
   "metadata": {},
   "source": [
    "## Addon mapping \n",
    "We try to define a single `type_addon` for each power plant. Here we use `coal_ppl` as an example. \n",
    "\n",
    "`type_addon` refers to cooling technologies for `coal_ppl` ,whereas `addon` refers to cooling technology types. "
   ]
  },
  {
   "cell_type": "code",
   "execution_count": 10,
   "metadata": {},
   "outputs": [],
   "source": [
    "# If we need to add more power plants, we will be using more type_addon here and use the heat rate or cooling requirement per unit of output here\n",
    "type_addon = 'coal_ppl_cooling'\n",
    "\n",
    "# Adding cooling technology types \n",
    "addon = list(tecs.keys())\n",
    "\n",
    "scen.add_set('addon', pd.DataFrame({'technology': addon})) \n",
    "\n",
    "# Parent technology to map \n",
    "parent_tec = 'coal_ppl'\n",
    "\n",
    "# Mapping addon with type_addon and parent tech\n",
    "scen.add_cat('addon', type_addon, addon)\n",
    "scen.add_set('map_tec_addon', pd.DataFrame({'technology': parent_tec,\n",
    "                                            'type_addon': [type_addon]}))"
   ]
  },
  {
   "cell_type": "markdown",
   "metadata": {},
   "source": [
    "In this case, we use addon conversion factor for each `type_addon`.Addon conversion factor refers to the heat produced by the parent technology (in this case `coal_ppl`) that is needed to be cooled. \n",
    "For now for simplicity, we are referring to heat rate which is 1/efficiency. In the current scenario would be 5. "
   ]
  },
  {
   "cell_type": "code",
   "execution_count": 11,
   "metadata": {},
   "outputs": [],
   "source": [
    "df = pd.DataFrame({'node': country,\n",
    "                   'technology': parent_tec,\n",
    "                   'year_vtg': vintage_years,\n",
    "                   'year_act': act_years,\n",
    "                   'mode': 'standard',\n",
    "                   'time': 'year',\n",
    "                   'type_addon': type_addon,\n",
    "                   'value': 2,\n",
    "                   'unit': '%'})\n",
    "\n",
    "scen.add_par('addon_conversion', df)"
   ]
  },
  {
   "cell_type": "markdown",
   "metadata": {},
   "source": [
    "Now we bound the activity of `cool_coal_ppl` to 100% share of `coal_ppl` to make sure that all of the heat produced is being cooled."
   ]
  },
  {
   "cell_type": "code",
   "execution_count": 12,
   "metadata": {},
   "outputs": [],
   "source": [
    "df = pd.DataFrame({'node': country,\n",
    "                   'technology': parent_tec,\n",
    "                   'year_act': act_years,\n",
    "                   'mode': 'standard',\n",
    "                   'time': 'year',\n",
    "                   'type_addon': type_addon,\n",
    "                   'value': 1,\n",
    "                   'unit': '%'})\n",
    "scen.add_par('addon_lo', df)"
   ]
  },
  {
   "cell_type": "markdown",
   "metadata": {},
   "source": [
    "## Commit & Solve "
   ]
  },
  {
   "cell_type": "code",
   "execution_count": 13,
   "metadata": {},
   "outputs": [],
   "source": [
    "scen.commit(comment='implement cooling tech')\n",
    "scen.set_as_default()"
   ]
  },
  {
   "cell_type": "code",
   "execution_count": 14,
   "metadata": {},
   "outputs": [],
   "source": [
    "scen.solve()"
   ]
  },
  {
   "cell_type": "markdown",
   "metadata": {},
   "source": [
    "## Using reporting features to see the output of cooling technology. \n",
    "\n",
    "The output dataframe here shows the water required per heat rate of `coal_ppl` (as per our understanding)"
   ]
  },
  {
   "cell_type": "code",
   "execution_count": 15,
   "metadata": {},
   "outputs": [],
   "source": [
    "# Create a reporter from the existing Scenario\n",
    "rep = Reporter.from_scenario(scen)\n",
    "\n",
    "def collapse_callback(df):\n",
    "    \"\"\"Callback function to populate the IAMC 'variable' column.\"\"\"\n",
    "    df['variable'] = df['t']\n",
    "    return df.drop(['t'], axis=1)"
   ]
  },
  {
   "cell_type": "code",
   "execution_count": 16,
   "metadata": {},
   "outputs": [
    {
     "data": {
      "text/plain": [
       "<matplotlib.axes._subplots.AxesSubplot at 0x1a457ce910>"
      ]
     },
     "execution_count": 16,
     "metadata": {},
     "output_type": "execute_result"
    },
    {
     "data": {
      "image/png": "[encoded data removed]",
      "text/plain": [
       "<Figure size 432x288 with 1 Axes>"
      ]
     },
     "metadata": {
      "needs_background": "light"
     },
     "output_type": "display_data"
    }
   ],
   "source": [
    "df = rep.full_key('in')\n",
    "new_key = rep.convert_pyam(\n",
    "    quantities=df.drop('yv', 'm', 'h', 'ho', 'no', 'c', 'l'),\n",
    "    year_time_dim='ya',\n",
    "    collapse=collapse_callback)\n",
    "water_use = rep.get(new_key[0])\n",
    "water_use.filter(variable=addon).bar_plot(stacked=True)"
   ]
  },
  {
   "cell_type": "code",
   "execution_count": 17,
   "metadata": {},
   "outputs": [],
   "source": [
    "#mp.close_db()"
   ]
  }
 ],
 "metadata": {
  "kernelspec": {
   "display_name": "Python 3",
   "language": "python",
   "name": "python3"
  },
  "language_info": {
   "codemirror_mode": {
    "name": "ipython",
    "version": 3
   },
   "file_extension": ".py",
   "mimetype": "text/x-python",
   "name": "python",
   "nbconvert_exporter": "python",
   "pygments_lexer": "ipython3",
   "version": "3.7.6"
  }
 },
 "nbformat": 4,
 "nbformat_minor": 2
}
